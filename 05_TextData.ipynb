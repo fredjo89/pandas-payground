{
 "cells": [
  {
   "cell_type": "code",
   "execution_count": 1,
   "id": "1c0ea95a-7749-472a-a957-3e74ca980307",
   "metadata": {},
   "outputs": [
    {
     "data": {
      "text/html": [
       "\n",
       "                <script type=\"application/javascript\" id=\"jupyter_black\">\n",
       "                (function() {\n",
       "                    if (window.IPython === undefined) {\n",
       "                        return\n",
       "                    }\n",
       "                    var msg = \"WARNING: it looks like you might have loaded \" +\n",
       "                        \"jupyter_black in a non-lab notebook with \" +\n",
       "                        \"`is_lab=True`. Please double check, and if \" +\n",
       "                        \"loading with `%load_ext` please review the README!\"\n",
       "                    console.log(msg)\n",
       "                    alert(msg)\n",
       "                })()\n",
       "                </script>\n",
       "                "
      ],
      "text/plain": [
       "<IPython.core.display.HTML object>"
      ]
     },
     "metadata": {},
     "output_type": "display_data"
    }
   ],
   "source": [
    "import os\n",
    "import pandas as pd\n",
    "import jupyter_black\n",
    "\n",
    "jupyter_black.load()\n",
    "\n",
    "current_dir = os.path.dirname(os.path.abspath(\"__file__\"))"
   ]
  },
  {
   "cell_type": "markdown",
   "id": "cca734e5-e365-439a-be55-70ea76bc2515",
   "metadata": {
    "tags": []
   },
   "source": [
    "### Set file path to datasets"
   ]
  },
  {
   "cell_type": "code",
   "execution_count": 2,
   "id": "db01d955-9eb5-44bd-8ec3-baa1e6b12346",
   "metadata": {},
   "outputs": [],
   "source": [
    "chicago_path = os.path.join(current_dir, \"data\", \"chicago.csv\")"
   ]
  },
  {
   "cell_type": "code",
   "execution_count": 3,
   "id": "5a793a93-767d-4771-b411-8db5e1deb699",
   "metadata": {},
   "outputs": [
    {
     "name": "stdout",
     "output_type": "stream",
     "text": [
      "<class 'pandas.core.frame.DataFrame'>\n",
      "Int64Index: 32062 entries, 0 to 32061\n",
      "Data columns (total 4 columns):\n",
      " #   Column                  Non-Null Count  Dtype   \n",
      "---  ------                  --------------  -----   \n",
      " 0   Name                    32062 non-null  object  \n",
      " 1   Position Title          32062 non-null  category\n",
      " 2   Department              32062 non-null  category\n",
      " 3   Employee Annual Salary  32062 non-null  object  \n",
      "dtypes: category(2), object(2)\n",
      "memory usage: 887.5+ KB\n"
     ]
    }
   ],
   "source": [
    "chicago = pd.read_csv(chicago_path).dropna(how=\"all\")\n",
    "chicago[\"Department\"] = chicago[\"Department\"].astype(\"category\")\n",
    "chicago[\"Position Title\"] = chicago[\"Position Title\"].astype(\"category\")\n",
    "chicago.info()"
   ]
  },
  {
   "cell_type": "markdown",
   "id": "fcd35ed9-5c38-4de4-8b05-677ba0e414e3",
   "metadata": {},
   "source": [
    "### Common String-methods - `lower`, `upper` and `len`"
   ]
  },
  {
   "cell_type": "code",
   "execution_count": 4,
   "id": "b1cc1833-5002-4f86-b807-da5605568703",
   "metadata": {},
   "outputs": [
    {
     "data": {
      "text/plain": [
       "'Hello World'"
      ]
     },
     "execution_count": 4,
     "metadata": {},
     "output_type": "execute_result"
    }
   ],
   "source": [
    "\"Hello World\".lower()\n",
    "\"Hello World\".upper()\n",
    "len(\"Hello World\")\n",
    "\"hello world\".capitalize()\n",
    "\"hello world\".title()"
   ]
  },
  {
   "cell_type": "markdown",
   "id": "2aaf40d8-08a7-4a95-8c5a-923632f529f8",
   "metadata": {},
   "source": [
    "To apply a string-method on a column of a dataframe, one needs to start with `.str`:"
   ]
  },
  {
   "cell_type": "code",
   "execution_count": 5,
   "id": "cabc0de0-2a0d-4131-8d3e-23f73be14e48",
   "metadata": {},
   "outputs": [
    {
     "data": {
      "text/html": [
       "<div>\n",
       "<style scoped>\n",
       "    .dataframe tbody tr th:only-of-type {\n",
       "        vertical-align: middle;\n",
       "    }\n",
       "\n",
       "    .dataframe tbody tr th {\n",
       "        vertical-align: top;\n",
       "    }\n",
       "\n",
       "    .dataframe thead th {\n",
       "        text-align: right;\n",
       "    }\n",
       "</style>\n",
       "<table border=\"1\" class=\"dataframe\">\n",
       "  <thead>\n",
       "    <tr style=\"text-align: right;\">\n",
       "      <th></th>\n",
       "      <th>Name</th>\n",
       "      <th>Position Title</th>\n",
       "      <th>Department</th>\n",
       "      <th>Employee Annual Salary</th>\n",
       "    </tr>\n",
       "  </thead>\n",
       "  <tbody>\n",
       "    <tr>\n",
       "      <th>0</th>\n",
       "      <td>AARON,  ELVIA J</td>\n",
       "      <td>WATER RATE TAKER</td>\n",
       "      <td>WATER MGMNT</td>\n",
       "      <td>$90744.00</td>\n",
       "    </tr>\n",
       "    <tr>\n",
       "      <th>1</th>\n",
       "      <td>AARON,  JEFFERY M</td>\n",
       "      <td>POLICE OFFICER</td>\n",
       "      <td>POLICE</td>\n",
       "      <td>$84450.00</td>\n",
       "    </tr>\n",
       "    <tr>\n",
       "      <th>2</th>\n",
       "      <td>AARON,  KARINA</td>\n",
       "      <td>POLICE OFFICER</td>\n",
       "      <td>POLICE</td>\n",
       "      <td>$84450.00</td>\n",
       "    </tr>\n",
       "  </tbody>\n",
       "</table>\n",
       "</div>"
      ],
      "text/plain": [
       "                Name    Position Title   Department Employee Annual Salary\n",
       "0    AARON,  ELVIA J  WATER RATE TAKER  WATER MGMNT              $90744.00\n",
       "1  AARON,  JEFFERY M    POLICE OFFICER       POLICE              $84450.00\n",
       "2     AARON,  KARINA    POLICE OFFICER       POLICE              $84450.00"
      ]
     },
     "metadata": {},
     "output_type": "display_data"
    },
    {
     "data": {
      "text/html": [
       "<div>\n",
       "<style scoped>\n",
       "    .dataframe tbody tr th:only-of-type {\n",
       "        vertical-align: middle;\n",
       "    }\n",
       "\n",
       "    .dataframe tbody tr th {\n",
       "        vertical-align: top;\n",
       "    }\n",
       "\n",
       "    .dataframe thead th {\n",
       "        text-align: right;\n",
       "    }\n",
       "</style>\n",
       "<table border=\"1\" class=\"dataframe\">\n",
       "  <thead>\n",
       "    <tr style=\"text-align: right;\">\n",
       "      <th></th>\n",
       "      <th>Name</th>\n",
       "      <th>Position Title</th>\n",
       "      <th>Department</th>\n",
       "      <th>Employee Annual Salary</th>\n",
       "    </tr>\n",
       "  </thead>\n",
       "  <tbody>\n",
       "    <tr>\n",
       "      <th>0</th>\n",
       "      <td>Aaron,  Elvia J</td>\n",
       "      <td>Water Rate Taker</td>\n",
       "      <td>Water Mgmnt</td>\n",
       "      <td>$90744.00</td>\n",
       "    </tr>\n",
       "    <tr>\n",
       "      <th>1</th>\n",
       "      <td>Aaron,  Jeffery M</td>\n",
       "      <td>Police Officer</td>\n",
       "      <td>Police</td>\n",
       "      <td>$84450.00</td>\n",
       "    </tr>\n",
       "    <tr>\n",
       "      <th>2</th>\n",
       "      <td>Aaron,  Karina</td>\n",
       "      <td>Police Officer</td>\n",
       "      <td>Police</td>\n",
       "      <td>$84450.00</td>\n",
       "    </tr>\n",
       "  </tbody>\n",
       "</table>\n",
       "</div>"
      ],
      "text/plain": [
       "                Name    Position Title   Department Employee Annual Salary\n",
       "0    Aaron,  Elvia J  Water Rate Taker  Water Mgmnt              $90744.00\n",
       "1  Aaron,  Jeffery M    Police Officer       Police              $84450.00\n",
       "2     Aaron,  Karina    Police Officer       Police              $84450.00"
      ]
     },
     "execution_count": 5,
     "metadata": {},
     "output_type": "execute_result"
    }
   ],
   "source": [
    "display(chicago.head(3))\n",
    "chicago[\"Name\"] = chicago[\"Name\"].str.title()\n",
    "chicago[\"Position Title\"] = chicago[\"Position Title\"].str.title()\n",
    "chicago[\"Department\"] = chicago[\"Department\"].str.title()\n",
    "\n",
    "chicago.head(3)"
   ]
  },
  {
   "cell_type": "markdown",
   "id": "89117a86-bf3a-48a7-9d4f-45f179c86599",
   "metadata": {},
   "source": [
    "### The `.str.replace()` method"
   ]
  },
  {
   "cell_type": "code",
   "execution_count": 6,
   "id": "dad4b76e-96c2-4118-a6d3-dce03e14b08c",
   "metadata": {},
   "outputs": [
    {
     "data": {
      "text/html": [
       "<div>\n",
       "<style scoped>\n",
       "    .dataframe tbody tr th:only-of-type {\n",
       "        vertical-align: middle;\n",
       "    }\n",
       "\n",
       "    .dataframe tbody tr th {\n",
       "        vertical-align: top;\n",
       "    }\n",
       "\n",
       "    .dataframe thead th {\n",
       "        text-align: right;\n",
       "    }\n",
       "</style>\n",
       "<table border=\"1\" class=\"dataframe\">\n",
       "  <thead>\n",
       "    <tr style=\"text-align: right;\">\n",
       "      <th></th>\n",
       "      <th>Name</th>\n",
       "      <th>Position Title</th>\n",
       "      <th>Department</th>\n",
       "      <th>Employee Annual Salary ($)</th>\n",
       "    </tr>\n",
       "  </thead>\n",
       "  <tbody>\n",
       "    <tr>\n",
       "      <th>0</th>\n",
       "      <td>Aaron,  Elvia J</td>\n",
       "      <td>Water Rate Taker</td>\n",
       "      <td>Water Mgmnt</td>\n",
       "      <td>90744.0</td>\n",
       "    </tr>\n",
       "    <tr>\n",
       "      <th>1</th>\n",
       "      <td>Aaron,  Jeffery M</td>\n",
       "      <td>Police Officer</td>\n",
       "      <td>Police</td>\n",
       "      <td>84450.0</td>\n",
       "    </tr>\n",
       "    <tr>\n",
       "      <th>2</th>\n",
       "      <td>Aaron,  Karina</td>\n",
       "      <td>Police Officer</td>\n",
       "      <td>Police</td>\n",
       "      <td>84450.0</td>\n",
       "    </tr>\n",
       "  </tbody>\n",
       "</table>\n",
       "</div>"
      ],
      "text/plain": [
       "                Name    Position Title   Department  \\\n",
       "0    Aaron,  Elvia J  Water Rate Taker  Water Mgmnt   \n",
       "1  Aaron,  Jeffery M    Police Officer       Police   \n",
       "2     Aaron,  Karina    Police Officer       Police   \n",
       "\n",
       "   Employee Annual Salary ($)  \n",
       "0                     90744.0  \n",
       "1                     84450.0  \n",
       "2                     84450.0  "
      ]
     },
     "execution_count": 6,
     "metadata": {},
     "output_type": "execute_result"
    }
   ],
   "source": [
    "chicago[\"Employee Annual Salary\"] = (\n",
    "    chicago[\"Employee Annual Salary\"].str.replace(\"$\", \"\", regex=False).astype(\"float\")\n",
    ")\n",
    "chicago = chicago.rename(\n",
    "    columns={\"Employee Annual Salary\": \"Employee Annual Salary ($)\"}\n",
    ")\n",
    "\n",
    "chicago[\"Department\"] = chicago[\"Department\"].str.replace(\"MGMNT\", \"MANAGEMENT\")\n",
    "\n",
    "chicago.head(3)"
   ]
  },
  {
   "cell_type": "markdown",
   "id": "894a01e3-7880-4e80-936c-124cf5af2a43",
   "metadata": {},
   "source": [
    "### Filtering with String Methods"
   ]
  },
  {
   "cell_type": "code",
   "execution_count": 7,
   "id": "57cce0e0-fc6a-4e3b-afb6-1531615bda9e",
   "metadata": {},
   "outputs": [
    {
     "data": {
      "text/html": [
       "<div>\n",
       "<style scoped>\n",
       "    .dataframe tbody tr th:only-of-type {\n",
       "        vertical-align: middle;\n",
       "    }\n",
       "\n",
       "    .dataframe tbody tr th {\n",
       "        vertical-align: top;\n",
       "    }\n",
       "\n",
       "    .dataframe thead th {\n",
       "        text-align: right;\n",
       "    }\n",
       "</style>\n",
       "<table border=\"1\" class=\"dataframe\">\n",
       "  <thead>\n",
       "    <tr style=\"text-align: right;\">\n",
       "      <th></th>\n",
       "      <th>Name</th>\n",
       "      <th>Position Title</th>\n",
       "      <th>Department</th>\n",
       "      <th>Employee Annual Salary ($)</th>\n",
       "    </tr>\n",
       "  </thead>\n",
       "  <tbody>\n",
       "    <tr>\n",
       "      <th>184</th>\n",
       "      <td>Afroz,  Nayyar</td>\n",
       "      <td>Psychiatrist</td>\n",
       "      <td>Health</td>\n",
       "      <td>99840.0</td>\n",
       "    </tr>\n",
       "    <tr>\n",
       "      <th>308</th>\n",
       "      <td>Alarcon,  Luis J</td>\n",
       "      <td>Loan Processing Specialist</td>\n",
       "      <td>Community Development</td>\n",
       "      <td>81948.0</td>\n",
       "    </tr>\n",
       "    <tr>\n",
       "      <th>422</th>\n",
       "      <td>Allain,  Carolyn</td>\n",
       "      <td>Senior Telecommunications Specialist</td>\n",
       "      <td>Doit</td>\n",
       "      <td>89880.0</td>\n",
       "    </tr>\n",
       "  </tbody>\n",
       "</table>\n",
       "</div>"
      ],
      "text/plain": [
       "                 Name                        Position Title  \\\n",
       "184    Afroz,  Nayyar                          Psychiatrist   \n",
       "308  Alarcon,  Luis J            Loan Processing Specialist   \n",
       "422  Allain,  Carolyn  Senior Telecommunications Specialist   \n",
       "\n",
       "                Department  Employee Annual Salary ($)  \n",
       "184                 Health                     99840.0  \n",
       "308  Community Development                     81948.0  \n",
       "422                   Doit                     89880.0  "
      ]
     },
     "execution_count": 7,
     "metadata": {},
     "output_type": "execute_result"
    }
   ],
   "source": [
    "mask = chicago[\"Position Title\"].str.lower().str.contains(\"water\")\n",
    "chicago[mask].head(3)\n",
    "\n",
    "mask = chicago[\"Position Title\"].str.lower().str.startswith(\"water\")\n",
    "chicago[mask].head(3)\n",
    "\n",
    "mask = chicago[\"Position Title\"].str.lower().str.endswith(\"ist\")\n",
    "chicago[mask].head(3)"
   ]
  },
  {
   "cell_type": "markdown",
   "id": "e4df583d-ecb8-4b9c-8c41-7140e2ba15c5",
   "metadata": {},
   "source": [
    "### More string methods: `strip()`, `lstrip()` and `rstrip()`"
   ]
  },
  {
   "cell_type": "code",
   "execution_count": 8,
   "id": "9e853726-7a14-42ee-8576-3e0c10bb0d9e",
   "metadata": {},
   "outputs": [],
   "source": [
    "chicago[\"Name\"] = chicago[\"Name\"].str.strip()\n",
    "chicago[\"Position Title\"] = chicago[\"Position Title\"].str.strip()\n",
    "chicago[\"Department\"] = chicago[\"Department\"].str.strip()"
   ]
  },
  {
   "cell_type": "markdown",
   "id": "9f236893-403d-4eb6-8eaa-3287d735179d",
   "metadata": {},
   "source": [
    "### String methods on Index and Columns"
   ]
  },
  {
   "cell_type": "code",
   "execution_count": 9,
   "id": "2e171bb9-ff82-431d-b02f-d13d327ec3d2",
   "metadata": {},
   "outputs": [],
   "source": [
    "chicago = chicago.set_index(\"Name\")\n",
    "chicago.index = chicago.index.str.strip().str.title()"
   ]
  },
  {
   "cell_type": "markdown",
   "id": "f20d5346-5df0-4d81-90db-da6a2e123979",
   "metadata": {},
   "source": [
    "### Split Strings by Characters with the `.split` Method"
   ]
  },
  {
   "cell_type": "code",
   "execution_count": 10,
   "id": "8162ca78-7aa4-4d94-b2cb-ea9150f9b939",
   "metadata": {},
   "outputs": [],
   "source": [
    "chicago = chicago.reset_index()\n",
    "chicago2 = chicago.copy()"
   ]
  },
  {
   "cell_type": "markdown",
   "id": "a5a1f9f5-18cd-4543-adcc-955e54bab2ba",
   "metadata": {},
   "source": [
    "The first way to do it:"
   ]
  },
  {
   "cell_type": "code",
   "execution_count": 11,
   "id": "bd3b17ed-f3c2-4a40-bd27-c13a94faee88",
   "metadata": {},
   "outputs": [
    {
     "data": {
      "text/html": [
       "<div>\n",
       "<style scoped>\n",
       "    .dataframe tbody tr th:only-of-type {\n",
       "        vertical-align: middle;\n",
       "    }\n",
       "\n",
       "    .dataframe tbody tr th {\n",
       "        vertical-align: top;\n",
       "    }\n",
       "\n",
       "    .dataframe thead th {\n",
       "        text-align: right;\n",
       "    }\n",
       "</style>\n",
       "<table border=\"1\" class=\"dataframe\">\n",
       "  <thead>\n",
       "    <tr style=\"text-align: right;\">\n",
       "      <th></th>\n",
       "      <th>Name</th>\n",
       "      <th>First Name</th>\n",
       "      <th>Last Name</th>\n",
       "      <th>Position Title</th>\n",
       "      <th>Department</th>\n",
       "      <th>Employee Annual Salary ($)</th>\n",
       "    </tr>\n",
       "  </thead>\n",
       "  <tbody>\n",
       "    <tr>\n",
       "      <th>0</th>\n",
       "      <td>Aaron,  Elvia J</td>\n",
       "      <td>Elvia J</td>\n",
       "      <td>Aaron</td>\n",
       "      <td>Water Rate Taker</td>\n",
       "      <td>Water Mgmnt</td>\n",
       "      <td>90744.0</td>\n",
       "    </tr>\n",
       "    <tr>\n",
       "      <th>1</th>\n",
       "      <td>Aaron,  Jeffery M</td>\n",
       "      <td>Jeffery M</td>\n",
       "      <td>Aaron</td>\n",
       "      <td>Police Officer</td>\n",
       "      <td>Police</td>\n",
       "      <td>84450.0</td>\n",
       "    </tr>\n",
       "    <tr>\n",
       "      <th>2</th>\n",
       "      <td>Aaron,  Karina</td>\n",
       "      <td>Karina</td>\n",
       "      <td>Aaron</td>\n",
       "      <td>Police Officer</td>\n",
       "      <td>Police</td>\n",
       "      <td>84450.0</td>\n",
       "    </tr>\n",
       "  </tbody>\n",
       "</table>\n",
       "</div>"
      ],
      "text/plain": [
       "                Name First Name Last Name    Position Title   Department  \\\n",
       "0    Aaron,  Elvia J    Elvia J     Aaron  Water Rate Taker  Water Mgmnt   \n",
       "1  Aaron,  Jeffery M  Jeffery M     Aaron    Police Officer       Police   \n",
       "2     Aaron,  Karina     Karina     Aaron    Police Officer       Police   \n",
       "\n",
       "   Employee Annual Salary ($)  \n",
       "0                     90744.0  \n",
       "1                     84450.0  \n",
       "2                     84450.0  "
      ]
     },
     "execution_count": 11,
     "metadata": {},
     "output_type": "execute_result"
    }
   ],
   "source": [
    "names_splitted = chicago2[\"Name\"].str.split(\",\")\n",
    "\n",
    "chicago2[\"First Name\"] = [x[1].strip() for x in names_splitted]\n",
    "chicago2[\"Last Name\"] = [x[0].strip() for x in names_splitted]\n",
    "\n",
    "chicago2 = chicago2[\n",
    "    [\n",
    "        \"Name\",\n",
    "        \"First Name\",\n",
    "        \"Last Name\",\n",
    "        \"Position Title\",\n",
    "        \"Department\",\n",
    "        \"Employee Annual Salary ($)\",\n",
    "    ]\n",
    "]\n",
    "\n",
    "chicago2.head(3)"
   ]
  },
  {
   "cell_type": "markdown",
   "id": "f0ecd9b6-13a4-4d79-a30a-a58746ad523b",
   "metadata": {},
   "source": [
    "The second way to do it, using the `get()` method"
   ]
  },
  {
   "cell_type": "code",
   "execution_count": 12,
   "id": "8ae38d6e-ff87-4450-8ac8-8806ccd967c0",
   "metadata": {},
   "outputs": [
    {
     "data": {
      "text/html": [
       "<div>\n",
       "<style scoped>\n",
       "    .dataframe tbody tr th:only-of-type {\n",
       "        vertical-align: middle;\n",
       "    }\n",
       "\n",
       "    .dataframe tbody tr th {\n",
       "        vertical-align: top;\n",
       "    }\n",
       "\n",
       "    .dataframe thead th {\n",
       "        text-align: right;\n",
       "    }\n",
       "</style>\n",
       "<table border=\"1\" class=\"dataframe\">\n",
       "  <thead>\n",
       "    <tr style=\"text-align: right;\">\n",
       "      <th></th>\n",
       "      <th>Name</th>\n",
       "      <th>First Name</th>\n",
       "      <th>Last Name</th>\n",
       "      <th>Position Title</th>\n",
       "      <th>Department</th>\n",
       "      <th>Employee Annual Salary ($)</th>\n",
       "    </tr>\n",
       "  </thead>\n",
       "  <tbody>\n",
       "    <tr>\n",
       "      <th>0</th>\n",
       "      <td>Aaron,  Elvia J</td>\n",
       "      <td>Elvia J</td>\n",
       "      <td>Aaron</td>\n",
       "      <td>Water Rate Taker</td>\n",
       "      <td>Water Mgmnt</td>\n",
       "      <td>90744.0</td>\n",
       "    </tr>\n",
       "    <tr>\n",
       "      <th>1</th>\n",
       "      <td>Aaron,  Jeffery M</td>\n",
       "      <td>Jeffery M</td>\n",
       "      <td>Aaron</td>\n",
       "      <td>Police Officer</td>\n",
       "      <td>Police</td>\n",
       "      <td>84450.0</td>\n",
       "    </tr>\n",
       "    <tr>\n",
       "      <th>2</th>\n",
       "      <td>Aaron,  Karina</td>\n",
       "      <td>Karina</td>\n",
       "      <td>Aaron</td>\n",
       "      <td>Police Officer</td>\n",
       "      <td>Police</td>\n",
       "      <td>84450.0</td>\n",
       "    </tr>\n",
       "  </tbody>\n",
       "</table>\n",
       "</div>"
      ],
      "text/plain": [
       "                Name First Name Last Name    Position Title   Department  \\\n",
       "0    Aaron,  Elvia J    Elvia J     Aaron  Water Rate Taker  Water Mgmnt   \n",
       "1  Aaron,  Jeffery M  Jeffery M     Aaron    Police Officer       Police   \n",
       "2     Aaron,  Karina     Karina     Aaron    Police Officer       Police   \n",
       "\n",
       "   Employee Annual Salary ($)  \n",
       "0                     90744.0  \n",
       "1                     84450.0  \n",
       "2                     84450.0  "
      ]
     },
     "execution_count": 12,
     "metadata": {},
     "output_type": "execute_result"
    }
   ],
   "source": [
    "chicago[\"Last Name\"] = chicago[\"Name\"].str.split(\",\").str.get(0).str.strip()\n",
    "chicago[\"First Name\"] = chicago[\"Name\"].str.split(\",\").str.get(1).str.strip()\n",
    "\n",
    "chicago = chicago[\n",
    "    [\n",
    "        \"Name\",\n",
    "        \"First Name\",\n",
    "        \"Last Name\",\n",
    "        \"Position Title\",\n",
    "        \"Department\",\n",
    "        \"Employee Annual Salary ($)\",\n",
    "    ]\n",
    "]\n",
    "\n",
    "chicago.head(3)"
   ]
  },
  {
   "cell_type": "code",
   "execution_count": 13,
   "id": "bb83076a-586a-4d17-a0bd-8627a36a7c20",
   "metadata": {},
   "outputs": [
    {
     "data": {
      "text/plain": [
       "Police             10856\n",
       "Firefighter-Emt     1509\n",
       "Sergeant            1186\n",
       "Name: Position Title, dtype: int64"
      ]
     },
     "execution_count": 13,
     "metadata": {},
     "output_type": "execute_result"
    }
   ],
   "source": [
    "chicago[\"Position Title\"].str.split(\" \").str.get(0).value_counts().head(3)"
   ]
  },
  {
   "cell_type": "code",
   "execution_count": 14,
   "id": "f83d03f5-8077-4e79-bdc8-52efcb03ff75",
   "metadata": {},
   "outputs": [
    {
     "data": {
      "text/plain": [
       "Michael    1153\n",
       "John        899\n",
       "James       676\n",
       "Name: First Name, dtype: int64"
      ]
     },
     "execution_count": 14,
     "metadata": {},
     "output_type": "execute_result"
    }
   ],
   "source": [
    "chicago[\"First Name\"].str.split(\" \").str.get(0).value_counts().head(3)"
   ]
  },
  {
   "cell_type": "markdown",
   "id": "b4ad1bce-05ff-4281-89a9-8bca6454dfd7",
   "metadata": {},
   "source": [
    "### Exploring the `expand` and `n` Parameters of the `str.split` Method"
   ]
  },
  {
   "cell_type": "code",
   "execution_count": 15,
   "id": "ba6b5660-1c33-46f3-9ea3-68bf76d1f422",
   "metadata": {},
   "outputs": [
    {
     "data": {
      "text/html": [
       "<div>\n",
       "<style scoped>\n",
       "    .dataframe tbody tr th:only-of-type {\n",
       "        vertical-align: middle;\n",
       "    }\n",
       "\n",
       "    .dataframe tbody tr th {\n",
       "        vertical-align: top;\n",
       "    }\n",
       "\n",
       "    .dataframe thead th {\n",
       "        text-align: right;\n",
       "    }\n",
       "</style>\n",
       "<table border=\"1\" class=\"dataframe\">\n",
       "  <thead>\n",
       "    <tr style=\"text-align: right;\">\n",
       "      <th></th>\n",
       "      <th>0</th>\n",
       "      <th>1</th>\n",
       "    </tr>\n",
       "  </thead>\n",
       "  <tbody>\n",
       "    <tr>\n",
       "      <th>0</th>\n",
       "      <td>Aaron</td>\n",
       "      <td>Elvia J</td>\n",
       "    </tr>\n",
       "    <tr>\n",
       "      <th>1</th>\n",
       "      <td>Aaron</td>\n",
       "      <td>Jeffery M</td>\n",
       "    </tr>\n",
       "    <tr>\n",
       "      <th>2</th>\n",
       "      <td>Aaron</td>\n",
       "      <td>Karina</td>\n",
       "    </tr>\n",
       "  </tbody>\n",
       "</table>\n",
       "</div>"
      ],
      "text/plain": [
       "       0            1\n",
       "0  Aaron      Elvia J\n",
       "1  Aaron    Jeffery M\n",
       "2  Aaron       Karina"
      ]
     },
     "execution_count": 15,
     "metadata": {},
     "output_type": "execute_result"
    }
   ],
   "source": [
    "# Another way to split Name into first and last name is by expand = True\n",
    "chicago[\"Name\"].str.split(\",\", expand=True).head(3)"
   ]
  },
  {
   "cell_type": "code",
   "execution_count": 16,
   "id": "cf05888b-137b-4f87-8c1e-93721461e1d3",
   "metadata": {},
   "outputs": [
    {
     "data": {
      "text/html": [
       "<div>\n",
       "<style scoped>\n",
       "    .dataframe tbody tr th:only-of-type {\n",
       "        vertical-align: middle;\n",
       "    }\n",
       "\n",
       "    .dataframe tbody tr th {\n",
       "        vertical-align: top;\n",
       "    }\n",
       "\n",
       "    .dataframe thead th {\n",
       "        text-align: right;\n",
       "    }\n",
       "</style>\n",
       "<table border=\"1\" class=\"dataframe\">\n",
       "  <thead>\n",
       "    <tr style=\"text-align: right;\">\n",
       "      <th></th>\n",
       "      <th>0</th>\n",
       "      <th>1</th>\n",
       "      <th>2</th>\n",
       "      <th>3</th>\n",
       "      <th>4</th>\n",
       "      <th>5</th>\n",
       "      <th>6</th>\n",
       "      <th>7</th>\n",
       "      <th>8</th>\n",
       "    </tr>\n",
       "  </thead>\n",
       "  <tbody>\n",
       "    <tr>\n",
       "      <th>0</th>\n",
       "      <td>Water</td>\n",
       "      <td>Rate</td>\n",
       "      <td>Taker</td>\n",
       "      <td>None</td>\n",
       "      <td>None</td>\n",
       "      <td>None</td>\n",
       "      <td>None</td>\n",
       "      <td>None</td>\n",
       "      <td>None</td>\n",
       "    </tr>\n",
       "    <tr>\n",
       "      <th>1</th>\n",
       "      <td>Police</td>\n",
       "      <td>Officer</td>\n",
       "      <td>None</td>\n",
       "      <td>None</td>\n",
       "      <td>None</td>\n",
       "      <td>None</td>\n",
       "      <td>None</td>\n",
       "      <td>None</td>\n",
       "      <td>None</td>\n",
       "    </tr>\n",
       "    <tr>\n",
       "      <th>2</th>\n",
       "      <td>Police</td>\n",
       "      <td>Officer</td>\n",
       "      <td>None</td>\n",
       "      <td>None</td>\n",
       "      <td>None</td>\n",
       "      <td>None</td>\n",
       "      <td>None</td>\n",
       "      <td>None</td>\n",
       "      <td>None</td>\n",
       "    </tr>\n",
       "  </tbody>\n",
       "</table>\n",
       "</div>"
      ],
      "text/plain": [
       "        0        1      2     3     4     5     6     7     8\n",
       "0   Water     Rate  Taker  None  None  None  None  None  None\n",
       "1  Police  Officer   None  None  None  None  None  None  None\n",
       "2  Police  Officer   None  None  None  None  None  None  None"
      ]
     },
     "execution_count": 16,
     "metadata": {},
     "output_type": "execute_result"
    }
   ],
   "source": [
    "chicago[\"Position Title\"].str.split(\" \", expand=True).head(3)"
   ]
  },
  {
   "cell_type": "code",
   "execution_count": 17,
   "id": "9f8e9e33-e4e5-4128-868e-896123534951",
   "metadata": {},
   "outputs": [
    {
     "data": {
      "text/html": [
       "<div>\n",
       "<style scoped>\n",
       "    .dataframe tbody tr th:only-of-type {\n",
       "        vertical-align: middle;\n",
       "    }\n",
       "\n",
       "    .dataframe tbody tr th {\n",
       "        vertical-align: top;\n",
       "    }\n",
       "\n",
       "    .dataframe thead th {\n",
       "        text-align: right;\n",
       "    }\n",
       "</style>\n",
       "<table border=\"1\" class=\"dataframe\">\n",
       "  <thead>\n",
       "    <tr style=\"text-align: right;\">\n",
       "      <th></th>\n",
       "      <th>0</th>\n",
       "      <th>1</th>\n",
       "      <th>2</th>\n",
       "    </tr>\n",
       "  </thead>\n",
       "  <tbody>\n",
       "    <tr>\n",
       "      <th>0</th>\n",
       "      <td>Water</td>\n",
       "      <td>Rate</td>\n",
       "      <td>Taker</td>\n",
       "    </tr>\n",
       "    <tr>\n",
       "      <th>1</th>\n",
       "      <td>Police</td>\n",
       "      <td>Officer</td>\n",
       "      <td>None</td>\n",
       "    </tr>\n",
       "    <tr>\n",
       "      <th>2</th>\n",
       "      <td>Police</td>\n",
       "      <td>Officer</td>\n",
       "      <td>None</td>\n",
       "    </tr>\n",
       "  </tbody>\n",
       "</table>\n",
       "</div>"
      ],
      "text/plain": [
       "        0        1      2\n",
       "0   Water     Rate  Taker\n",
       "1  Police  Officer   None\n",
       "2  Police  Officer   None"
      ]
     },
     "execution_count": 17,
     "metadata": {},
     "output_type": "execute_result"
    }
   ],
   "source": [
    "chicago[\"Position Title\"].str.split(\" \", expand=True, n=2).head(3)"
   ]
  }
 ],
 "metadata": {
  "kernelspec": {
   "display_name": "pandas_playground",
   "language": "python",
   "name": "pandas_playground"
  },
  "language_info": {
   "codemirror_mode": {
    "name": "ipython",
    "version": 3
   },
   "file_extension": ".py",
   "mimetype": "text/x-python",
   "name": "python",
   "nbconvert_exporter": "python",
   "pygments_lexer": "ipython3",
   "version": "3.10.9"
  }
 },
 "nbformat": 4,
 "nbformat_minor": 5
}
