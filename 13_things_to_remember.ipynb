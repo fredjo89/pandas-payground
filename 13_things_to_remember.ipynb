{
 "cells": [
  {
   "cell_type": "code",
   "execution_count": 1,
   "id": "7b003e9f-c282-457f-95e3-67c5942d8207",
   "metadata": {},
   "outputs": [
    {
     "data": {
      "text/html": [
       "\n",
       "                <script type=\"application/javascript\" id=\"jupyter_black\">\n",
       "                (function() {\n",
       "                    if (window.IPython === undefined) {\n",
       "                        return\n",
       "                    }\n",
       "                    var msg = \"WARNING: it looks like you might have loaded \" +\n",
       "                        \"jupyter_black in a non-lab notebook with \" +\n",
       "                        \"`is_lab=True`. Please double check, and if \" +\n",
       "                        \"loading with `%load_ext` please review the README!\"\n",
       "                    console.log(msg)\n",
       "                    alert(msg)\n",
       "                })()\n",
       "                </script>\n",
       "                "
      ],
      "text/plain": [
       "<IPython.core.display.HTML object>"
      ]
     },
     "metadata": {},
     "output_type": "display_data"
    }
   ],
   "source": [
    "import os\n",
    "import pandas as pd\n",
    "import jupyter_black\n",
    "\n",
    "jupyter_black.load()\n",
    "\n",
    "current_dir = os.path.dirname(os.path.abspath(\"__file__\"))"
   ]
  },
  {
   "cell_type": "markdown",
   "id": "e1d9ca0f-94db-446c-8d08-3f1d9f90b4c2",
   "metadata": {
    "tags": []
   },
   "source": [
    "### Set file path to datasets"
   ]
  },
  {
   "cell_type": "code",
   "execution_count": 41,
   "id": "b6207584-ad43-43f7-8ec2-dd14cc1e3109",
   "metadata": {},
   "outputs": [],
   "source": [
    "pokemon_path = os.path.join(current_dir, \"data\", \"pokemon.csv\")\n",
    "google_path = os.path.join(current_dir, \"data\", \"google_stock_price.csv\")\n",
    "nba_path = os.path.join(current_dir, \"data\", \"nba.csv\")\n",
    "revenue_path = os.path.join(current_dir, \"data\", \"revenue.csv\")\n",
    "bond_path = os.path.join(current_dir, \"data\", \"jamesbond.csv\")\n",
    "chicago_path = os.path.join(current_dir, \"data\", \"chicago.csv\")\n",
    "salesmen_path = os.path.join(current_dir, \"data\", \"salesmen.csv\")\n",
    "foods_path = os.path.join(current_dir, \"data\", \"foods.csv\")"
   ]
  },
  {
   "cell_type": "markdown",
   "id": "50d14fa0-021e-4f89-bdc5-7ce8b4ead134",
   "metadata": {},
   "source": [
    "#### Go back and forth between `pd.Series` and `pd.DataFrame` with `to_frame()` and `squeeze()`"
   ]
  },
  {
   "cell_type": "code",
   "execution_count": 3,
   "id": "47a9876a-196b-49b2-a90f-db2b3895fa76",
   "metadata": {},
   "outputs": [
    {
     "data": {
      "text/plain": [
       "Monday        Apple\n",
       "Tuesday      Orange\n",
       "Wednesday    Banana\n",
       "Thursday       Pear\n",
       "dtype: object"
      ]
     },
     "metadata": {},
     "output_type": "display_data"
    },
    {
     "data": {
      "text/html": [
       "<div>\n",
       "<style scoped>\n",
       "    .dataframe tbody tr th:only-of-type {\n",
       "        vertical-align: middle;\n",
       "    }\n",
       "\n",
       "    .dataframe tbody tr th {\n",
       "        vertical-align: top;\n",
       "    }\n",
       "\n",
       "    .dataframe thead th {\n",
       "        text-align: right;\n",
       "    }\n",
       "</style>\n",
       "<table border=\"1\" class=\"dataframe\">\n",
       "  <thead>\n",
       "    <tr style=\"text-align: right;\">\n",
       "      <th></th>\n",
       "      <th>0</th>\n",
       "    </tr>\n",
       "  </thead>\n",
       "  <tbody>\n",
       "    <tr>\n",
       "      <th>Monday</th>\n",
       "      <td>Apple</td>\n",
       "    </tr>\n",
       "    <tr>\n",
       "      <th>Tuesday</th>\n",
       "      <td>Orange</td>\n",
       "    </tr>\n",
       "    <tr>\n",
       "      <th>Wednesday</th>\n",
       "      <td>Banana</td>\n",
       "    </tr>\n",
       "    <tr>\n",
       "      <th>Thursday</th>\n",
       "      <td>Pear</td>\n",
       "    </tr>\n",
       "  </tbody>\n",
       "</table>\n",
       "</div>"
      ],
      "text/plain": [
       "                0\n",
       "Monday      Apple\n",
       "Tuesday    Orange\n",
       "Wednesday  Banana\n",
       "Thursday     Pear"
      ]
     },
     "metadata": {},
     "output_type": "display_data"
    },
    {
     "data": {
      "text/plain": [
       "Monday        Apple\n",
       "Tuesday      Orange\n",
       "Wednesday    Banana\n",
       "Thursday       Pear\n",
       "Name: 0, dtype: object"
      ]
     },
     "metadata": {},
     "output_type": "display_data"
    }
   ],
   "source": [
    "fruits = [\"Apple\", \"Orange\", \"Banana\", \"Pear\"]\n",
    "weekdays = [\"Monday\", \"Tuesday\", \"Wednesday\", \"Thursday\"]\n",
    "s = pd.Series(index=weekdays, data=fruits)\n",
    "display(s)\n",
    "df = s.to_frame()\n",
    "display(df)\n",
    "s = df.squeeze()\n",
    "display(s)"
   ]
  },
  {
   "cell_type": "markdown",
   "id": "0cd1396f-da2b-48ff-be72-3ea0648dd78f",
   "metadata": {
    "tags": []
   },
   "source": [
    "### The `apply()` Method"
   ]
  },
  {
   "cell_type": "code",
   "execution_count": 4,
   "id": "33561a87-1423-4ff8-9356-d8cbbe403918",
   "metadata": {},
   "outputs": [
    {
     "data": {
      "text/plain": [
       "Pokemon\n",
       "Bulbasaur    Classic\n",
       "Ivysaur      Classic\n",
       "Venusaur     Classic\n",
       "Name: Type, dtype: object"
      ]
     },
     "execution_count": 4,
     "metadata": {},
     "output_type": "execute_result"
    }
   ],
   "source": [
    "pokemon = pd.read_csv(pokemon_path, index_col=\"Pokemon\").squeeze()\n",
    "\n",
    "\n",
    "def rank_pokemon(pokemon_type):\n",
    "    if pokemon_type in [\"Grass\", \"Fire\", \"Water\"]:\n",
    "        return \"Classic\"\n",
    "    elif pokemon_type == \"Normal\":\n",
    "        return \"Boring\"\n",
    "    return \"TBD\"\n",
    "\n",
    "\n",
    "pokemon.apply(rank_pokemon).head(3)"
   ]
  },
  {
   "cell_type": "markdown",
   "id": "f8437cc4-0f7d-4866-8016-0566a754a226",
   "metadata": {},
   "source": [
    "### Insert new column at a specific position"
   ]
  },
  {
   "cell_type": "code",
   "execution_count": 5,
   "id": "b17b3318-3c29-4292-a75f-352298f3c5ba",
   "metadata": {},
   "outputs": [
    {
     "data": {
      "text/html": [
       "<div>\n",
       "<style scoped>\n",
       "    .dataframe tbody tr th:only-of-type {\n",
       "        vertical-align: middle;\n",
       "    }\n",
       "\n",
       "    .dataframe tbody tr th {\n",
       "        vertical-align: top;\n",
       "    }\n",
       "\n",
       "    .dataframe thead th {\n",
       "        text-align: right;\n",
       "    }\n",
       "</style>\n",
       "<table border=\"1\" class=\"dataframe\">\n",
       "  <thead>\n",
       "    <tr style=\"text-align: right;\">\n",
       "      <th></th>\n",
       "      <th>Name</th>\n",
       "      <th>Team</th>\n",
       "      <th>Number</th>\n",
       "      <th>new_col</th>\n",
       "      <th>Position</th>\n",
       "      <th>Age</th>\n",
       "      <th>Height</th>\n",
       "      <th>Weight</th>\n",
       "      <th>College</th>\n",
       "      <th>Salary</th>\n",
       "    </tr>\n",
       "  </thead>\n",
       "  <tbody>\n",
       "    <tr>\n",
       "      <th>0</th>\n",
       "      <td>Avery Bradley</td>\n",
       "      <td>Boston Celtics</td>\n",
       "      <td>0.0</td>\n",
       "      <td>New column at position 3</td>\n",
       "      <td>PG</td>\n",
       "      <td>25.0</td>\n",
       "      <td>6-2</td>\n",
       "      <td>180.0</td>\n",
       "      <td>Texas</td>\n",
       "      <td>7730337.0</td>\n",
       "    </tr>\n",
       "    <tr>\n",
       "      <th>1</th>\n",
       "      <td>Jae Crowder</td>\n",
       "      <td>Boston Celtics</td>\n",
       "      <td>99.0</td>\n",
       "      <td>New column at position 3</td>\n",
       "      <td>SF</td>\n",
       "      <td>25.0</td>\n",
       "      <td>6-6</td>\n",
       "      <td>235.0</td>\n",
       "      <td>Marquette</td>\n",
       "      <td>6796117.0</td>\n",
       "    </tr>\n",
       "    <tr>\n",
       "      <th>2</th>\n",
       "      <td>John Holland</td>\n",
       "      <td>Boston Celtics</td>\n",
       "      <td>30.0</td>\n",
       "      <td>New column at position 3</td>\n",
       "      <td>SG</td>\n",
       "      <td>27.0</td>\n",
       "      <td>6-5</td>\n",
       "      <td>205.0</td>\n",
       "      <td>Boston University</td>\n",
       "      <td>NaN</td>\n",
       "    </tr>\n",
       "  </tbody>\n",
       "</table>\n",
       "</div>"
      ],
      "text/plain": [
       "            Name            Team  Number                   new_col Position  \\\n",
       "0  Avery Bradley  Boston Celtics     0.0  New column at position 3       PG   \n",
       "1    Jae Crowder  Boston Celtics    99.0  New column at position 3       SF   \n",
       "2   John Holland  Boston Celtics    30.0  New column at position 3       SG   \n",
       "\n",
       "    Age Height  Weight            College     Salary  \n",
       "0  25.0    6-2   180.0              Texas  7730337.0  \n",
       "1  25.0    6-6   235.0          Marquette  6796117.0  \n",
       "2  27.0    6-5   205.0  Boston University        NaN  "
      ]
     },
     "execution_count": 5,
     "metadata": {},
     "output_type": "execute_result"
    }
   ],
   "source": [
    "nba = pd.read_csv(nba_path)\n",
    "nba.insert(3, \"new_col\", \"New column at position 3\")\n",
    "nba.head(3)"
   ]
  },
  {
   "cell_type": "markdown",
   "id": "5c7d2a5f-e2e6-4fcb-af07-4e53726e1515",
   "metadata": {},
   "source": [
    "### Apply aggregation function accross the different axis"
   ]
  },
  {
   "cell_type": "code",
   "execution_count": 14,
   "id": "378ca9af-7262-4c09-b460-99ad5a9c9dd9",
   "metadata": {},
   "outputs": [
    {
     "data": {
      "text/plain": [
       "Date\n",
       "1/1/16    1606\n",
       "1/2/16    2060\n",
       "1/3/16     967\n",
       "dtype: int64"
      ]
     },
     "execution_count": 14,
     "metadata": {},
     "output_type": "execute_result"
    }
   ],
   "source": [
    "revenue = pd.read_csv(revenue_path, index_col=[\"Date\"])\n",
    "\n",
    "# The following give identical result, and sum ACCROSS rows\n",
    "revenue.sum()\n",
    "revenue.sum(axis=0)\n",
    "# The following sum ACCROSS columns\n",
    "revenue.sum(axis=1).head(3)"
   ]
  },
  {
   "cell_type": "markdown",
   "id": "1d244201-c2f7-4269-8f80-d299502f44d0",
   "metadata": {},
   "source": [
    "Note that `df[]` creates a copy, while `df.loc[]` references the existing DataFrame. <br>\n",
    "`df.loc[]` must therefore be used when changing the values in a DataFrame"
   ]
  },
  {
   "cell_type": "markdown",
   "id": "8d859663-67e0-4230-a2d9-27b798cd774d",
   "metadata": {},
   "source": [
    "### Use the `nsmallest` / `nlargest` methods"
   ]
  },
  {
   "cell_type": "code",
   "execution_count": 19,
   "id": "62bdbb75-177a-4697-9640-07c25aa4c863",
   "metadata": {},
   "outputs": [
    {
     "data": {
      "text/html": [
       "<div>\n",
       "<style scoped>\n",
       "    .dataframe tbody tr th:only-of-type {\n",
       "        vertical-align: middle;\n",
       "    }\n",
       "\n",
       "    .dataframe tbody tr th {\n",
       "        vertical-align: top;\n",
       "    }\n",
       "\n",
       "    .dataframe thead th {\n",
       "        text-align: right;\n",
       "    }\n",
       "</style>\n",
       "<table border=\"1\" class=\"dataframe\">\n",
       "  <thead>\n",
       "    <tr style=\"text-align: right;\">\n",
       "      <th></th>\n",
       "      <th>Year</th>\n",
       "      <th>Actor</th>\n",
       "      <th>Director</th>\n",
       "      <th>Box Office</th>\n",
       "      <th>Budget</th>\n",
       "      <th>Bond Actor Salary</th>\n",
       "    </tr>\n",
       "    <tr>\n",
       "      <th>Film</th>\n",
       "      <th></th>\n",
       "      <th></th>\n",
       "      <th></th>\n",
       "      <th></th>\n",
       "      <th></th>\n",
       "      <th></th>\n",
       "    </tr>\n",
       "  </thead>\n",
       "  <tbody>\n",
       "    <tr>\n",
       "      <th>Licence to Kill</th>\n",
       "      <td>1989</td>\n",
       "      <td>Timothy Dalton</td>\n",
       "      <td>John Glen</td>\n",
       "      <td>250.9</td>\n",
       "      <td>56.7</td>\n",
       "      <td>7.9</td>\n",
       "    </tr>\n",
       "    <tr>\n",
       "      <th>A View to a Kill</th>\n",
       "      <td>1985</td>\n",
       "      <td>Roger Moore</td>\n",
       "      <td>John Glen</td>\n",
       "      <td>275.2</td>\n",
       "      <td>54.5</td>\n",
       "      <td>9.1</td>\n",
       "    </tr>\n",
       "  </tbody>\n",
       "</table>\n",
       "</div>"
      ],
      "text/plain": [
       "                  Year           Actor   Director  Box Office  Budget  \\\n",
       "Film                                                                    \n",
       "Licence to Kill   1989  Timothy Dalton  John Glen       250.9    56.7   \n",
       "A View to a Kill  1985     Roger Moore  John Glen       275.2    54.5   \n",
       "\n",
       "                  Bond Actor Salary  \n",
       "Film                                 \n",
       "Licence to Kill                 7.9  \n",
       "A View to a Kill                9.1  "
      ]
     },
     "execution_count": 19,
     "metadata": {},
     "output_type": "execute_result"
    }
   ],
   "source": [
    "bond = pd.read_csv(bond_path, index_col=\"Film\")\n",
    "# nlargest/nsmallest are faster than sort_values\n",
    "bond.nlargest(3, columns=\"Box Office\")\n",
    "bond.nsmallest(2, columns=\"Box Office\")"
   ]
  },
  {
   "cell_type": "markdown",
   "id": "e189ce98-b2be-409b-b03d-ab1c9033fd3d",
   "metadata": {},
   "source": [
    "### The `get()` Method "
   ]
  },
  {
   "cell_type": "code",
   "execution_count": 28,
   "id": "bf34a950-d2cc-49b0-aa01-5d7273b6828b",
   "metadata": {},
   "outputs": [
    {
     "data": {
      "text/html": [
       "<div>\n",
       "<style scoped>\n",
       "    .dataframe tbody tr th:only-of-type {\n",
       "        vertical-align: middle;\n",
       "    }\n",
       "\n",
       "    .dataframe tbody tr th {\n",
       "        vertical-align: top;\n",
       "    }\n",
       "\n",
       "    .dataframe thead th {\n",
       "        text-align: right;\n",
       "    }\n",
       "</style>\n",
       "<table border=\"1\" class=\"dataframe\">\n",
       "  <thead>\n",
       "    <tr style=\"text-align: right;\">\n",
       "      <th></th>\n",
       "      <th>Name</th>\n",
       "      <th>Position Title</th>\n",
       "      <th>Department</th>\n",
       "      <th>Employee Annual Salary</th>\n",
       "      <th>Last Name</th>\n",
       "      <th>First Name</th>\n",
       "    </tr>\n",
       "  </thead>\n",
       "  <tbody>\n",
       "    <tr>\n",
       "      <th>0</th>\n",
       "      <td>AARON,  ELVIA J</td>\n",
       "      <td>WATER RATE TAKER</td>\n",
       "      <td>WATER MGMNT</td>\n",
       "      <td>$90744.00</td>\n",
       "      <td>AARON</td>\n",
       "      <td>ELVIA J</td>\n",
       "    </tr>\n",
       "    <tr>\n",
       "      <th>1</th>\n",
       "      <td>AARON,  JEFFERY M</td>\n",
       "      <td>POLICE OFFICER</td>\n",
       "      <td>POLICE</td>\n",
       "      <td>$84450.00</td>\n",
       "      <td>AARON</td>\n",
       "      <td>JEFFERY M</td>\n",
       "    </tr>\n",
       "    <tr>\n",
       "      <th>2</th>\n",
       "      <td>AARON,  KARINA</td>\n",
       "      <td>POLICE OFFICER</td>\n",
       "      <td>POLICE</td>\n",
       "      <td>$84450.00</td>\n",
       "      <td>AARON</td>\n",
       "      <td>KARINA</td>\n",
       "    </tr>\n",
       "  </tbody>\n",
       "</table>\n",
       "</div>"
      ],
      "text/plain": [
       "                Name    Position Title   Department Employee Annual Salary  \\\n",
       "0    AARON,  ELVIA J  WATER RATE TAKER  WATER MGMNT              $90744.00   \n",
       "1  AARON,  JEFFERY M    POLICE OFFICER       POLICE              $84450.00   \n",
       "2     AARON,  KARINA    POLICE OFFICER       POLICE              $84450.00   \n",
       "\n",
       "  Last Name First Name  \n",
       "0     AARON    ELVIA J  \n",
       "1     AARON  JEFFERY M  \n",
       "2     AARON     KARINA  "
      ]
     },
     "execution_count": 28,
     "metadata": {},
     "output_type": "execute_result"
    }
   ],
   "source": [
    "chicago = pd.read_csv(chicago_path)\n",
    "chicago[\"Last Name\"] = chicago[\"Name\"].str.split(\",\").str.get(0).str.strip()\n",
    "chicago[\"First Name\"] = chicago[\"Name\"].str.split(\",\").str.get(1).str.strip()\n",
    "chicago.head(3)"
   ]
  },
  {
   "cell_type": "markdown",
   "id": "f0c74a45-4bee-4aa7-972c-415f20aa2fb6",
   "metadata": {},
   "source": [
    "Another way to achieve similar to above is to use `.split()` with `expand=True`"
   ]
  },
  {
   "cell_type": "code",
   "execution_count": 31,
   "id": "215d67fb-5916-49fa-bdc7-8a5277d8df78",
   "metadata": {},
   "outputs": [
    {
     "data": {
      "text/html": [
       "<div>\n",
       "<style scoped>\n",
       "    .dataframe tbody tr th:only-of-type {\n",
       "        vertical-align: middle;\n",
       "    }\n",
       "\n",
       "    .dataframe tbody tr th {\n",
       "        vertical-align: top;\n",
       "    }\n",
       "\n",
       "    .dataframe thead th {\n",
       "        text-align: right;\n",
       "    }\n",
       "</style>\n",
       "<table border=\"1\" class=\"dataframe\">\n",
       "  <thead>\n",
       "    <tr style=\"text-align: right;\">\n",
       "      <th></th>\n",
       "      <th>last Name</th>\n",
       "      <th>First Name</th>\n",
       "    </tr>\n",
       "  </thead>\n",
       "  <tbody>\n",
       "    <tr>\n",
       "      <th>0</th>\n",
       "      <td>AARON</td>\n",
       "      <td>ELVIA J</td>\n",
       "    </tr>\n",
       "    <tr>\n",
       "      <th>1</th>\n",
       "      <td>AARON</td>\n",
       "      <td>JEFFERY M</td>\n",
       "    </tr>\n",
       "    <tr>\n",
       "      <th>2</th>\n",
       "      <td>AARON</td>\n",
       "      <td>KARINA</td>\n",
       "    </tr>\n",
       "  </tbody>\n",
       "</table>\n",
       "</div>"
      ],
      "text/plain": [
       "  last Name   First Name\n",
       "0     AARON      ELVIA J\n",
       "1     AARON    JEFFERY M\n",
       "2     AARON       KARINA"
      ]
     },
     "execution_count": 31,
     "metadata": {},
     "output_type": "execute_result"
    }
   ],
   "source": [
    "chicago = pd.read_csv(chicago_path)\n",
    "chicago[\"Name\"].str.split(\",\", expand=True).rename(\n",
    "    columns={0: \"last Name\", 1: \"First Name\"}\n",
    ").head(3)"
   ]
  },
  {
   "cell_type": "markdown",
   "id": "63660696-f075-4ca4-84d0-def009831148",
   "metadata": {},
   "source": [
    "### The `pivot()` method"
   ]
  },
  {
   "cell_type": "markdown",
   "id": "2f0bee9b-8578-4c36-8453-b2e008fd997e",
   "metadata": {},
   "source": [
    "Docstring:\n",
    "Return reshaped DataFrame organized by given index / column values.\n",
    "\n",
    "Reshape data (produce a \"pivot\" table) based on column values. Uses\n",
    "unique values from specified `index` / `columns` to form axes of the\n",
    "resulting DataFrame. This function does not support data\n",
    "aggregation, multiple values will result in a MultiIndex in the\n",
    "columns. See the :ref:`User Guide <reshaping>` for more on reshaping."
   ]
  },
  {
   "cell_type": "code",
   "execution_count": 50,
   "id": "a2629785-95b9-4eec-ac8d-6703aba6e2a5",
   "metadata": {},
   "outputs": [
    {
     "data": {
      "text/html": [
       "<div>\n",
       "<style scoped>\n",
       "    .dataframe tbody tr th:only-of-type {\n",
       "        vertical-align: middle;\n",
       "    }\n",
       "\n",
       "    .dataframe tbody tr th {\n",
       "        vertical-align: top;\n",
       "    }\n",
       "\n",
       "    .dataframe thead th {\n",
       "        text-align: right;\n",
       "    }\n",
       "</style>\n",
       "<table border=\"1\" class=\"dataframe\">\n",
       "  <thead>\n",
       "    <tr style=\"text-align: right;\">\n",
       "      <th></th>\n",
       "      <th>Date</th>\n",
       "      <th>Salesman</th>\n",
       "      <th>Revenue</th>\n",
       "    </tr>\n",
       "  </thead>\n",
       "  <tbody>\n",
       "    <tr>\n",
       "      <th>0</th>\n",
       "      <td>2016-01-01</td>\n",
       "      <td>Bob</td>\n",
       "      <td>7172</td>\n",
       "    </tr>\n",
       "    <tr>\n",
       "      <th>1</th>\n",
       "      <td>2016-01-02</td>\n",
       "      <td>Bob</td>\n",
       "      <td>6362</td>\n",
       "    </tr>\n",
       "    <tr>\n",
       "      <th>2</th>\n",
       "      <td>2016-01-03</td>\n",
       "      <td>Bob</td>\n",
       "      <td>5982</td>\n",
       "    </tr>\n",
       "  </tbody>\n",
       "</table>\n",
       "</div>"
      ],
      "text/plain": [
       "        Date Salesman  Revenue\n",
       "0 2016-01-01      Bob     7172\n",
       "1 2016-01-02      Bob     6362\n",
       "2 2016-01-03      Bob     5982"
      ]
     },
     "metadata": {},
     "output_type": "display_data"
    },
    {
     "data": {
      "text/html": [
       "<div>\n",
       "<style scoped>\n",
       "    .dataframe tbody tr th:only-of-type {\n",
       "        vertical-align: middle;\n",
       "    }\n",
       "\n",
       "    .dataframe tbody tr th {\n",
       "        vertical-align: top;\n",
       "    }\n",
       "\n",
       "    .dataframe thead th {\n",
       "        text-align: right;\n",
       "    }\n",
       "</style>\n",
       "<table border=\"1\" class=\"dataframe\">\n",
       "  <thead>\n",
       "    <tr style=\"text-align: right;\">\n",
       "      <th>Salesman</th>\n",
       "      <th>Bob</th>\n",
       "      <th>Dave</th>\n",
       "      <th>Jeb</th>\n",
       "      <th>Oscar</th>\n",
       "      <th>Ronald</th>\n",
       "    </tr>\n",
       "    <tr>\n",
       "      <th>Date</th>\n",
       "      <th></th>\n",
       "      <th></th>\n",
       "      <th></th>\n",
       "      <th></th>\n",
       "      <th></th>\n",
       "    </tr>\n",
       "  </thead>\n",
       "  <tbody>\n",
       "    <tr>\n",
       "      <th>2016-01-01</th>\n",
       "      <td>7172</td>\n",
       "      <td>1864</td>\n",
       "      <td>4430</td>\n",
       "      <td>5250</td>\n",
       "      <td>2639</td>\n",
       "    </tr>\n",
       "    <tr>\n",
       "      <th>2016-01-02</th>\n",
       "      <td>6362</td>\n",
       "      <td>8278</td>\n",
       "      <td>8026</td>\n",
       "      <td>8661</td>\n",
       "      <td>4951</td>\n",
       "    </tr>\n",
       "    <tr>\n",
       "      <th>2016-01-03</th>\n",
       "      <td>5982</td>\n",
       "      <td>4226</td>\n",
       "      <td>5188</td>\n",
       "      <td>7075</td>\n",
       "      <td>2703</td>\n",
       "    </tr>\n",
       "  </tbody>\n",
       "</table>\n",
       "</div>"
      ],
      "text/plain": [
       "Salesman     Bob  Dave   Jeb  Oscar  Ronald\n",
       "Date                                       \n",
       "2016-01-01  7172  1864  4430   5250    2639\n",
       "2016-01-02  6362  8278  8026   8661    4951\n",
       "2016-01-03  5982  4226  5188   7075    2703"
      ]
     },
     "execution_count": 50,
     "metadata": {},
     "output_type": "execute_result"
    }
   ],
   "source": [
    "sales = pd.read_csv(salesmen_path, parse_dates=[\"Date\"])\n",
    "sales[\"Salesman\"] = sales[\"Salesman\"].astype(\"category\")\n",
    "display(sales.head(3))\n",
    "sales = sales.pivot(index=\"Date\", columns=\"Salesman\", values=\"Revenue\")\n",
    "sales.head(3)"
   ]
  },
  {
   "cell_type": "markdown",
   "id": "e53516a9-d4f1-438b-adc6-abbf7749303b",
   "metadata": {},
   "source": [
    "### The `pivot_table()` Method"
   ]
  },
  {
   "cell_type": "markdown",
   "id": "44a05041-6376-42e3-92a3-f459fe62140b",
   "metadata": {},
   "source": [
    "The `pivot_table()` Method works as the pivot method in Excel"
   ]
  },
  {
   "cell_type": "code",
   "execution_count": 47,
   "id": "e2f74059-b38b-4057-bf77-b45ef4d9f193",
   "metadata": {},
   "outputs": [
    {
     "data": {
      "text/html": [
       "<div>\n",
       "<style scoped>\n",
       "    .dataframe tbody tr th:only-of-type {\n",
       "        vertical-align: middle;\n",
       "    }\n",
       "\n",
       "    .dataframe tbody tr th {\n",
       "        vertical-align: top;\n",
       "    }\n",
       "\n",
       "    .dataframe thead th {\n",
       "        text-align: right;\n",
       "    }\n",
       "</style>\n",
       "<table border=\"1\" class=\"dataframe\">\n",
       "  <thead>\n",
       "    <tr style=\"text-align: right;\">\n",
       "      <th></th>\n",
       "      <th>First Name</th>\n",
       "      <th>Gender</th>\n",
       "      <th>City</th>\n",
       "      <th>Frequency</th>\n",
       "      <th>Item</th>\n",
       "      <th>Spend</th>\n",
       "    </tr>\n",
       "  </thead>\n",
       "  <tbody>\n",
       "    <tr>\n",
       "      <th>0</th>\n",
       "      <td>Wanda</td>\n",
       "      <td>Female</td>\n",
       "      <td>Stamford</td>\n",
       "      <td>Weekly</td>\n",
       "      <td>Burger</td>\n",
       "      <td>15.66</td>\n",
       "    </tr>\n",
       "    <tr>\n",
       "      <th>1</th>\n",
       "      <td>Eric</td>\n",
       "      <td>Male</td>\n",
       "      <td>Stamford</td>\n",
       "      <td>Daily</td>\n",
       "      <td>Chalupa</td>\n",
       "      <td>10.56</td>\n",
       "    </tr>\n",
       "    <tr>\n",
       "      <th>2</th>\n",
       "      <td>Charles</td>\n",
       "      <td>Male</td>\n",
       "      <td>New York</td>\n",
       "      <td>Never</td>\n",
       "      <td>Sushi</td>\n",
       "      <td>42.14</td>\n",
       "    </tr>\n",
       "    <tr>\n",
       "      <th>3</th>\n",
       "      <td>Anna</td>\n",
       "      <td>Female</td>\n",
       "      <td>Philadelphia</td>\n",
       "      <td>Once</td>\n",
       "      <td>Ice Cream</td>\n",
       "      <td>11.01</td>\n",
       "    </tr>\n",
       "    <tr>\n",
       "      <th>4</th>\n",
       "      <td>Deborah</td>\n",
       "      <td>Female</td>\n",
       "      <td>Philadelphia</td>\n",
       "      <td>Daily</td>\n",
       "      <td>Chalupa</td>\n",
       "      <td>23.49</td>\n",
       "    </tr>\n",
       "  </tbody>\n",
       "</table>\n",
       "</div>"
      ],
      "text/plain": [
       "  First Name  Gender          City Frequency       Item  Spend\n",
       "0      Wanda  Female      Stamford    Weekly     Burger  15.66\n",
       "1       Eric    Male      Stamford     Daily    Chalupa  10.56\n",
       "2    Charles    Male      New York     Never      Sushi  42.14\n",
       "3       Anna  Female  Philadelphia      Once  Ice Cream  11.01\n",
       "4    Deborah  Female  Philadelphia     Daily    Chalupa  23.49"
      ]
     },
     "metadata": {},
     "output_type": "display_data"
    },
    {
     "data": {
      "text/html": [
       "<div>\n",
       "<style scoped>\n",
       "    .dataframe tbody tr th:only-of-type {\n",
       "        vertical-align: middle;\n",
       "    }\n",
       "\n",
       "    .dataframe tbody tr th {\n",
       "        vertical-align: top;\n",
       "    }\n",
       "\n",
       "    .dataframe thead th {\n",
       "        text-align: right;\n",
       "    }\n",
       "</style>\n",
       "<table border=\"1\" class=\"dataframe\">\n",
       "  <thead>\n",
       "    <tr style=\"text-align: right;\">\n",
       "      <th>City</th>\n",
       "      <th>New York</th>\n",
       "      <th>Philadelphia</th>\n",
       "      <th>Stamford</th>\n",
       "    </tr>\n",
       "    <tr>\n",
       "      <th>Gender</th>\n",
       "      <th></th>\n",
       "      <th></th>\n",
       "      <th></th>\n",
       "    </tr>\n",
       "  </thead>\n",
       "  <tbody>\n",
       "    <tr>\n",
       "      <th>Female</th>\n",
       "      <td>48.666194</td>\n",
       "      <td>52.63765</td>\n",
       "      <td>50.502184</td>\n",
       "    </tr>\n",
       "    <tr>\n",
       "      <th>Male</th>\n",
       "      <td>52.318418</td>\n",
       "      <td>46.60142</td>\n",
       "      <td>49.596623</td>\n",
       "    </tr>\n",
       "  </tbody>\n",
       "</table>\n",
       "</div>"
      ],
      "text/plain": [
       "City     New York  Philadelphia   Stamford\n",
       "Gender                                    \n",
       "Female  48.666194      52.63765  50.502184\n",
       "Male    52.318418      46.60142  49.596623"
      ]
     },
     "execution_count": 47,
     "metadata": {},
     "output_type": "execute_result"
    }
   ],
   "source": [
    "foods = pd.read_csv(foods_path)\n",
    "display(foods.head())\n",
    "foods.pivot_table(values=\"Spend\", index=\"Gender\", aggfunc=\"mean\")\n",
    "foods.pivot_table(values=\"Spend\", index=\"Gender\", columns=\"City\", aggfunc=\"mean\")"
   ]
  },
  {
   "cell_type": "code",
   "execution_count": null,
   "id": "e9ff842c-9d97-472b-8831-28c336cb6bf5",
   "metadata": {},
   "outputs": [],
   "source": []
  }
 ],
 "metadata": {
  "kernelspec": {
   "display_name": "pandas_playground",
   "language": "python",
   "name": "pandas_playground"
  },
  "language_info": {
   "codemirror_mode": {
    "name": "ipython",
    "version": 3
   },
   "file_extension": ".py",
   "mimetype": "text/x-python",
   "name": "python",
   "nbconvert_exporter": "python",
   "pygments_lexer": "ipython3",
   "version": "3.10.9"
  }
 },
 "nbformat": 4,
 "nbformat_minor": 5
}
