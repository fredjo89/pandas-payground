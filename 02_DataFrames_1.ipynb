{
 "cells": [
  {
   "cell_type": "markdown",
   "id": "f3a689f5-233d-48ed-b5b3-0066eacd9af3",
   "metadata": {},
   "source": [
    "# DataFrames Introduction"
   ]
  },
  {
   "cell_type": "code",
   "execution_count": null,
   "id": "d3a779b3-f1d5-48ab-b6c7-375f97707764",
   "metadata": {},
   "outputs": [],
   "source": [
    "import os\n",
    "import pandas as pd\n",
    "import jupyter_black\n",
    "\n",
    "jupyter_black.load()\n",
    "\n",
    "current_dir = os.path.dirname(os.path.abspath(\"__file__\"))"
   ]
  },
  {
   "cell_type": "markdown",
   "id": "bbd52b25-83c5-4795-9c54-1162749b9c14",
   "metadata": {},
   "source": [
    "### Set file path to datasets"
   ]
  },
  {
   "cell_type": "code",
   "execution_count": null,
   "id": "a5a47525-65cb-420d-9c95-c24b97efbec5",
   "metadata": {},
   "outputs": [],
   "source": [
    "nba_path = os.path.join(current_dir, \"data\", \"nba.csv\")\n",
    "revenue_path = os.path.join(current_dir, \"data\", \"revenue.csv\")"
   ]
  },
  {
   "cell_type": "markdown",
   "id": "e0711bbe-1019-4a62-b1c0-3190dfded46f",
   "metadata": {
    "tags": []
   },
   "source": [
    "### Methods and attributes between Series and DataFrames"
   ]
  },
  {
   "cell_type": "code",
   "execution_count": null,
   "id": "e9466aaf-f37f-4820-931d-2bf47dbb2c71",
   "metadata": {},
   "outputs": [],
   "source": [
    "nba = pd.read_csv(nba_path)\n",
    "s = pd.Series(range(1, 6))\n",
    "\n",
    "s.head(n=2)\n",
    "nba.head(n=2)\n",
    "\n",
    "s.index\n",
    "nba.index\n",
    "\n",
    "s.values\n",
    "nba.values\n",
    "\n",
    "s.shape\n",
    "nba.shape\n",
    "\n",
    "s.dtype\n",
    "nba.dtypes  # returns a Series\n",
    "\n",
    "s.hasnans\n",
    "# nba.hasnans # Does not exist\n",
    "\n",
    "# s.columns # Does not exist\n",
    "nba.columns\n",
    "\n",
    "s.axes\n",
    "nba.axes\n",
    "\n",
    "s.info()\n",
    "nba.info()"
   ]
  },
  {
   "cell_type": "markdown",
   "id": "3fa6bcfa-f9a9-4509-862a-4fad6f4772e9",
   "metadata": {},
   "source": [
    "### Difference between Shared Methods"
   ]
  },
  {
   "cell_type": "code",
   "execution_count": null,
   "id": "a941defc-f133-45a5-95cb-af02a11d227c",
   "metadata": {},
   "outputs": [],
   "source": [
    "revenue = pd.read_csv(revenue_path, index_col=[\"Date\"])\n",
    "s = pd.Series([1, 2, 3])\n",
    "\n",
    "s.sum()\n",
    "\n",
    "# The  four below give same result\n",
    "revenue.sum()\n",
    "revenue.sum(axis=\"rows\")\n",
    "revenue.sum(axis=\"index\")\n",
    "revenue.sum(axis=0)\n",
    "\n",
    "revenue.sum(axis=\"columns\")  # Summing across the columns to one number\n",
    "revenue.sum(axis=1)  # Same as columns"
   ]
  },
  {
   "cell_type": "markdown",
   "id": "c1af36b7-d96e-4f22-86a3-44bcdcb836cd",
   "metadata": {},
   "source": [
    "### Select One Column frm a DataFrame"
   ]
  },
  {
   "cell_type": "code",
   "execution_count": null,
   "id": "64530fa1-d587-4d16-a9f5-68972bd5b42c",
   "metadata": {},
   "outputs": [],
   "source": [
    "nba = pd.read_csv(nba_path)\n",
    "\n",
    "# First Method\n",
    "nba.Name\n",
    "type(nba.Name)\n",
    "\n",
    "# Second Method (preferred)\n",
    "nba[\"Name\"]\n",
    "nba[\"Salary\"].head(3)"
   ]
  },
  {
   "cell_type": "markdown",
   "id": "647caec5-7991-48ee-b8bd-1084fceef87b",
   "metadata": {},
   "source": [
    "### Select Two or More columns from a DataFrame"
   ]
  },
  {
   "cell_type": "code",
   "execution_count": null,
   "id": "65bc7032-c99e-4a25-8ec6-1e1c40e79f6e",
   "metadata": {},
   "outputs": [],
   "source": [
    "nba[[\"Name\", \"Team\"]]\n",
    "nba[[\"Team\", \"Name\"]]\n",
    "colnames = [\"Salary\", \"Team\", \"Name\"]\n",
    "nba[colnames].head(3)"
   ]
  },
  {
   "cell_type": "markdown",
   "id": "9069f883-2bc7-4141-9996-5cc720796b09",
   "metadata": {},
   "source": [
    "### Add New Column to DataFrame\n"
   ]
  },
  {
   "cell_type": "code",
   "execution_count": null,
   "id": "e12165fe-306d-440d-95ff-0dcb5fb9085e",
   "metadata": {},
   "outputs": [],
   "source": [
    "nba = pd.read_csv(nba_path)\n",
    "nba.head()\n",
    "\n",
    "nba[\"Sport\"] = \"Basketball\"\n",
    "nba[\"League\"] = \"National Basektball Association\"\n",
    "display(nba.head(3))\n",
    "\n",
    "# Insert a new column in position 3, where the column name is \"Entertaining\" and the value is \"No\"\n",
    "nba.insert(loc=3, column=\"Entertaining\", value=\"No\")\n",
    "nba.head(3)"
   ]
  },
  {
   "cell_type": "markdown",
   "id": "ad1b57a9-8f51-4767-a119-95138b4c2e22",
   "metadata": {},
   "source": [
    "### Create New Column from Existing Column"
   ]
  },
  {
   "cell_type": "code",
   "execution_count": null,
   "id": "1a135678-6974-48d1-9b1f-2b4382091233",
   "metadata": {},
   "outputs": [],
   "source": [
    "nba = pd.read_csv(nba_path)\n",
    "\n",
    "nba[\"Age in a Decade\"] = nba[\"Age\"] + 10\n",
    "\n",
    "# Using methods to do the same\n",
    "nba.insert(loc=5, column=\"Age in a Decade 2\", value=nba[\"Age\"].add(10))\n",
    "\n",
    "nba[\"Weight (kg)\"] = nba[\"Weight\"] * 0.4535\n",
    "nba.head(3)\n",
    "\n",
    "# Override\n",
    "nba[\"Salary\"] = nba[\"Salary\"].mul(0.5)"
   ]
  },
  {
   "cell_type": "markdown",
   "id": "4924a7a8-db56-400d-999a-cb5a0b4f1728",
   "metadata": {},
   "source": [
    "### `value_counts()` method"
   ]
  },
  {
   "cell_type": "code",
   "execution_count": null,
   "id": "518c4bad-6821-42f6-b74b-b4034065defb",
   "metadata": {},
   "outputs": [],
   "source": [
    "nba = pd.read_csv(nba_path)\n",
    "nba.value_counts()  # Pretty useless\n",
    "nba[\"Position\"].value_counts()"
   ]
  },
  {
   "cell_type": "markdown",
   "id": "ec6948f3-0f61-45fc-97c3-a15719519508",
   "metadata": {},
   "source": [
    "### Drop DataFrame Rows with Null Values with the dropna Method"
   ]
  },
  {
   "cell_type": "code",
   "execution_count": null,
   "id": "d13f5abc-6635-4412-b37e-e361e677015d",
   "metadata": {},
   "outputs": [],
   "source": [
    "## nba = pd.read_csv(file_path + \"nba.csv\")\n",
    "nba.tail()\n",
    "\n",
    "nba.dropna()  # Drops all rows with one or more missing values\n",
    "\n",
    "nba.dropna(how=\"all\")  # Drops rows with all values are missing\n",
    "\n",
    "nba.dropna(subset=[\"College\"])  # Drops columns where the column College is missing\n",
    "\n",
    "nba.dropna(subset=[\"College\", \"Salary\"]).head(3)"
   ]
  },
  {
   "cell_type": "markdown",
   "id": "c9936f2e-0ef8-46c8-bfe0-09c4f3702c80",
   "metadata": {},
   "source": [
    "### Fill in Missing DataFrame Values with the fillna method"
   ]
  },
  {
   "cell_type": "code",
   "execution_count": null,
   "id": "7334369a-7f13-4ba9-9f20-59879ca30376",
   "metadata": {},
   "outputs": [],
   "source": [
    "nba = pd.read_csv(nba_path)\n",
    "\n",
    "nba.fillna(0)  # Fill  all missing values with zero\n",
    "\n",
    "nba[\"College\"] = nba[\"College\"].fillna(\"Unknown\")\n",
    "\n",
    "nba.head(3)"
   ]
  },
  {
   "cell_type": "markdown",
   "id": "55a031e2-24f8-4f2f-b95d-bcf2c38b5a94",
   "metadata": {},
   "source": [
    "### The `astype()` Method"
   ]
  },
  {
   "cell_type": "code",
   "execution_count": null,
   "id": "56acacc1-dc9d-4427-88df-cee837cd53e1",
   "metadata": {},
   "outputs": [],
   "source": [
    "nba[\n",
    "    \"Age\"\n",
    "].hasnans  # Pandas cannot converge column with nans to integer. They must be float..."
   ]
  },
  {
   "cell_type": "code",
   "execution_count": null,
   "id": "77528af7-0a4d-4c89-a398-89b126a2c537",
   "metadata": {},
   "outputs": [],
   "source": [
    "nba = pd.read_csv(nba_path).dropna(how=\"all\")\n",
    "\n",
    "# Pandas cannot converge column with nans to integer. They must be float...\n",
    "nba[\"Age\"].hasnans\n",
    "\n",
    "# The two below are the same\n",
    "nba[\"Age\"].astype(\"int\")  # Recommended\n",
    "nba[\"Age\"].astype(int)\n",
    "# The latter can only be used when the data type is in the python standard library\n",
    "\n",
    "nba[\"Age\"] = nba[\"Age\"].astype(\"int\")"
   ]
  },
  {
   "cell_type": "code",
   "execution_count": null,
   "id": "6558f152-c1e2-47c5-9196-529dbb7d2e1e",
   "metadata": {},
   "outputs": [],
   "source": [
    "# nba[\"Salary\"].astype(\"int\") # Does not work because Salary has NaNs\n",
    "\n",
    "nba[\"Salary\"] = nba[\"Salary\"].fillna(0).astype(\"int\")"
   ]
  },
  {
   "cell_type": "markdown",
   "id": "f7b53e36-2102-43a5-a481-bff3360b29e9",
   "metadata": {},
   "source": [
    "### The `category` dtype"
   ]
  },
  {
   "cell_type": "code",
   "execution_count": null,
   "id": "a473843a-0d53-413e-8ab2-4f4ad2fe25f7",
   "metadata": {},
   "outputs": [],
   "source": [
    "print(nba.info())\n",
    "nba[\"Position\"] = nba[\"Position\"].astype(\"category\")\n",
    "nba[\"Team\"] = nba[\"Team\"].astype(\"category\")\n",
    "print(nba.info())"
   ]
  },
  {
   "cell_type": "markdown",
   "id": "51f1e24e-0395-4a79-9fa9-8b6b81a44aba",
   "metadata": {},
   "source": [
    "### The `sort_value()` method"
   ]
  },
  {
   "cell_type": "code",
   "execution_count": null,
   "id": "b970f974-9eec-4df3-af11-f710e1bd93ac",
   "metadata": {},
   "outputs": [],
   "source": [
    "nba = pd.read_csv(nba_path)\n",
    "\n",
    "nba[\"Name\"].sort_values()\n",
    "\n",
    "nba.sort_values(by=\"Salary\", ascending=True)\n",
    "nba.sort_values(by=[\"Age\", \"Salary\"], ascending=True)\n",
    "\n",
    "nba.sort_values(by=\"Salary\", ascending=False, na_position=\"first\")\n",
    "\n",
    "nba = nba.sort_values(by=[\"Team\", \"Name\"], ascending=[True, False])"
   ]
  },
  {
   "cell_type": "markdown",
   "id": "0b824869-90ac-4613-9256-16ef5725bc82",
   "metadata": {},
   "source": [
    "### The `sort_index()` method"
   ]
  },
  {
   "cell_type": "code",
   "execution_count": null,
   "id": "bbde1051-a199-4f0a-95d8-5500c0629a63",
   "metadata": {},
   "outputs": [],
   "source": [
    "nba.sort_index(ascending=True)"
   ]
  },
  {
   "cell_type": "markdown",
   "id": "825a4704-795f-4905-9a5e-0ac9dfdd209b",
   "metadata": {},
   "source": [
    "### Rank Series Values with the rank method"
   ]
  },
  {
   "cell_type": "code",
   "execution_count": null,
   "id": "c81fa5e1-677b-4c63-84b7-15ef977a0d9f",
   "metadata": {},
   "outputs": [],
   "source": [
    "nba = pd.read_csv(nba_path).dropna(how=\"all\")\n",
    "\n",
    "nba[\"Salary\"] = nba[\"Salary\"].fillna(0).astype(\"int\")\n",
    "\n",
    "nba[\"Salary Rank\"] = nba[\"Salary\"].rank(ascending=False).astype(\"int\")\n",
    "\n",
    "nba.sort_values(by=\"Salary Rank\").head(3)"
   ]
  }
 ],
 "metadata": {
  "kernelspec": {
   "display_name": "pandas_playground",
   "language": "python",
   "name": "pandas_playground"
  },
  "language_info": {
   "codemirror_mode": {
    "name": "ipython",
    "version": 3
   },
   "file_extension": ".py",
   "mimetype": "text/x-python",
   "name": "python",
   "nbconvert_exporter": "python",
   "pygments_lexer": "ipython3",
   "version": "3.10.9"
  }
 },
 "nbformat": 4,
 "nbformat_minor": 5
}
