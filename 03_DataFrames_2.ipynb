{
 "cells": [
  {
   "cell_type": "markdown",
   "id": "20eb0f3a-319c-429a-bdc2-118ee1cf6bc5",
   "metadata": {},
   "source": [
    "# Filter Data"
   ]
  },
  {
   "cell_type": "code",
   "execution_count": 1,
   "id": "3a199c3e-4e21-492c-be60-b7114ec9f921",
   "metadata": {},
   "outputs": [
    {
     "data": {
      "text/html": [
       "\n",
       "                <script type=\"application/javascript\" id=\"jupyter_black\">\n",
       "                (function() {\n",
       "                    if (window.IPython === undefined) {\n",
       "                        return\n",
       "                    }\n",
       "                    var msg = \"WARNING: it looks like you might have loaded \" +\n",
       "                        \"jupyter_black in a non-lab notebook with \" +\n",
       "                        \"`is_lab=True`. Please double check, and if \" +\n",
       "                        \"loading with `%load_ext` please review the README!\"\n",
       "                    console.log(msg)\n",
       "                    alert(msg)\n",
       "                })()\n",
       "                </script>\n",
       "                "
      ],
      "text/plain": [
       "<IPython.core.display.HTML object>"
      ]
     },
     "metadata": {},
     "output_type": "display_data"
    }
   ],
   "source": [
    "import os\n",
    "import pandas as pd\n",
    "import jupyter_black\n",
    "\n",
    "jupyter_black.load()\n",
    "\n",
    "current_dir = os.path.dirname(os.path.abspath(\"__file__\"))"
   ]
  },
  {
   "cell_type": "markdown",
   "id": "a9da9d25-240a-4399-b4e5-d5a397af012c",
   "metadata": {},
   "source": [
    "### Set file path to datasets"
   ]
  },
  {
   "cell_type": "code",
   "execution_count": 2,
   "id": "7f525804-1b05-48bf-b67a-95c6236e897a",
   "metadata": {},
   "outputs": [],
   "source": [
    "employees_path = os.path.join(current_dir, \"data\", \"employees.csv\")"
   ]
  },
  {
   "cell_type": "code",
   "execution_count": 3,
   "id": "309797b5-5809-4f4a-8734-f904f3657683",
   "metadata": {},
   "outputs": [
    {
     "name": "stdout",
     "output_type": "stream",
     "text": [
      "<class 'pandas.core.frame.DataFrame'>\n",
      "RangeIndex: 1000 entries, 0 to 999\n",
      "Data columns (total 8 columns):\n",
      " #   Column             Non-Null Count  Dtype  \n",
      "---  ------             --------------  -----  \n",
      " 0   First Name         933 non-null    object \n",
      " 1   Gender             855 non-null    object \n",
      " 2   Start Date         1000 non-null   object \n",
      " 3   Last Login Time    1000 non-null   object \n",
      " 4   Salary             1000 non-null   int64  \n",
      " 5   Bonus %            1000 non-null   float64\n",
      " 6   Senior Management  933 non-null    object \n",
      " 7   Team               957 non-null    object \n",
      "dtypes: float64(1), int64(1), object(6)\n",
      "memory usage: 62.6+ KB\n"
     ]
    }
   ],
   "source": [
    "df = pd.read_csv(employees_path)\n",
    "df.info()"
   ]
  },
  {
   "cell_type": "code",
   "execution_count": 4,
   "id": "68980239-bb65-4b26-87b6-265f9486dbb2",
   "metadata": {},
   "outputs": [
    {
     "name": "stdout",
     "output_type": "stream",
     "text": [
      "<class 'pandas.core.frame.DataFrame'>\n",
      "RangeIndex: 1000 entries, 0 to 999\n",
      "Data columns (total 8 columns):\n",
      " #   Column             Non-Null Count  Dtype         \n",
      "---  ------             --------------  -----         \n",
      " 0   First Name         933 non-null    object        \n",
      " 1   Gender             855 non-null    object        \n",
      " 2   Start Date         1000 non-null   datetime64[ns]\n",
      " 3   Last Login Time    1000 non-null   datetime64[ns]\n",
      " 4   Salary             1000 non-null   int64         \n",
      " 5   Bonus %            1000 non-null   float64       \n",
      " 6   Senior Management  933 non-null    object        \n",
      " 7   Team               957 non-null    object        \n",
      "dtypes: datetime64[ns](2), float64(1), int64(1), object(4)\n",
      "memory usage: 62.6+ KB\n"
     ]
    }
   ],
   "source": [
    "# Convert \"Start Date\" to datetime\n",
    "df[\"Last Login Time\"] = pd.to_datetime(df[\"Start Date\"] + \" \" + df[\"Last Login Time\"])\n",
    "df[\"Start Date\"] = pd.to_datetime(df[\"Start Date\"])\n",
    "df.info()"
   ]
  },
  {
   "cell_type": "code",
   "execution_count": 5,
   "id": "f4ff0f88-cd4f-42fb-9a27-f8f8e128a553",
   "metadata": {},
   "outputs": [
    {
     "name": "stdout",
     "output_type": "stream",
     "text": [
      "<class 'pandas.core.frame.DataFrame'>\n",
      "RangeIndex: 1000 entries, 0 to 999\n",
      "Data columns (total 8 columns):\n",
      " #   Column             Non-Null Count  Dtype         \n",
      "---  ------             --------------  -----         \n",
      " 0   First Name         933 non-null    object        \n",
      " 1   Gender             855 non-null    category      \n",
      " 2   Start Date         1000 non-null   datetime64[ns]\n",
      " 3   Last Login Time    1000 non-null   datetime64[ns]\n",
      " 4   Salary             1000 non-null   int64         \n",
      " 5   Bonus %            1000 non-null   float64       \n",
      " 6   Senior Management  1000 non-null   bool          \n",
      " 7   Team               957 non-null    category      \n",
      "dtypes: bool(1), category(2), datetime64[ns](2), float64(1), int64(1), object(1)\n",
      "memory usage: 42.6+ KB\n"
     ]
    }
   ],
   "source": [
    "# Convert data types to datetime objects when reading in\n",
    "df = pd.read_csv(employees_path, parse_dates=[\"Start Date\", \"Last Login Time\"])\n",
    "# Convert other stuff\n",
    "df[\"Senior Management\"] = df[\"Senior Management\"].astype(\"bool\")\n",
    "df[\"Gender\"] = df[\"Gender\"].astype(\"category\")\n",
    "df[\"Team\"] = df[\"Team\"].astype(\"category\")\n",
    "df.info()"
   ]
  },
  {
   "cell_type": "markdown",
   "id": "3827ceb8-aba3-4a7b-a741-ac08ee92db3d",
   "metadata": {},
   "source": [
    "### Filter a DataFrame based on a condition"
   ]
  },
  {
   "cell_type": "code",
   "execution_count": 6,
   "id": "4f5b8890-3256-4336-9f2c-71022add96ef",
   "metadata": {},
   "outputs": [
    {
     "data": {
      "text/html": [
       "<div>\n",
       "<style scoped>\n",
       "    .dataframe tbody tr th:only-of-type {\n",
       "        vertical-align: middle;\n",
       "    }\n",
       "\n",
       "    .dataframe tbody tr th {\n",
       "        vertical-align: top;\n",
       "    }\n",
       "\n",
       "    .dataframe thead th {\n",
       "        text-align: right;\n",
       "    }\n",
       "</style>\n",
       "<table border=\"1\" class=\"dataframe\">\n",
       "  <thead>\n",
       "    <tr style=\"text-align: right;\">\n",
       "      <th></th>\n",
       "      <th>First Name</th>\n",
       "      <th>Gender</th>\n",
       "      <th>Start Date</th>\n",
       "      <th>Last Login Time</th>\n",
       "      <th>Salary</th>\n",
       "      <th>Bonus %</th>\n",
       "      <th>Senior Management</th>\n",
       "      <th>Team</th>\n",
       "    </tr>\n",
       "  </thead>\n",
       "  <tbody>\n",
       "    <tr>\n",
       "      <th>10</th>\n",
       "      <td>Louise</td>\n",
       "      <td>Female</td>\n",
       "      <td>1980-08-12</td>\n",
       "      <td>2023-03-15 09:01:00</td>\n",
       "      <td>63241</td>\n",
       "      <td>15.132</td>\n",
       "      <td>True</td>\n",
       "      <td>NaN</td>\n",
       "    </tr>\n",
       "    <tr>\n",
       "      <th>12</th>\n",
       "      <td>Brandon</td>\n",
       "      <td>Male</td>\n",
       "      <td>1980-12-01</td>\n",
       "      <td>2023-03-15 01:08:00</td>\n",
       "      <td>112807</td>\n",
       "      <td>17.492</td>\n",
       "      <td>True</td>\n",
       "      <td>Human Resources</td>\n",
       "    </tr>\n",
       "    <tr>\n",
       "      <th>18</th>\n",
       "      <td>Diana</td>\n",
       "      <td>Female</td>\n",
       "      <td>1981-10-23</td>\n",
       "      <td>2023-03-15 10:27:00</td>\n",
       "      <td>132940</td>\n",
       "      <td>19.082</td>\n",
       "      <td>False</td>\n",
       "      <td>Client Services</td>\n",
       "    </tr>\n",
       "  </tbody>\n",
       "</table>\n",
       "</div>"
      ],
      "text/plain": [
       "   First Name  Gender Start Date     Last Login Time  Salary  Bonus %  \\\n",
       "10     Louise  Female 1980-08-12 2023-03-15 09:01:00   63241   15.132   \n",
       "12    Brandon    Male 1980-12-01 2023-03-15 01:08:00  112807   17.492   \n",
       "18      Diana  Female 1981-10-23 2023-03-15 10:27:00  132940   19.082   \n",
       "\n",
       "    Senior Management             Team  \n",
       "10               True              NaN  \n",
       "12               True  Human Resources  \n",
       "18              False  Client Services  "
      ]
     },
     "execution_count": 6,
     "metadata": {},
     "output_type": "execute_result"
    }
   ],
   "source": [
    "df[df[\"Gender\"] == \"Male\"]\n",
    "df[df[\"Team\"] == \"Finance\"]\n",
    "mask = df[\"Team\"] == \"Finance\"\n",
    "df[mask]\n",
    "df[df[\"Senior Management\"]]\n",
    "df[df[\"Team\"] != \"Marketing\"]\n",
    "df[df[\"Salary\"] > 110000]\n",
    "df[df[\"Bonus %\"] < 1.5]\n",
    "df[df[\"Start Date\"] <= \"1985-01-01\"].head(3)"
   ]
  },
  {
   "cell_type": "markdown",
   "id": "ca4580c7-a3af-4e12-8cb9-2df07357b6b0",
   "metadata": {},
   "source": [
    "### Filter based on multiple conditions"
   ]
  },
  {
   "cell_type": "code",
   "execution_count": 7,
   "id": "e4a529f4-a03d-4bc8-8961-fc4d44c5b846",
   "metadata": {},
   "outputs": [
    {
     "data": {
      "text/html": [
       "<div>\n",
       "<style scoped>\n",
       "    .dataframe tbody tr th:only-of-type {\n",
       "        vertical-align: middle;\n",
       "    }\n",
       "\n",
       "    .dataframe tbody tr th {\n",
       "        vertical-align: top;\n",
       "    }\n",
       "\n",
       "    .dataframe thead th {\n",
       "        text-align: right;\n",
       "    }\n",
       "</style>\n",
       "<table border=\"1\" class=\"dataframe\">\n",
       "  <thead>\n",
       "    <tr style=\"text-align: right;\">\n",
       "      <th></th>\n",
       "      <th>First Name</th>\n",
       "      <th>Gender</th>\n",
       "      <th>Start Date</th>\n",
       "      <th>Last Login Time</th>\n",
       "      <th>Salary</th>\n",
       "      <th>Bonus %</th>\n",
       "      <th>Senior Management</th>\n",
       "      <th>Team</th>\n",
       "    </tr>\n",
       "  </thead>\n",
       "  <tbody>\n",
       "    <tr>\n",
       "      <th>15</th>\n",
       "      <td>Lillian</td>\n",
       "      <td>Female</td>\n",
       "      <td>2016-06-05</td>\n",
       "      <td>2023-03-15 06:09:00</td>\n",
       "      <td>59414</td>\n",
       "      <td>1.256</td>\n",
       "      <td>False</td>\n",
       "      <td>Product</td>\n",
       "    </tr>\n",
       "    <tr>\n",
       "      <th>98</th>\n",
       "      <td>Tina</td>\n",
       "      <td>Female</td>\n",
       "      <td>2016-06-16</td>\n",
       "      <td>2023-03-15 19:47:00</td>\n",
       "      <td>100705</td>\n",
       "      <td>16.961</td>\n",
       "      <td>True</td>\n",
       "      <td>Marketing</td>\n",
       "    </tr>\n",
       "    <tr>\n",
       "      <th>387</th>\n",
       "      <td>Robert</td>\n",
       "      <td>Male</td>\n",
       "      <td>1994-10-29</td>\n",
       "      <td>2023-03-15 04:26:00</td>\n",
       "      <td>123294</td>\n",
       "      <td>19.894</td>\n",
       "      <td>False</td>\n",
       "      <td>Client Services</td>\n",
       "    </tr>\n",
       "    <tr>\n",
       "      <th>451</th>\n",
       "      <td>Terry</td>\n",
       "      <td>NaN</td>\n",
       "      <td>2016-07-15</td>\n",
       "      <td>2023-03-15 00:29:00</td>\n",
       "      <td>140002</td>\n",
       "      <td>19.490</td>\n",
       "      <td>True</td>\n",
       "      <td>Marketing</td>\n",
       "    </tr>\n",
       "  </tbody>\n",
       "</table>\n",
       "</div>"
      ],
      "text/plain": [
       "    First Name  Gender Start Date     Last Login Time  Salary  Bonus %  \\\n",
       "15     Lillian  Female 2016-06-05 2023-03-15 06:09:00   59414    1.256   \n",
       "98        Tina  Female 2016-06-16 2023-03-15 19:47:00  100705   16.961   \n",
       "387     Robert    Male 1994-10-29 2023-03-15 04:26:00  123294   19.894   \n",
       "451      Terry     NaN 2016-07-15 2023-03-15 00:29:00  140002   19.490   \n",
       "\n",
       "     Senior Management             Team  \n",
       "15               False          Product  \n",
       "98                True        Marketing  \n",
       "387              False  Client Services  \n",
       "451               True        Marketing  "
      ]
     },
     "execution_count": 7,
     "metadata": {},
     "output_type": "execute_result"
    }
   ],
   "source": [
    "mask1 = df[\"Gender\"] == \"Male\"\n",
    "mask2 = df[\"Team\"] == \"Marketing\"\n",
    "df[mask1 & mask2].head(3)\n",
    "\n",
    "mask1 = df[\"Senior Management\"]\n",
    "mask2 = df[\"Start Date\"] < \"1990-01-01\"\n",
    "df[mask1 | mask2].head(3)\n",
    "\n",
    "mask1 = df[\"First Name\"] == \"Robert\"\n",
    "mask2 = df[\"Team\"] == \"Client Services\"\n",
    "mask3 = df[\"Start Date\"] > \"2016-06-01\"\n",
    "\n",
    "df[(mask1 & mask2) | mask3]"
   ]
  },
  {
   "cell_type": "markdown",
   "id": "e2da6e14-1eaa-4ad1-ae48-11442cfea8fc",
   "metadata": {},
   "source": [
    "### The `isin()` method"
   ]
  },
  {
   "cell_type": "code",
   "execution_count": 8,
   "id": "d09a5a4e-400d-48f4-a0c2-f85e2fb59526",
   "metadata": {},
   "outputs": [
    {
     "data": {
      "text/html": [
       "<div>\n",
       "<style scoped>\n",
       "    .dataframe tbody tr th:only-of-type {\n",
       "        vertical-align: middle;\n",
       "    }\n",
       "\n",
       "    .dataframe tbody tr th {\n",
       "        vertical-align: top;\n",
       "    }\n",
       "\n",
       "    .dataframe thead th {\n",
       "        text-align: right;\n",
       "    }\n",
       "</style>\n",
       "<table border=\"1\" class=\"dataframe\">\n",
       "  <thead>\n",
       "    <tr style=\"text-align: right;\">\n",
       "      <th></th>\n",
       "      <th>First Name</th>\n",
       "      <th>Gender</th>\n",
       "      <th>Start Date</th>\n",
       "      <th>Last Login Time</th>\n",
       "      <th>Salary</th>\n",
       "      <th>Bonus %</th>\n",
       "      <th>Senior Management</th>\n",
       "      <th>Team</th>\n",
       "    </tr>\n",
       "  </thead>\n",
       "  <tbody>\n",
       "    <tr>\n",
       "      <th>5</th>\n",
       "      <td>Dennis</td>\n",
       "      <td>Male</td>\n",
       "      <td>1987-04-18</td>\n",
       "      <td>2023-03-15 01:35:00</td>\n",
       "      <td>115163</td>\n",
       "      <td>10.125</td>\n",
       "      <td>False</td>\n",
       "      <td>Legal</td>\n",
       "    </tr>\n",
       "    <tr>\n",
       "      <th>6</th>\n",
       "      <td>Ruby</td>\n",
       "      <td>Female</td>\n",
       "      <td>1987-08-17</td>\n",
       "      <td>2023-03-15 16:20:00</td>\n",
       "      <td>65476</td>\n",
       "      <td>10.012</td>\n",
       "      <td>True</td>\n",
       "      <td>Product</td>\n",
       "    </tr>\n",
       "    <tr>\n",
       "      <th>11</th>\n",
       "      <td>Julie</td>\n",
       "      <td>Female</td>\n",
       "      <td>1997-10-26</td>\n",
       "      <td>2023-03-15 15:19:00</td>\n",
       "      <td>102508</td>\n",
       "      <td>12.637</td>\n",
       "      <td>True</td>\n",
       "      <td>Legal</td>\n",
       "    </tr>\n",
       "  </tbody>\n",
       "</table>\n",
       "</div>"
      ],
      "text/plain": [
       "   First Name  Gender Start Date     Last Login Time  Salary  Bonus %  \\\n",
       "5      Dennis    Male 1987-04-18 2023-03-15 01:35:00  115163   10.125   \n",
       "6        Ruby  Female 1987-08-17 2023-03-15 16:20:00   65476   10.012   \n",
       "11      Julie  Female 1997-10-26 2023-03-15 15:19:00  102508   12.637   \n",
       "\n",
       "    Senior Management     Team  \n",
       "5               False    Legal  \n",
       "6                True  Product  \n",
       "11               True    Legal  "
      ]
     },
     "execution_count": 8,
     "metadata": {},
     "output_type": "execute_result"
    }
   ],
   "source": [
    "mask1 = df[\"Team\"] == \"Legal\"\n",
    "mask2 = df[\"Team\"] == \"Sales\"\n",
    "mask3 = df[\"Team\"] == \"Product\"\n",
    "df[mask1 | mask2 | mask3].head(3)\n",
    "\n",
    "# Do this instead:\n",
    "mask = df[\"Team\"].isin([\"Legal\", \"Sales\", \"Product\"])\n",
    "df[mask].head(3)"
   ]
  },
  {
   "cell_type": "markdown",
   "id": "bf6d1ec2-4cd5-4145-bd51-a9d12a89272c",
   "metadata": {},
   "source": [
    "### The `isnull()` and `notnull()` Methods"
   ]
  },
  {
   "cell_type": "code",
   "execution_count": 9,
   "id": "86a128c7-85c4-4cba-b89a-dfd52f0c7b17",
   "metadata": {},
   "outputs": [
    {
     "data": {
      "text/html": [
       "<div>\n",
       "<style scoped>\n",
       "    .dataframe tbody tr th:only-of-type {\n",
       "        vertical-align: middle;\n",
       "    }\n",
       "\n",
       "    .dataframe tbody tr th {\n",
       "        vertical-align: top;\n",
       "    }\n",
       "\n",
       "    .dataframe thead th {\n",
       "        text-align: right;\n",
       "    }\n",
       "</style>\n",
       "<table border=\"1\" class=\"dataframe\">\n",
       "  <thead>\n",
       "    <tr style=\"text-align: right;\">\n",
       "      <th></th>\n",
       "      <th>First Name</th>\n",
       "      <th>Gender</th>\n",
       "      <th>Start Date</th>\n",
       "      <th>Last Login Time</th>\n",
       "      <th>Salary</th>\n",
       "      <th>Bonus %</th>\n",
       "      <th>Senior Management</th>\n",
       "      <th>Team</th>\n",
       "    </tr>\n",
       "  </thead>\n",
       "  <tbody>\n",
       "    <tr>\n",
       "      <th>0</th>\n",
       "      <td>Douglas</td>\n",
       "      <td>Male</td>\n",
       "      <td>1993-08-06</td>\n",
       "      <td>2023-03-15 12:42:00</td>\n",
       "      <td>97308</td>\n",
       "      <td>6.945</td>\n",
       "      <td>True</td>\n",
       "      <td>Marketing</td>\n",
       "    </tr>\n",
       "    <tr>\n",
       "      <th>1</th>\n",
       "      <td>Thomas</td>\n",
       "      <td>Male</td>\n",
       "      <td>1996-03-31</td>\n",
       "      <td>2023-03-15 06:53:00</td>\n",
       "      <td>61933</td>\n",
       "      <td>4.170</td>\n",
       "      <td>True</td>\n",
       "      <td>NaN</td>\n",
       "    </tr>\n",
       "    <tr>\n",
       "      <th>2</th>\n",
       "      <td>Maria</td>\n",
       "      <td>Female</td>\n",
       "      <td>1993-04-23</td>\n",
       "      <td>2023-03-15 11:17:00</td>\n",
       "      <td>130590</td>\n",
       "      <td>11.858</td>\n",
       "      <td>False</td>\n",
       "      <td>Finance</td>\n",
       "    </tr>\n",
       "  </tbody>\n",
       "</table>\n",
       "</div>"
      ],
      "text/plain": [
       "  First Name  Gender Start Date     Last Login Time  Salary  Bonus %  \\\n",
       "0    Douglas    Male 1993-08-06 2023-03-15 12:42:00   97308    6.945   \n",
       "1     Thomas    Male 1996-03-31 2023-03-15 06:53:00   61933    4.170   \n",
       "2      Maria  Female 1993-04-23 2023-03-15 11:17:00  130590   11.858   \n",
       "\n",
       "   Senior Management       Team  \n",
       "0               True  Marketing  \n",
       "1               True        NaN  \n",
       "2              False    Finance  "
      ]
     },
     "execution_count": 9,
     "metadata": {},
     "output_type": "execute_result"
    }
   ],
   "source": [
    "mask = df[\"Team\"].isnull()\n",
    "df[mask].head(3)\n",
    "\n",
    "mask = df[\"Gender\"].notnull()\n",
    "df[mask].head(3)"
   ]
  },
  {
   "cell_type": "markdown",
   "id": "79ec0598-2790-4b27-b349-a66bb73e54d6",
   "metadata": {},
   "source": [
    "### The `between()` method"
   ]
  },
  {
   "cell_type": "code",
   "execution_count": 10,
   "id": "7296f220-36e3-42f3-bcf0-61a6e86b9c4f",
   "metadata": {},
   "outputs": [
    {
     "data": {
      "text/html": [
       "<div>\n",
       "<style scoped>\n",
       "    .dataframe tbody tr th:only-of-type {\n",
       "        vertical-align: middle;\n",
       "    }\n",
       "\n",
       "    .dataframe tbody tr th {\n",
       "        vertical-align: top;\n",
       "    }\n",
       "\n",
       "    .dataframe thead th {\n",
       "        text-align: right;\n",
       "    }\n",
       "</style>\n",
       "<table border=\"1\" class=\"dataframe\">\n",
       "  <thead>\n",
       "    <tr style=\"text-align: right;\">\n",
       "      <th></th>\n",
       "      <th>First Name</th>\n",
       "      <th>Gender</th>\n",
       "      <th>Start Date</th>\n",
       "      <th>Last Login Time</th>\n",
       "      <th>Salary</th>\n",
       "      <th>Bonus %</th>\n",
       "      <th>Senior Management</th>\n",
       "      <th>Team</th>\n",
       "    </tr>\n",
       "  </thead>\n",
       "  <tbody>\n",
       "    <tr>\n",
       "      <th>2</th>\n",
       "      <td>Maria</td>\n",
       "      <td>Female</td>\n",
       "      <td>1993-04-23</td>\n",
       "      <td>2023-03-15 11:17:00</td>\n",
       "      <td>130590</td>\n",
       "      <td>11.858</td>\n",
       "      <td>False</td>\n",
       "      <td>Finance</td>\n",
       "    </tr>\n",
       "    <tr>\n",
       "      <th>7</th>\n",
       "      <td>NaN</td>\n",
       "      <td>Female</td>\n",
       "      <td>2015-07-20</td>\n",
       "      <td>2023-03-15 10:43:00</td>\n",
       "      <td>45906</td>\n",
       "      <td>11.598</td>\n",
       "      <td>True</td>\n",
       "      <td>Finance</td>\n",
       "    </tr>\n",
       "    <tr>\n",
       "      <th>10</th>\n",
       "      <td>Louise</td>\n",
       "      <td>Female</td>\n",
       "      <td>1980-08-12</td>\n",
       "      <td>2023-03-15 09:01:00</td>\n",
       "      <td>63241</td>\n",
       "      <td>15.132</td>\n",
       "      <td>True</td>\n",
       "      <td>NaN</td>\n",
       "    </tr>\n",
       "  </tbody>\n",
       "</table>\n",
       "</div>"
      ],
      "text/plain": [
       "   First Name  Gender Start Date     Last Login Time  Salary  Bonus %  \\\n",
       "2       Maria  Female 1993-04-23 2023-03-15 11:17:00  130590   11.858   \n",
       "7         NaN  Female 2015-07-20 2023-03-15 10:43:00   45906   11.598   \n",
       "10     Louise  Female 1980-08-12 2023-03-15 09:01:00   63241   15.132   \n",
       "\n",
       "    Senior Management     Team  \n",
       "2               False  Finance  \n",
       "7                True  Finance  \n",
       "10               True      NaN  "
      ]
     },
     "execution_count": 10,
     "metadata": {},
     "output_type": "execute_result"
    }
   ],
   "source": [
    "mask = df[\"Salary\"].between(60000, 70000)\n",
    "df[mask]\n",
    "df[df[\"Bonus %\"].between(2, 5)]\n",
    "\n",
    "df[df[\"Start Date\"].between(\"1990-01-01\", \"1992-01-01\")].head(3)\n",
    "df[df[\"Last Login Time\"].between(\"08:30AM\", \"12:00PM\")].head(3)"
   ]
  },
  {
   "cell_type": "markdown",
   "id": "2909781b-309d-405d-be4a-e0162aa2c48d",
   "metadata": {},
   "source": [
    "### The `dulicated()` method"
   ]
  },
  {
   "cell_type": "code",
   "execution_count": 11,
   "id": "55315a08-0a78-47f9-91ae-1ffed985c341",
   "metadata": {},
   "outputs": [
    {
     "data": {
      "text/html": [
       "<div>\n",
       "<style scoped>\n",
       "    .dataframe tbody tr th:only-of-type {\n",
       "        vertical-align: middle;\n",
       "    }\n",
       "\n",
       "    .dataframe tbody tr th {\n",
       "        vertical-align: top;\n",
       "    }\n",
       "\n",
       "    .dataframe thead th {\n",
       "        text-align: right;\n",
       "    }\n",
       "</style>\n",
       "<table border=\"1\" class=\"dataframe\">\n",
       "  <thead>\n",
       "    <tr style=\"text-align: right;\">\n",
       "      <th></th>\n",
       "      <th>First Name</th>\n",
       "      <th>Gender</th>\n",
       "      <th>Start Date</th>\n",
       "      <th>Last Login Time</th>\n",
       "      <th>Salary</th>\n",
       "      <th>Bonus %</th>\n",
       "      <th>Senior Management</th>\n",
       "      <th>Team</th>\n",
       "    </tr>\n",
       "  </thead>\n",
       "  <tbody>\n",
       "    <tr>\n",
       "      <th>0</th>\n",
       "      <td>Douglas</td>\n",
       "      <td>Male</td>\n",
       "      <td>1993-08-06</td>\n",
       "      <td>2023-03-15 12:42:00</td>\n",
       "      <td>97308</td>\n",
       "      <td>6.945</td>\n",
       "      <td>True</td>\n",
       "      <td>Marketing</td>\n",
       "    </tr>\n",
       "    <tr>\n",
       "      <th>1</th>\n",
       "      <td>Thomas</td>\n",
       "      <td>Male</td>\n",
       "      <td>1996-03-31</td>\n",
       "      <td>2023-03-15 06:53:00</td>\n",
       "      <td>61933</td>\n",
       "      <td>4.170</td>\n",
       "      <td>True</td>\n",
       "      <td>NaN</td>\n",
       "    </tr>\n",
       "    <tr>\n",
       "      <th>2</th>\n",
       "      <td>Maria</td>\n",
       "      <td>Female</td>\n",
       "      <td>1993-04-23</td>\n",
       "      <td>2023-03-15 11:17:00</td>\n",
       "      <td>130590</td>\n",
       "      <td>11.858</td>\n",
       "      <td>False</td>\n",
       "      <td>Finance</td>\n",
       "    </tr>\n",
       "  </tbody>\n",
       "</table>\n",
       "</div>"
      ],
      "text/plain": [
       "  First Name  Gender Start Date     Last Login Time  Salary  Bonus %  \\\n",
       "0    Douglas    Male 1993-08-06 2023-03-15 12:42:00   97308    6.945   \n",
       "1     Thomas    Male 1996-03-31 2023-03-15 06:53:00   61933    4.170   \n",
       "2      Maria  Female 1993-04-23 2023-03-15 11:17:00  130590   11.858   \n",
       "\n",
       "   Senior Management       Team  \n",
       "0               True  Marketing  \n",
       "1               True        NaN  \n",
       "2              False    Finance  "
      ]
     },
     "execution_count": 11,
     "metadata": {},
     "output_type": "execute_result"
    }
   ],
   "source": [
    "df[\"First Name\"].duplicated(keep=\"first\")\n",
    "df[\"First Name\"].duplicated(keep=\"last\")\n",
    "df[\"First Name\"].duplicated(keep=False)\n",
    "\n",
    "df[~df[\"First Name\"].duplicated()].head(3)"
   ]
  },
  {
   "cell_type": "markdown",
   "id": "5bcf73ff-080a-44eb-9068-3df26ca221b7",
   "metadata": {},
   "source": [
    "### The `drop_duplicates()` method"
   ]
  },
  {
   "cell_type": "code",
   "execution_count": 12,
   "id": "80f3e9c6-d98d-43a7-96c9-9100ca87c794",
   "metadata": {},
   "outputs": [
    {
     "data": {
      "text/html": [
       "<div>\n",
       "<style scoped>\n",
       "    .dataframe tbody tr th:only-of-type {\n",
       "        vertical-align: middle;\n",
       "    }\n",
       "\n",
       "    .dataframe tbody tr th {\n",
       "        vertical-align: top;\n",
       "    }\n",
       "\n",
       "    .dataframe thead th {\n",
       "        text-align: right;\n",
       "    }\n",
       "</style>\n",
       "<table border=\"1\" class=\"dataframe\">\n",
       "  <thead>\n",
       "    <tr style=\"text-align: right;\">\n",
       "      <th></th>\n",
       "      <th>First Name</th>\n",
       "      <th>Gender</th>\n",
       "      <th>Start Date</th>\n",
       "      <th>Last Login Time</th>\n",
       "      <th>Salary</th>\n",
       "      <th>Bonus %</th>\n",
       "      <th>Senior Management</th>\n",
       "      <th>Team</th>\n",
       "    </tr>\n",
       "  </thead>\n",
       "  <tbody>\n",
       "    <tr>\n",
       "      <th>1</th>\n",
       "      <td>Thomas</td>\n",
       "      <td>Male</td>\n",
       "      <td>1996-03-31</td>\n",
       "      <td>2023-03-15 06:53:00</td>\n",
       "      <td>61933</td>\n",
       "      <td>4.170</td>\n",
       "      <td>True</td>\n",
       "      <td>NaN</td>\n",
       "    </tr>\n",
       "    <tr>\n",
       "      <th>2</th>\n",
       "      <td>Maria</td>\n",
       "      <td>Female</td>\n",
       "      <td>1993-04-23</td>\n",
       "      <td>2023-03-15 11:17:00</td>\n",
       "      <td>130590</td>\n",
       "      <td>11.858</td>\n",
       "      <td>False</td>\n",
       "      <td>Finance</td>\n",
       "    </tr>\n",
       "    <tr>\n",
       "      <th>4</th>\n",
       "      <td>Larry</td>\n",
       "      <td>Male</td>\n",
       "      <td>1998-01-24</td>\n",
       "      <td>2023-03-15 16:47:00</td>\n",
       "      <td>101004</td>\n",
       "      <td>1.389</td>\n",
       "      <td>True</td>\n",
       "      <td>Client Services</td>\n",
       "    </tr>\n",
       "  </tbody>\n",
       "</table>\n",
       "</div>"
      ],
      "text/plain": [
       "  First Name  Gender Start Date     Last Login Time  Salary  Bonus %  \\\n",
       "1     Thomas    Male 1996-03-31 2023-03-15 06:53:00   61933    4.170   \n",
       "2      Maria  Female 1993-04-23 2023-03-15 11:17:00  130590   11.858   \n",
       "4      Larry    Male 1998-01-24 2023-03-15 16:47:00  101004    1.389   \n",
       "\n",
       "   Senior Management             Team  \n",
       "1               True              NaN  \n",
       "2              False          Finance  \n",
       "4               True  Client Services  "
      ]
     },
     "execution_count": 12,
     "metadata": {},
     "output_type": "execute_result"
    }
   ],
   "source": [
    "df.drop_duplicates(subset=[\"First Name\", \"Team\"], keep=False).head(3)"
   ]
  },
  {
   "cell_type": "markdown",
   "id": "4059682b-ea3e-48a2-a6cf-61e195d77eb3",
   "metadata": {},
   "source": [
    "### The `unique()` and `nunique()` methods"
   ]
  },
  {
   "cell_type": "code",
   "execution_count": 13,
   "id": "37a7957a-fb70-4217-a6b1-3a4d85937d92",
   "metadata": {},
   "outputs": [
    {
     "data": {
      "text/plain": [
       "2"
      ]
     },
     "execution_count": 13,
     "metadata": {},
     "output_type": "execute_result"
    }
   ],
   "source": [
    "df[\"Gender\"].unique()\n",
    "df[\"Gender\"].nunique()"
   ]
  }
 ],
 "metadata": {
  "kernelspec": {
   "display_name": "pandas_playground",
   "language": "python",
   "name": "pandas_playground"
  },
  "language_info": {
   "codemirror_mode": {
    "name": "ipython",
    "version": 3
   },
   "file_extension": ".py",
   "mimetype": "text/x-python",
   "name": "python",
   "nbconvert_exporter": "python",
   "pygments_lexer": "ipython3",
   "version": "3.10.9"
  }
 },
 "nbformat": 4,
 "nbformat_minor": 5
}
