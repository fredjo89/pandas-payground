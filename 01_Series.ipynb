{
 "cells": [
  {
   "cell_type": "markdown",
   "id": "cb192847-56fd-4794-9e7d-b5253e5a521b",
   "metadata": {},
   "source": [
    "[Here](https://pypi.org/project/jupyter-black/) you can download Jupyter Black formatter"
   ]
  },
  {
   "cell_type": "code",
   "execution_count": 2,
   "id": "4a041e5c-d237-4658-8293-c7bef2d573c3",
   "metadata": {},
   "outputs": [
    {
     "data": {
      "text/html": [
       "\n",
       "                <script type=\"application/javascript\" id=\"jupyter_black\">\n",
       "                (function() {\n",
       "                    if (window.IPython === undefined) {\n",
       "                        return\n",
       "                    }\n",
       "                    var msg = \"WARNING: it looks like you might have loaded \" +\n",
       "                        \"jupyter_black in a non-lab notebook with \" +\n",
       "                        \"`is_lab=True`. Please double check, and if \" +\n",
       "                        \"loading with `%load_ext` please review the README!\"\n",
       "                    console.log(msg)\n",
       "                    alert(msg)\n",
       "                })()\n",
       "                </script>\n",
       "                "
      ],
      "text/plain": [
       "<IPython.core.display.HTML object>"
      ]
     },
     "metadata": {},
     "output_type": "display_data"
    }
   ],
   "source": [
    "import os\n",
    "import pandas as pd\n",
    "import jupyter_black\n",
    "\n",
    "jupyter_black.load()\n",
    "\n",
    "current_dir = os.path.dirname(os.path.abspath(\"__file__\"))"
   ]
  },
  {
   "cell_type": "markdown",
   "id": "5256f921-d22b-44c8-b901-24499cd13dce",
   "metadata": {},
   "source": [
    "### Set file path to datasets"
   ]
  },
  {
   "cell_type": "code",
   "execution_count": 3,
   "id": "b9a989c1-5f3a-4926-bcbe-efe625d4eb33",
   "metadata": {},
   "outputs": [],
   "source": [
    "pokemon_path = os.path.join(current_dir, \"data\", \"pokemon.csv\")\n",
    "google_path = os.path.join(current_dir, \"data\", \"google_stock_price.csv\")"
   ]
  },
  {
   "cell_type": "markdown",
   "id": "47d40bee-f601-43da-a35f-14c75cc227b3",
   "metadata": {},
   "source": [
    "### Create a Series object"
   ]
  },
  {
   "cell_type": "code",
   "execution_count": 4,
   "id": "a13d1c59-bfb8-4ff9-8d10-4de1f9a83aee",
   "metadata": {},
   "outputs": [
    {
     "data": {
      "text/plain": [
       "Salmon    Orange\n",
       "Tuna         Red\n",
       "Eel        Brown\n",
       "dtype: object"
      ]
     },
     "execution_count": 4,
     "metadata": {},
     "output_type": "execute_result"
    }
   ],
   "source": [
    "# From list\n",
    "ice_cream = [\"Chocolate\", \"Vanilla\", \"Strawberry\", \"Rum Rasin\"]\n",
    "pd.Series(ice_cream)\n",
    "# From Dict\n",
    "sushi = {\"Salmon\": \"Orange\", \"Tuna\": \"Red\", \"Eel\": \"Brown\"}\n",
    "pd.Series(sushi).head(3)"
   ]
  },
  {
   "cell_type": "markdown",
   "id": "a2009e24-03d4-4f66-be5e-70fa8aeaaa9e",
   "metadata": {},
   "source": [
    "### Methods"
   ]
  },
  {
   "cell_type": "code",
   "execution_count": 5,
   "id": "c46b838d-6137-4d1f-bea7-46219d7f6cd8",
   "metadata": {},
   "outputs": [
    {
     "name": "stdout",
     "output_type": "stream",
     "text": [
      "Fredrik Johannessen\n",
      "Sum:      8.56\n",
      "Product: 15.17\n",
      "Mean:     2.14\n"
     ]
    }
   ],
   "source": [
    "print(\"fredrik johannessen\".title())  # Make each word capitalized\n",
    "prices = pd.Series([1.99, 2.50, 3.08, 0.99])\n",
    "print(f\"Sum:      {prices.sum():.2f}\")\n",
    "print(f\"Product: {prices.product():.2f}\")\n",
    "print(f\"Mean:     {prices.mean():.2f}\")"
   ]
  },
  {
   "cell_type": "markdown",
   "id": "06886a97-b52b-41d9-951a-06e138e03179",
   "metadata": {},
   "source": [
    "## Attributes"
   ]
  },
  {
   "cell_type": "markdown",
   "id": "af9eb137-d0c6-4886-b777-41f98196de4e",
   "metadata": {},
   "source": [
    "A method is a command, while an attribute is an attribute"
   ]
  },
  {
   "cell_type": "code",
   "execution_count": 6,
   "id": "d3c3af41-cb1c-474c-85e4-82b887f29cb6",
   "metadata": {},
   "outputs": [
    {
     "name": "stdout",
     "output_type": "stream",
     "text": [
      "6\n",
      "False\n"
     ]
    }
   ],
   "source": [
    "adjectives = pd.Series(\n",
    "    [\"Smart\", \"Handsome\", \"Charming\", \"Brilliant\", \"Humble\", \"Smart\"]\n",
    ")\n",
    "print(adjectives.size)\n",
    "print(adjectives.is_unique)"
   ]
  },
  {
   "cell_type": "markdown",
   "id": "02d7de82-4b89-462b-b2ef-43cf3444a006",
   "metadata": {},
   "source": [
    "The `values()` method returns a `numpy` array"
   ]
  },
  {
   "cell_type": "code",
   "execution_count": 7,
   "id": "73e1fb2c-4f6f-419a-b649-4714f034d4f3",
   "metadata": {},
   "outputs": [
    {
     "name": "stdout",
     "output_type": "stream",
     "text": [
      "['Smart' 'Handsome' 'Charming' 'Brilliant' 'Humble' 'Smart']\n",
      "<class 'numpy.ndarray'>\n"
     ]
    }
   ],
   "source": [
    "print(adjectives.values)\n",
    "print(type(adjectives.values))"
   ]
  },
  {
   "cell_type": "code",
   "execution_count": 8,
   "id": "930fc0ab-6844-400a-b3ff-1b4f561ff636",
   "metadata": {},
   "outputs": [
    {
     "name": "stdout",
     "output_type": "stream",
     "text": [
      "RangeIndex(start=0, stop=6, step=1)\n",
      "<class 'pandas.core.indexes.range.RangeIndex'>\n",
      "object\n"
     ]
    }
   ],
   "source": [
    "print(adjectives.index)\n",
    "print(type(adjectives.index))\n",
    "print(adjectives.dtype)"
   ]
  },
  {
   "cell_type": "markdown",
   "id": "c02c821e-f7ee-4388-aa9d-9ac228d3e5a9",
   "metadata": {},
   "source": [
    "## Parameters and Arguments"
   ]
  },
  {
   "cell_type": "markdown",
   "id": "03d1b506-4976-4fb3-9b1e-0f62f24cb97d",
   "metadata": {},
   "source": [
    "A parameter is the name we give to an expected input <br>\n",
    "An argument is the concrete value we give to a parameter"
   ]
  },
  {
   "cell_type": "code",
   "execution_count": 9,
   "id": "32270f17-3d0a-4d7d-bfb8-08836f799b48",
   "metadata": {},
   "outputs": [],
   "source": [
    "difficulty = \"Hard\"  # difficulty is the parameter, \"hard\" is the argument"
   ]
  },
  {
   "cell_type": "markdown",
   "id": "0c0ef90b-d7ad-48ec-ae2b-c8123e756a87",
   "metadata": {},
   "source": [
    "### If you place the cursor inside the empty parantheses and pres shift+tab, you will get info about the method. Try it!"
   ]
  },
  {
   "cell_type": "code",
   "execution_count": 9,
   "id": "b072ecbb-2eac-45ea-b360-8ddd39859c7d",
   "metadata": {},
   "outputs": [
    {
     "name": "stderr",
     "output_type": "stream",
     "text": [
      "C:\\Users\\FJO017\\AppData\\Local\\Temp\\ipykernel_19364\\575854448.py:1: FutureWarning: The default dtype for empty Series will be 'object' instead of 'float64' in a future version. Specify a dtype explicitly to silence this warning.\n",
      "  pd.Series();\n"
     ]
    }
   ],
   "source": [
    "pd.Series();"
   ]
  },
  {
   "cell_type": "markdown",
   "id": "ea89b42e-8420-42aa-bdfd-1b32f465ff9c",
   "metadata": {},
   "source": [
    "### Named Index and Values"
   ]
  },
  {
   "cell_type": "code",
   "execution_count": 10,
   "id": "58c09d04-3eb7-4302-acf2-284d6c0d1c03",
   "metadata": {},
   "outputs": [
    {
     "data": {
      "text/plain": [
       "Monday        Apple\n",
       "Tuesday      Orange\n",
       "Wednesday    Banana\n",
       "Thursday       Pear\n",
       "dtype: object"
      ]
     },
     "execution_count": 10,
     "metadata": {},
     "output_type": "execute_result"
    }
   ],
   "source": [
    "fruits = [\"Apple\", \"Orange\", \"Banana\", \"Pear\"]\n",
    "weekdays = [\"Monday\", \"Tuesday\", \"Wednesday\", \"Thursday\"]\n",
    "pd.Series(fruits, weekdays)\n",
    "pd.Series(index=weekdays, data=fruits)"
   ]
  },
  {
   "cell_type": "markdown",
   "id": "76d6c192-8b17-4c42-8662-4ee644185a08",
   "metadata": {},
   "source": [
    "## Import Series with the `pd.read_csv()` function"
   ]
  },
  {
   "cell_type": "code",
   "execution_count": 11,
   "id": "7341dc2d-acfd-43bb-81b1-53bab321c511",
   "metadata": {},
   "outputs": [
    {
     "data": {
      "text/plain": [
       "0    50.12\n",
       "1    54.10\n",
       "2    54.65\n",
       "Name: Stock Price, dtype: float64"
      ]
     },
     "execution_count": 11,
     "metadata": {},
     "output_type": "execute_result"
    }
   ],
   "source": [
    "file_name = \"pokemon.csv\"\n",
    "\n",
    "# Squeeze turns the returned DataFrame to a Series\n",
    "pokemon = pd.read_csv(pokemon_path, usecols=[\"Pokemon\"]).squeeze()\n",
    "\n",
    "google = pd.read_csv(google_path, usecols=[\"Stock Price\"]).squeeze(\"columns\")\n",
    "\n",
    "google.head(3)"
   ]
  },
  {
   "cell_type": "markdown",
   "id": "31121c7e-86bf-4368-a77c-39054589d7f5",
   "metadata": {},
   "source": [
    "### Head, Tail, Sample methods"
   ]
  },
  {
   "cell_type": "code",
   "execution_count": 12,
   "id": "22413b69-8752-4850-9820-d98371d5a08e",
   "metadata": {},
   "outputs": [
    {
     "name": "stdout",
     "output_type": "stream",
     "text": [
      "0    50.12\n",
      "Name: Stock Price, dtype: float64\n",
      "3010    771.61\n",
      "3011    782.22\n",
      "Name: Stock Price, dtype: float64\n",
      "1581    277.58\n",
      "489     193.87\n",
      "1774    260.83\n",
      "Name: Stock Price, dtype: float64\n"
     ]
    }
   ],
   "source": [
    "print(google.head(1))\n",
    "print(google.tail(2))\n",
    "print(google.sample(3))"
   ]
  },
  {
   "cell_type": "markdown",
   "id": "b5841628-79f9-4544-98eb-5f5a8c5f4a6b",
   "metadata": {},
   "source": [
    "### Pandas Series to Pythons built in functions"
   ]
  },
  {
   "cell_type": "code",
   "execution_count": 13,
   "id": "f57cae18-3932-4760-8f48-5c8859477093",
   "metadata": {},
   "outputs": [
    {
     "name": "stdout",
     "output_type": "stream",
     "text": [
      "721\n",
      "<class 'pandas.core.series.Series'>\n",
      "['T', '_AXIS_LEN', '_AXIS_ORDERS', '_AXIS_TO_AXIS_NUMBER', '_HANDLED_TYPES', '__abs__', '__add__', '__and__', '__annotations__', '__array__']\n",
      "['Abomasnow', 'Abra', 'Absol', 'Accelgor', 'Aegislash']\n",
      "['Bulbasaur', 'Ivysaur', 'Venusaur', 'Charmander', 'Charmeleon']\n",
      "Zygarde\n",
      "Abomasnow\n"
     ]
    }
   ],
   "source": [
    "print(len(pokemon))\n",
    "print(type(pokemon))\n",
    "print(dir(pokemon)[0:10])\n",
    "print(sorted(pokemon)[0:5])\n",
    "print(list(pokemon)[0:5])\n",
    "dict(pokemon)\n",
    "# Long to print out\n",
    "print(max(pokemon))\n",
    "print(min(pokemon))"
   ]
  },
  {
   "cell_type": "markdown",
   "id": "5475612e-88fa-490a-8b99-fd76f69aeb04",
   "metadata": {},
   "source": [
    "### The `sort_values()` and `sort_index()` methods"
   ]
  },
  {
   "cell_type": "code",
   "execution_count": 15,
   "id": "2a65e84d-21ef-497d-906d-f6d1ec30f965",
   "metadata": {},
   "outputs": [
    {
     "data": {
      "text/plain": [
       "0    50.12\n",
       "1    54.10\n",
       "2    54.65\n",
       "Name: Stock Price, dtype: float64"
      ]
     },
     "execution_count": 15,
     "metadata": {},
     "output_type": "execute_result"
    }
   ],
   "source": [
    "google.sort_values(ascending=False).head(3)\n",
    "google.sort_index(ascending=True).head(3)"
   ]
  },
  {
   "cell_type": "markdown",
   "id": "83a458ed-58d2-41a4-8e28-14c874f1fc23",
   "metadata": {},
   "source": [
    "### Checking for inclusion with pythons `IN` keyword"
   ]
  },
  {
   "cell_type": "code",
   "execution_count": 16,
   "id": "38ba5182-d441-47cb-96a9-fa5d8e4e0216",
   "metadata": {},
   "outputs": [
    {
     "data": {
      "text/plain": [
       "True"
      ]
     },
     "execution_count": 16,
     "metadata": {},
     "output_type": "execute_result"
    }
   ],
   "source": [
    "pokemon = pd.read_csv(pokemon_path, index_col=\"Pokemon\").squeeze()\n",
    "\n",
    "\"Pikachu\" in pokemon  # equivalent to \"Pikachu\" in pokemon.index\n",
    "\"Grass\" in pokemon.values"
   ]
  },
  {
   "cell_type": "markdown",
   "id": "ca1dfe87-52bb-4db5-b053-892f392d540d",
   "metadata": {},
   "source": [
    "### Extracting Series values by Index Position"
   ]
  },
  {
   "cell_type": "code",
   "execution_count": 17,
   "id": "30ca3a91-bc66-4606-9e2d-8820dd9eb3c0",
   "metadata": {},
   "outputs": [
    {
     "data": {
      "text/plain": [
       "3007    772.88\n",
       "3008    771.07\n",
       "3009    773.18\n",
       "3010    771.61\n",
       "3011    782.22\n",
       "Name: Stock Price, dtype: float64"
      ]
     },
     "execution_count": 17,
     "metadata": {},
     "output_type": "execute_result"
    }
   ],
   "source": [
    "# Similar to get value of list\n",
    "google[0]\n",
    "google[[0, 1, 3]]\n",
    "google[0:3]\n",
    "google[-5:]"
   ]
  },
  {
   "cell_type": "markdown",
   "id": "0ef67ff4-00c3-4701-b64c-2fa8023c9b10",
   "metadata": {},
   "source": [
    "### Extract Series values by Index Label"
   ]
  },
  {
   "cell_type": "code",
   "execution_count": 18,
   "id": "2dccbc43-b6c8-4001-bea1-79d30f416510",
   "metadata": {},
   "outputs": [
    {
     "data": {
      "text/plain": [
       "Pokemon\n",
       "Mewtwo        Psychic\n",
       "Charizard        Fire\n",
       "Pikachu      Electric\n",
       "Name: Type, dtype: object"
      ]
     },
     "execution_count": 18,
     "metadata": {},
     "output_type": "execute_result"
    }
   ],
   "source": [
    "# The following two give the same output:\n",
    "pokemon[0]\n",
    "pokemon[\"Bulbasaur\"]\n",
    "pokemon[[\"Mewtwo\", \"Charizard\", \"Pikachu\"]]"
   ]
  },
  {
   "cell_type": "markdown",
   "id": "18b2ec29-5e1a-47ef-b8b2-3720c1571dd6",
   "metadata": {},
   "source": [
    "### The `get()` method on a Series"
   ]
  },
  {
   "cell_type": "code",
   "execution_count": 19,
   "id": "9fd27941-7e0b-4356-a17a-ae582b0371e7",
   "metadata": {},
   "outputs": [
    {
     "data": {
      "text/plain": [
       "Pokemon\n",
       "Bulbasaur       Grass\n",
       "Pikachu      Electric\n",
       "Name: Type, dtype: object"
      ]
     },
     "execution_count": 19,
     "metadata": {},
     "output_type": "execute_result"
    }
   ],
   "source": [
    "pokemon.get(\"Bulbasaur\", \"Does not exist\")\n",
    "pokemon.get(\"Tony Hawk\", \"Does not exist\")\n",
    "pokemon.get([\"Bulbasaur\", \"Pikachu\"])"
   ]
  },
  {
   "cell_type": "markdown",
   "id": "329853ba-2e4a-444d-b1ce-ff33ab1ea406",
   "metadata": {},
   "source": [
    "### Overriding values"
   ]
  },
  {
   "cell_type": "code",
   "execution_count": 20,
   "id": "0fa7b96a-ef68-4012-852a-4b4d1b5fc09e",
   "metadata": {},
   "outputs": [],
   "source": [
    "pokemon[0] = \"Ivan\"\n",
    "pokemon[\"Harald\"] = \"Konge\"\n",
    "pokemon[[1, 2, 3]] = [\"A\", \"B\", \"C\"]"
   ]
  },
  {
   "cell_type": "markdown",
   "id": "be8183c5-5e67-4cf7-b6f2-6e95b9a45602",
   "metadata": {},
   "source": [
    "### The Copy Method"
   ]
  },
  {
   "cell_type": "code",
   "execution_count": 21,
   "id": "a0d6afd8-1933-4536-afb6-4aab3bea7537",
   "metadata": {},
   "outputs": [
    {
     "name": "stdout",
     "output_type": "stream",
     "text": [
      "0    Whatever\n",
      "Name: Pokemon, dtype: object\n",
      "    Pokemon\n",
      "0  Whatever\n"
     ]
    }
   ],
   "source": [
    "pokemon_df = pd.read_csv(pokemon_path, usecols=[\"Pokemon\"])\n",
    "pokemon_series = pokemon_df.squeeze(\"columns\")\n",
    "pokemon_series[0] = \"Whatever\"\n",
    "print(pokemon_series.head(1))\n",
    "print(pokemon_df.head(1))"
   ]
  },
  {
   "cell_type": "code",
   "execution_count": 22,
   "id": "e2036565-c686-4c1c-a3b2-d607dc70a442",
   "metadata": {},
   "outputs": [
    {
     "name": "stdout",
     "output_type": "stream",
     "text": [
      "0    Whatever\n",
      "Name: Pokemon, dtype: object\n",
      "     Pokemon\n",
      "0  Bulbasaur\n"
     ]
    }
   ],
   "source": [
    "pokemon_df = pd.read_csv(pokemon_path, usecols=[\"Pokemon\"])\n",
    "pokemon_series = pokemon_df.squeeze(\"columns\").copy()\n",
    "pokemon_series[0] = \"Whatever\"\n",
    "print(pokemon_series.head(1))\n",
    "print(pokemon_df.head(1))"
   ]
  },
  {
   "cell_type": "markdown",
   "id": "3e9e7921-f408-41ec-8179-58cf389e19e2",
   "metadata": {},
   "source": [
    "### The Inplace Parameter"
   ]
  },
  {
   "cell_type": "code",
   "execution_count": 23,
   "id": "366eda2a-2cf4-49d4-9d94-535c50e6e332",
   "metadata": {},
   "outputs": [
    {
     "name": "stdout",
     "output_type": "stream",
     "text": [
      "11    49.95\n",
      "9     50.07\n",
      "0     50.12\n",
      "Name: Stock Price, dtype: float64\n",
      "11    49.95\n",
      "9     50.07\n",
      "0     50.12\n",
      "Name: Stock Price, dtype: float64\n"
     ]
    }
   ],
   "source": [
    "google = pd.read_csv(google_path, usecols=[\"Stock Price\"]).squeeze().copy()\n",
    "# This is the recommended way of doing it\n",
    "google = google.sort_values()\n",
    "print(google.head(3))\n",
    "\n",
    "# This is the not recommended way of doing it (pandas wants to depricate it)\n",
    "google.sort_values(inplace=True)\n",
    "print(google.head(3))"
   ]
  },
  {
   "cell_type": "markdown",
   "id": "dec6c2d5-f62a-44d7-ab50-2e9fde0b2706",
   "metadata": {},
   "source": [
    "### Math method on Series object"
   ]
  },
  {
   "cell_type": "code",
   "execution_count": 24,
   "id": "099c5329-2d13-4819-b911-07d96bd53806",
   "metadata": {},
   "outputs": [
    {
     "data": {
      "text/plain": [
       "0    291.21\n",
       "Name: Stock Price, dtype: float64"
      ]
     },
     "execution_count": 24,
     "metadata": {},
     "output_type": "execute_result"
    }
   ],
   "source": [
    "google.count()\n",
    "google.sum()\n",
    "google.mean()\n",
    "google.product()\n",
    "google.std()\n",
    "google.min()\n",
    "google.max()\n",
    "google.median()\n",
    "google.mode()"
   ]
  },
  {
   "cell_type": "markdown",
   "id": "7bf057f1-3d66-474d-a96f-d3b3b0eeda6f",
   "metadata": {},
   "source": [
    "### Broadcasting"
   ]
  },
  {
   "cell_type": "code",
   "execution_count": 25,
   "id": "c341a8f2-989d-4d75-8de4-ee477ae8b9b9",
   "metadata": {},
   "outputs": [
    {
     "data": {
      "text/plain": [
       "11    59.95\n",
       "9     60.07\n",
       "0     60.12\n",
       "Name: Stock Price, dtype: float64"
      ]
     },
     "execution_count": 25,
     "metadata": {},
     "output_type": "execute_result"
    }
   ],
   "source": [
    "google + 10  # Add 10 to every value of the Series\n",
    "google.add(10).head(3)  # Same as above"
   ]
  },
  {
   "cell_type": "markdown",
   "id": "7e78fe3b-d804-4f23-ab9b-8d28ea08a309",
   "metadata": {
    "tags": []
   },
   "source": [
    "### The `value_counts()` method"
   ]
  },
  {
   "cell_type": "code",
   "execution_count": 26,
   "id": "d251ec7b-f060-4362-acb5-179252c7049a",
   "metadata": {},
   "outputs": [
    {
     "data": {
      "text/plain": [
       "Water     14.563107\n",
       "Normal    12.898752\n",
       "Grass      9.153953\n",
       "Name: Type, dtype: float64"
      ]
     },
     "execution_count": 26,
     "metadata": {},
     "output_type": "execute_result"
    }
   ],
   "source": [
    "pokemon = pd.read_csv(pokemon_path, index_col=\"Pokemon\").squeeze()\n",
    "pokemon.value_counts(ascending=True)\n",
    "pokemon.value_counts(sort=False)\n",
    "(pokemon.value_counts(normalize=True, ascending=False) * 100).head(3)"
   ]
  },
  {
   "cell_type": "markdown",
   "id": "a64ddd0c-3403-42d9-b55f-f57337fb4413",
   "metadata": {},
   "source": [
    "### The `apply()` method"
   ]
  },
  {
   "cell_type": "code",
   "execution_count": 27,
   "id": "1be3053c-f4a8-4ca0-922c-d1d09b4d3116",
   "metadata": {},
   "outputs": [
    {
     "data": {
      "text/plain": [
       "Pokemon\n",
       "Bulbasaur    Classic\n",
       "Ivysaur      Classic\n",
       "Venusaur     Classic\n",
       "Name: Type, dtype: object"
      ]
     },
     "execution_count": 27,
     "metadata": {},
     "output_type": "execute_result"
    }
   ],
   "source": [
    "def rank_pokemon(pokemon_type):\n",
    "    if pokemon_type in [\"Grass\", \"Fire\", \"Water\"]:\n",
    "        return \"Classic\"\n",
    "    elif pokemon_type == \"Normal\":\n",
    "        return \"Boring\"\n",
    "    return \"TBD\"\n",
    "\n",
    "\n",
    "pokemon.apply(rank_pokemon).head(3)"
   ]
  },
  {
   "cell_type": "markdown",
   "id": "a7d2a693-9208-4767-b190-650fba7e4812",
   "metadata": {},
   "source": [
    "### The `map()` method"
   ]
  },
  {
   "cell_type": "code",
   "execution_count": 28,
   "id": "f86520b4-f69f-492a-883f-d6596d4182d5",
   "metadata": {},
   "outputs": [
    {
     "data": {
      "text/plain": [
       "Pokemon\n",
       "Bulbasaur    Classic\n",
       "Ivysaur      Classic\n",
       "Venusaur     Classic\n",
       "Name: Type, dtype: object"
      ]
     },
     "execution_count": 28,
     "metadata": {},
     "output_type": "execute_result"
    }
   ],
   "source": [
    "# Takes as input an associative mapping\n",
    "mappings = {\n",
    "    \"Fire\": \"Classic\",\n",
    "    \"Water\": \"Classic\",\n",
    "    \"Grass\": \"Classic\",\n",
    "    \"Normal\": \"Boring\",\n",
    "}\n",
    "\n",
    "# Take in a dictionary\n",
    "pokemon.map(mappings)\n",
    "\n",
    "# Take in a Series object\n",
    "mappings_series = pd.Series(mappings)\n",
    "pokemon.map(mappings_series).head(3)"
   ]
  }
 ],
 "metadata": {
  "kernelspec": {
   "display_name": "pandas_playground",
   "language": "python",
   "name": "pandas_playground"
  },
  "language_info": {
   "codemirror_mode": {
    "name": "ipython",
    "version": 3
   },
   "file_extension": ".py",
   "mimetype": "text/x-python",
   "name": "python",
   "nbconvert_exporter": "python",
   "pygments_lexer": "ipython3",
   "version": "3.10.9"
  }
 },
 "nbformat": 4,
 "nbformat_minor": 5
}
