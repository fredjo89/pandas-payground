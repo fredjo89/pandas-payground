{
 "cells": [
  {
   "cell_type": "code",
   "execution_count": 1,
   "id": "4af96816-05b6-4042-988f-3406171b6a23",
   "metadata": {},
   "outputs": [],
   "source": [
    "%load_ext lab_black"
   ]
  },
  {
   "cell_type": "code",
   "execution_count": 4,
   "id": "362238bf-e62e-4e53-8556-fb88e2f58e38",
   "metadata": {},
   "outputs": [],
   "source": [
    "import pandas as pd"
   ]
  },
  {
   "cell_type": "markdown",
   "id": "47d40bee-f601-43da-a35f-14c75cc227b3",
   "metadata": {},
   "source": [
    "Create a Series object from python List"
   ]
  },
  {
   "cell_type": "code",
   "execution_count": 5,
   "id": "a13d1c59-bfb8-4ff9-8d10-4de1f9a83aee",
   "metadata": {},
   "outputs": [
    {
     "data": {
      "text/plain": [
       "0     Chocolate\n",
       "1       Vanilla\n",
       "2    Strawberry\n",
       "3     Rum Rasin\n",
       "dtype: object"
      ]
     },
     "execution_count": 5,
     "metadata": {},
     "output_type": "execute_result"
    }
   ],
   "source": [
    "ice_cream = [\"Chocolate\", \"Vanilla\", \"Strawberry\", \"Rum Rasin\"]\n",
    "\n",
    "pd.Series(ice_cream)"
   ]
  },
  {
   "cell_type": "markdown",
   "id": "d95b0079-4358-4499-92f0-87bb9d32e214",
   "metadata": {},
   "source": [
    "Create a Series object from python Dictionary"
   ]
  },
  {
   "cell_type": "code",
   "execution_count": 9,
   "id": "82334daf-c73f-4969-8ef9-32fe2f12f69a",
   "metadata": {},
   "outputs": [
    {
     "data": {
      "text/plain": [
       "'Orange'"
      ]
     },
     "execution_count": 9,
     "metadata": {},
     "output_type": "execute_result"
    }
   ],
   "source": [
    "sushi = {\"Salmon\": \"Orange\", \"Tuna\": \"Red\", \"Eel\": \"Brown\"}\n",
    "\n",
    "pd.Series(sushi).loc[\"Salmon\"]"
   ]
  },
  {
   "cell_type": "markdown",
   "id": "a2009e24-03d4-4f66-be5e-70fa8aeaaa9e",
   "metadata": {},
   "source": [
    "Methods"
   ]
  },
  {
   "cell_type": "code",
   "execution_count": 10,
   "id": "c46b838d-6137-4d1f-bea7-46219d7f6cd8",
   "metadata": {},
   "outputs": [
    {
     "name": "stdout",
     "output_type": "stream",
     "text": [
      "Fredrik Johannessen\n",
      "Sum:      8.56\n",
      "Product: 15.17\n",
      "Mean:     2.14\n"
     ]
    }
   ],
   "source": [
    "print(\"fredrik johannessen\".title())  # Make each word capitalized\n",
    "\n",
    "prices = pd.Series([1.99, 2.50, 3.08, 0.99])\n",
    "print(f\"Sum:      {prices.sum():.2f}\")\n",
    "print(f\"Product: {prices.product():.2f}\")\n",
    "print(f\"Mean:     {prices.mean():.2f}\")"
   ]
  },
  {
   "cell_type": "markdown",
   "id": "06886a97-b52b-41d9-951a-06e138e03179",
   "metadata": {},
   "source": [
    "## Attributes"
   ]
  },
  {
   "cell_type": "markdown",
   "id": "af9eb137-d0c6-4886-b777-41f98196de4e",
   "metadata": {},
   "source": [
    "A method is a command, while an attribute is an attribute"
   ]
  },
  {
   "cell_type": "code",
   "execution_count": 11,
   "id": "d3c3af41-cb1c-474c-85e4-82b887f29cb6",
   "metadata": {},
   "outputs": [
    {
     "name": "stdout",
     "output_type": "stream",
     "text": [
      "0        Smart\n",
      "1     Handsome\n",
      "2     Charming\n",
      "3    Brilliant\n",
      "4       Humble\n",
      "5        Smart\n",
      "dtype: object\n"
     ]
    }
   ],
   "source": [
    "adjectives = pd.Series(\n",
    "    [\"Smart\", \"Handsome\", \"Charming\", \"Brilliant\", \"Humble\", \"Smart\"]\n",
    ")\n",
    "print(adjectives)"
   ]
  },
  {
   "cell_type": "code",
   "execution_count": 12,
   "id": "b35ab9e3-7801-4543-9adf-42666dbac469",
   "metadata": {},
   "outputs": [
    {
     "name": "stdout",
     "output_type": "stream",
     "text": [
      "6\n",
      "False\n"
     ]
    }
   ],
   "source": [
    "print(adjectives.size)\n",
    "print(adjectives.is_unique)"
   ]
  },
  {
   "cell_type": "markdown",
   "id": "02d7de82-4b89-462b-b2ef-43cf3444a006",
   "metadata": {},
   "source": [
    "The `values()` method returns a `numpy` array"
   ]
  },
  {
   "cell_type": "code",
   "execution_count": 13,
   "id": "73e1fb2c-4f6f-419a-b649-4714f034d4f3",
   "metadata": {},
   "outputs": [
    {
     "name": "stdout",
     "output_type": "stream",
     "text": [
      "['Smart' 'Handsome' 'Charming' 'Brilliant' 'Humble' 'Smart']\n",
      "<class 'numpy.ndarray'>\n"
     ]
    }
   ],
   "source": [
    "print(adjectives.values)\n",
    "print(type(adjectives.values))"
   ]
  },
  {
   "cell_type": "code",
   "execution_count": 14,
   "id": "930fc0ab-6844-400a-b3ff-1b4f561ff636",
   "metadata": {},
   "outputs": [
    {
     "data": {
      "text/plain": [
       "RangeIndex(start=0, stop=6, step=1)"
      ]
     },
     "execution_count": 14,
     "metadata": {},
     "output_type": "execute_result"
    }
   ],
   "source": [
    "adjectives.index"
   ]
  },
  {
   "cell_type": "code",
   "execution_count": 15,
   "id": "755331dc-cc71-4a89-bf0a-89949cf32eff",
   "metadata": {},
   "outputs": [
    {
     "data": {
      "text/plain": [
       "pandas.core.indexes.range.RangeIndex"
      ]
     },
     "execution_count": 15,
     "metadata": {},
     "output_type": "execute_result"
    }
   ],
   "source": [
    "type(adjectives.index)"
   ]
  },
  {
   "cell_type": "code",
   "execution_count": 16,
   "id": "ada1115c-47c8-4193-8bcc-1233a40642db",
   "metadata": {},
   "outputs": [
    {
     "data": {
      "text/plain": [
       "dtype('O')"
      ]
     },
     "execution_count": 16,
     "metadata": {},
     "output_type": "execute_result"
    }
   ],
   "source": [
    "adjectives.dtype"
   ]
  },
  {
   "cell_type": "markdown",
   "id": "c02c821e-f7ee-4388-aa9d-9ac228d3e5a9",
   "metadata": {},
   "source": [
    "## Parameters and Arguments"
   ]
  },
  {
   "cell_type": "markdown",
   "id": "03d1b506-4976-4fb3-9b1e-0f62f24cb97d",
   "metadata": {},
   "source": [
    "A parameter is the name we give to an expected input <br>\n",
    "An argument is the concrete value we give to a parameter"
   ]
  },
  {
   "cell_type": "code",
   "execution_count": 17,
   "id": "32270f17-3d0a-4d7d-bfb8-08836f799b48",
   "metadata": {},
   "outputs": [],
   "source": [
    "difficulty = \"Hard\"  # difficulty is the parameter, \"hard\" is the argument"
   ]
  },
  {
   "cell_type": "markdown",
   "id": "0c0ef90b-d7ad-48ec-ae2b-c8123e756a87",
   "metadata": {},
   "source": [
    "If you place the cursor inside the empty parantheses and pres shift+tab, you will get info about the method. Try it!"
   ]
  },
  {
   "cell_type": "code",
   "execution_count": 18,
   "id": "b072ecbb-2eac-45ea-b360-8ddd39859c7d",
   "metadata": {},
   "outputs": [
    {
     "name": "stderr",
     "output_type": "stream",
     "text": [
      "/var/folders/kv/wv21y92n0ps5t0__kyvr69xw0000gn/T/ipykernel_857/2031691219.py:1: FutureWarning: The default dtype for empty Series will be 'object' instead of 'float64' in a future version. Specify a dtype explicitly to silence this warning.\n",
      "  pd.Series()\n"
     ]
    },
    {
     "data": {
      "text/plain": [
       "Series([], dtype: float64)"
      ]
     },
     "execution_count": 18,
     "metadata": {},
     "output_type": "execute_result"
    }
   ],
   "source": [
    "pd.Series()"
   ]
  },
  {
   "cell_type": "code",
   "execution_count": 19,
   "id": "58c09d04-3eb7-4302-acf2-284d6c0d1c03",
   "metadata": {},
   "outputs": [
    {
     "data": {
      "text/plain": [
       "Monday        Apple\n",
       "Tuesday      Orange\n",
       "Wednesday    Banana\n",
       "Thursday       Pear\n",
       "dtype: object"
      ]
     },
     "execution_count": 19,
     "metadata": {},
     "output_type": "execute_result"
    }
   ],
   "source": [
    "fruits = [\"Apple\", \"Orange\", \"Banana\", \"Pear\"]\n",
    "weekdays = [\"Monday\", \"Tuesday\", \"Wednesday\", \"Thursday\"]\n",
    "pd.Series(fruits, weekdays)"
   ]
  },
  {
   "cell_type": "code",
   "execution_count": 24,
   "id": "22d01aa2-e7ec-4c0b-8889-6e37f4949454",
   "metadata": {},
   "outputs": [
    {
     "data": {
      "text/plain": [
       "Monday        Apple\n",
       "Tuesday      Orange\n",
       "Wednesday    Banana\n",
       "Thursday       Pear\n",
       "dtype: object"
      ]
     },
     "execution_count": 24,
     "metadata": {},
     "output_type": "execute_result"
    }
   ],
   "source": [
    "pd.Series(index=weekdays, data=fruits)"
   ]
  },
  {
   "cell_type": "markdown",
   "id": "76d6c192-8b17-4c42-8662-4ee644185a08",
   "metadata": {},
   "source": [
    "## Import Series with the `pd.read_csv()` function"
   ]
  },
  {
   "cell_type": "code",
   "execution_count": 25,
   "id": "7341dc2d-acfd-43bb-81b1-53bab321c511",
   "metadata": {},
   "outputs": [
    {
     "data": {
      "text/plain": [
       "0       Bulbasaur\n",
       "1         Ivysaur\n",
       "2        Venusaur\n",
       "3      Charmander\n",
       "4      Charmeleon\n",
       "          ...    \n",
       "716       Yveltal\n",
       "717       Zygarde\n",
       "718       Diancie\n",
       "719         Hoopa\n",
       "720     Volcanion\n",
       "Name: Pokemon, Length: 721, dtype: object"
      ]
     },
     "execution_count": 25,
     "metadata": {},
     "output_type": "execute_result"
    }
   ],
   "source": [
    "file_path = \"/Users/fredrikjohannessen/Desktop/repositories/pandas-payground/data/\"\n",
    "file_name = \"pokemon.csv\"\n",
    "pokemon = pd.read_csv(\n",
    "    file_path + file_name, usecols=[\"Pokemon\"]\n",
    ").squeeze()  # Squeeze turns the returned DataFrame to a Series\n",
    "pokemon"
   ]
  },
  {
   "cell_type": "code",
   "execution_count": 27,
   "id": "56a862a5-6c48-4ec0-8d7b-c5982be8086e",
   "metadata": {},
   "outputs": [
    {
     "data": {
      "text/plain": [
       "0        50.12\n",
       "1        54.10\n",
       "2        54.65\n",
       "3        52.38\n",
       "4        52.95\n",
       "         ...  \n",
       "3007    772.88\n",
       "3008    771.07\n",
       "3009    773.18\n",
       "3010    771.61\n",
       "3011    782.22\n",
       "Name: Stock Price, Length: 3012, dtype: float64"
      ]
     },
     "execution_count": 27,
     "metadata": {},
     "output_type": "execute_result"
    }
   ],
   "source": [
    "file_name = \"google_stock_price.csv\"\n",
    "google = pd.read_csv(file_path + file_name, usecols=[\"Stock Price\"]).squeeze(\"columns\")\n",
    "google"
   ]
  },
  {
   "cell_type": "markdown",
   "id": "31121c7e-86bf-4368-a77c-39054589d7f5",
   "metadata": {},
   "source": [
    "Head, Tail, Sample methods"
   ]
  },
  {
   "cell_type": "code",
   "execution_count": 28,
   "id": "22413b69-8752-4850-9820-d98371d5a08e",
   "metadata": {},
   "outputs": [
    {
     "name": "stdout",
     "output_type": "stream",
     "text": [
      "0    50.12\n",
      "1    54.10\n",
      "2    54.65\n",
      "3    52.38\n",
      "4    52.95\n",
      "5    53.90\n",
      "6    53.02\n",
      "Name: Stock Price, dtype: float64\n",
      "3009    773.18\n",
      "3010    771.61\n",
      "3011    782.22\n",
      "Name: Stock Price, dtype: float64\n",
      "1745    310.95\n",
      "2154    412.24\n",
      "2074    325.95\n",
      "2618    500.87\n",
      "1823    306.19\n",
      "1860    310.92\n",
      "126      98.85\n",
      "2602    516.35\n",
      "1519    229.94\n",
      "2353    555.36\n",
      "Name: Stock Price, dtype: float64\n"
     ]
    }
   ],
   "source": [
    "print(google.head(7))\n",
    "print(google.tail(3))\n",
    "print(google.sample(10))"
   ]
  },
  {
   "cell_type": "markdown",
   "id": "b5841628-79f9-4544-98eb-5f5a8c5f4a6b",
   "metadata": {},
   "source": [
    "Pandas Series to Pythons built in functions"
   ]
  },
  {
   "cell_type": "code",
   "execution_count": 30,
   "id": "f57cae18-3932-4760-8f48-5c8859477093",
   "metadata": {},
   "outputs": [
    {
     "name": "stdout",
     "output_type": "stream",
     "text": [
      "721\n",
      "<class 'pandas.core.series.Series'>\n",
      "['T', '_AXIS_LEN', '_AXIS_ORDERS', '_AXIS_TO_AXIS_NUMBER', '_HANDLED_TYPES', '__abs__', '__add__', '__and__', '__annotations__', '__array__']\n",
      "['Abomasnow', 'Abra', 'Absol', 'Accelgor', 'Aegislash']\n",
      "['Bulbasaur', 'Ivysaur', 'Venusaur', 'Charmander', 'Charmeleon']\n",
      "Zygarde\n",
      "Abomasnow\n"
     ]
    }
   ],
   "source": [
    "print(len(pokemon))\n",
    "print(type(pokemon))\n",
    "print(dir(pokemon)[0:10])\n",
    "print(sorted(pokemon)[0:5])\n",
    "print(list(pokemon)[0:5])\n",
    "dict(pokemon)\n",
    "# Long to print out\n",
    "print(max(pokemon))\n",
    "print(min(pokemon))"
   ]
  },
  {
   "cell_type": "markdown",
   "id": "5475612e-88fa-490a-8b99-fd76f69aeb04",
   "metadata": {},
   "source": [
    "The `sort_values()` method"
   ]
  },
  {
   "cell_type": "code",
   "execution_count": 31,
   "id": "2a65e84d-21ef-497d-906d-f6d1ec30f965",
   "metadata": {},
   "outputs": [
    {
     "data": {
      "text/plain": [
       "3011    782.22\n",
       "2859    776.60\n",
       "3009    773.18\n",
       "3007    772.88\n",
       "3010    771.61\n",
       "Name: Stock Price, dtype: float64"
      ]
     },
     "execution_count": 31,
     "metadata": {},
     "output_type": "execute_result"
    }
   ],
   "source": [
    "google.sort_values(ascending=False).head()"
   ]
  },
  {
   "cell_type": "markdown",
   "id": "a45609a9-4001-4743-8514-0a9a7672a0ab",
   "metadata": {},
   "source": [
    "The `sort_index()` method"
   ]
  },
  {
   "cell_type": "code",
   "execution_count": 32,
   "id": "2b8cfdfa-0752-4bfd-8e1e-a4f97c02ab69",
   "metadata": {},
   "outputs": [
    {
     "data": {
      "text/plain": [
       "Pokemon\n",
       "Abomasnow      Grass\n",
       "Abra         Psychic\n",
       "Absol           Dark\n",
       "Accelgor         Bug\n",
       "Aegislash      Steel\n",
       "              ...   \n",
       "Zoroark         Dark\n",
       "Zorua           Dark\n",
       "Zubat         Poison\n",
       "Zweilous        Dark\n",
       "Zygarde       Dragon\n",
       "Name: Type, Length: 721, dtype: object"
      ]
     },
     "execution_count": 32,
     "metadata": {},
     "output_type": "execute_result"
    }
   ],
   "source": [
    "file_name = \"pokemon.csv\"\n",
    "pokemon = pd.read_csv(file_path + file_name, index_col=\"Pokemon\").squeeze(\"columns\")\n",
    "pokemon.sort_index()"
   ]
  },
  {
   "cell_type": "markdown",
   "id": "83a458ed-58d2-41a4-8e28-14c874f1fc23",
   "metadata": {},
   "source": [
    "Checking for inclusion with pythons `IN` keyword"
   ]
  },
  {
   "cell_type": "code",
   "execution_count": 34,
   "id": "38ba5182-d441-47cb-96a9-fa5d8e4e0216",
   "metadata": {},
   "outputs": [
    {
     "data": {
      "text/plain": [
       "True"
      ]
     },
     "execution_count": 34,
     "metadata": {},
     "output_type": "execute_result"
    }
   ],
   "source": [
    "\"Pikachu\" in pokemon  # equivalent to \"Pikachu\" in pokemon.index\n",
    "\"Grass\" in pokemon.values"
   ]
  },
  {
   "cell_type": "markdown",
   "id": "ca1dfe87-52bb-4db5-b053-892f392d540d",
   "metadata": {},
   "source": [
    "Extracting Series values by Index Position"
   ]
  },
  {
   "cell_type": "code",
   "execution_count": 35,
   "id": "30ca3a91-bc66-4606-9e2d-8820dd9eb3c0",
   "metadata": {},
   "outputs": [
    {
     "data": {
      "text/plain": [
       "3007    772.88\n",
       "3008    771.07\n",
       "3009    773.18\n",
       "3010    771.61\n",
       "3011    782.22\n",
       "Name: Stock Price, dtype: float64"
      ]
     },
     "execution_count": 35,
     "metadata": {},
     "output_type": "execute_result"
    }
   ],
   "source": [
    "# Similar to get value of list\n",
    "google[0]\n",
    "google[[0, 1, 3]]\n",
    "google[0:3]\n",
    "\n",
    "google[-5:]"
   ]
  },
  {
   "cell_type": "markdown",
   "id": "0ef67ff4-00c3-4701-b64c-2fa8023c9b10",
   "metadata": {},
   "source": [
    "Extract Series values by Index Label"
   ]
  },
  {
   "cell_type": "code",
   "execution_count": 36,
   "id": "2dccbc43-b6c8-4001-bea1-79d30f416510",
   "metadata": {},
   "outputs": [
    {
     "data": {
      "text/plain": [
       "Pokemon\n",
       "Mewtwo        Psychic\n",
       "Charizard        Fire\n",
       "Pikachu      Electric\n",
       "Name: Type, dtype: object"
      ]
     },
     "execution_count": 36,
     "metadata": {},
     "output_type": "execute_result"
    }
   ],
   "source": [
    "# The following two give the same output:\n",
    "pokemon[0]\n",
    "pokemon[\"Bulbasaur\"]\n",
    "\n",
    "pokemon[[\"Mewtwo\", \"Charizard\", \"Pikachu\"]]"
   ]
  },
  {
   "cell_type": "markdown",
   "id": "18b2ec29-5e1a-47ef-b8b2-3720c1571dd6",
   "metadata": {},
   "source": [
    "The `get()` method on a Series"
   ]
  },
  {
   "cell_type": "code",
   "execution_count": 37,
   "id": "9fd27941-7e0b-4356-a17a-ae582b0371e7",
   "metadata": {},
   "outputs": [
    {
     "data": {
      "text/plain": [
       "Pokemon\n",
       "Bulbasaur       Grass\n",
       "Pikachu      Electric\n",
       "Name: Type, dtype: object"
      ]
     },
     "execution_count": 37,
     "metadata": {},
     "output_type": "execute_result"
    }
   ],
   "source": [
    "pokemon.get(\"Bulbasaur\", \"Does not exist\")\n",
    "pokemon.get(\"Tony Hawk\", \"Does not exist\")\n",
    "pokemon.get([\"Bulbasaur\", \"Pikachu\"])"
   ]
  },
  {
   "cell_type": "markdown",
   "id": "329853ba-2e4a-444d-b1ce-ff33ab1ea406",
   "metadata": {},
   "source": [
    "Overriding values"
   ]
  },
  {
   "cell_type": "code",
   "execution_count": 38,
   "id": "0fa7b96a-ef68-4012-852a-4b4d1b5fc09e",
   "metadata": {},
   "outputs": [],
   "source": [
    "pokemon[0] = \"Ivan\"\n",
    "pokemon[\"Harald\"] = \"Konge\"\n",
    "pokemon[[1, 2, 3]] = [\"A\", \"B\", \"C\"]"
   ]
  },
  {
   "cell_type": "markdown",
   "id": "be8183c5-5e67-4cf7-b6f2-6e95b9a45602",
   "metadata": {},
   "source": [
    "The Copy Method"
   ]
  },
  {
   "cell_type": "code",
   "execution_count": 39,
   "id": "a0d6afd8-1933-4536-afb6-4aab3bea7537",
   "metadata": {},
   "outputs": [
    {
     "name": "stdout",
     "output_type": "stream",
     "text": [
      "0    Whatever\n",
      "Name: Pokemon, dtype: object\n",
      "    Pokemon\n",
      "0  Whatever\n"
     ]
    }
   ],
   "source": [
    "pokemon_df = pd.read_csv(file_path + \"pokemon.csv\", usecols=[\"Pokemon\"])\n",
    "pokemon_series = pokemon_df.squeeze(\"columns\")\n",
    "pokemon_series[0] = \"Whatever\"\n",
    "print(pokemon_series.head(1))\n",
    "print(pokemon_df.head(1))"
   ]
  },
  {
   "cell_type": "code",
   "execution_count": 40,
   "id": "e2036565-c686-4c1c-a3b2-d607dc70a442",
   "metadata": {},
   "outputs": [
    {
     "name": "stdout",
     "output_type": "stream",
     "text": [
      "0    Whatever\n",
      "Name: Pokemon, dtype: object\n",
      "     Pokemon\n",
      "0  Bulbasaur\n"
     ]
    }
   ],
   "source": [
    "pokemon_df = pd.read_csv(file_path + \"pokemon.csv\", usecols=[\"Pokemon\"])\n",
    "pokemon_series = pokemon_df.squeeze(\"columns\").copy()\n",
    "pokemon_series[0] = \"Whatever\"\n",
    "print(pokemon_series.head(1))\n",
    "print(pokemon_df.head(1))"
   ]
  },
  {
   "cell_type": "markdown",
   "id": "3e9e7921-f408-41ec-8179-58cf389e19e2",
   "metadata": {},
   "source": [
    "The Inplace Parameter"
   ]
  },
  {
   "cell_type": "code",
   "execution_count": 41,
   "id": "366eda2a-2cf4-49d4-9d94-535c50e6e332",
   "metadata": {},
   "outputs": [
    {
     "name": "stdout",
     "output_type": "stream",
     "text": [
      "11       49.95\n",
      "9        50.07\n",
      "0        50.12\n",
      "10       50.70\n",
      "12       50.74\n",
      "         ...  \n",
      "3010    771.61\n",
      "3007    772.88\n",
      "3009    773.18\n",
      "2859    776.60\n",
      "3011    782.22\n",
      "Name: Stock Price, Length: 3012, dtype: float64\n",
      "11       49.95\n",
      "9        50.07\n",
      "0        50.12\n",
      "10       50.70\n",
      "12       50.74\n",
      "         ...  \n",
      "3010    771.61\n",
      "3007    772.88\n",
      "3009    773.18\n",
      "2859    776.60\n",
      "3011    782.22\n",
      "Name: Stock Price, Length: 3012, dtype: float64\n"
     ]
    }
   ],
   "source": [
    "google = (\n",
    "    pd.read_csv(file_path + \"google_stock_price.csv\", usecols=[\"Stock Price\"])\n",
    "    .squeeze()\n",
    "    .copy()\n",
    ")\n",
    "# This is the recommended way of doing it\n",
    "google = google.sort_values()\n",
    "print(google)\n",
    "\n",
    "# This is the not recommended way of doing it (pandas wants to depricate it)\n",
    "google.sort_values(inplace=True)\n",
    "print(google)"
   ]
  },
  {
   "cell_type": "markdown",
   "id": "dec6c2d5-f62a-44d7-ab50-2e9fde0b2706",
   "metadata": {},
   "source": [
    "Math method on Series object"
   ]
  },
  {
   "cell_type": "code",
   "execution_count": 42,
   "id": "099c5329-2d13-4819-b911-07d96bd53806",
   "metadata": {},
   "outputs": [
    {
     "data": {
      "text/plain": [
       "0    291.21\n",
       "Name: Stock Price, dtype: float64"
      ]
     },
     "execution_count": 42,
     "metadata": {},
     "output_type": "execute_result"
    }
   ],
   "source": [
    "google = pd.read_csv(\n",
    "    file_path + \"google_stock_price.csv\", usecols=[\"Stock Price\"]\n",
    ").squeeze()\n",
    "\n",
    "google.count()\n",
    "google.sum()\n",
    "google.mean()\n",
    "google.product()\n",
    "google.std()\n",
    "google.min()\n",
    "google.max()\n",
    "google.median()\n",
    "google.mode()"
   ]
  },
  {
   "cell_type": "markdown",
   "id": "7bf057f1-3d66-474d-a96f-d3b3b0eeda6f",
   "metadata": {},
   "source": [
    "Broadcasting"
   ]
  },
  {
   "cell_type": "code",
   "execution_count": 43,
   "id": "c341a8f2-989d-4d75-8de4-ee477ae8b9b9",
   "metadata": {},
   "outputs": [
    {
     "data": {
      "text/plain": [
       "0        60.12\n",
       "1        64.10\n",
       "2        64.65\n",
       "3        62.38\n",
       "4        62.95\n",
       "         ...  \n",
       "3007    782.88\n",
       "3008    781.07\n",
       "3009    783.18\n",
       "3010    781.61\n",
       "3011    792.22\n",
       "Name: Stock Price, Length: 3012, dtype: float64"
      ]
     },
     "execution_count": 43,
     "metadata": {},
     "output_type": "execute_result"
    }
   ],
   "source": [
    "google + 10  # Add 10 to every value of the Series\n",
    "google.add(10)  # Same as above"
   ]
  },
  {
   "cell_type": "markdown",
   "id": "7e78fe3b-d804-4f23-ab9b-8d28ea08a309",
   "metadata": {
    "tags": []
   },
   "source": [
    "The `value_counts()` method"
   ]
  },
  {
   "cell_type": "code",
   "execution_count": 44,
   "id": "d251ec7b-f060-4362-acb5-179252c7049a",
   "metadata": {},
   "outputs": [
    {
     "data": {
      "text/plain": [
       "Water       14.563107\n",
       "Normal      12.898752\n",
       "Grass        9.153953\n",
       "Bug          8.737864\n",
       "Fire         6.518724\n",
       "Psychic      6.518724\n",
       "Rock         5.686546\n",
       "Electric     4.993065\n",
       "Ground       4.160888\n",
       "Poison       3.883495\n",
       "Dark         3.883495\n",
       "Fighting     3.467406\n",
       "Dragon       3.328710\n",
       "Ghost        3.190014\n",
       "Ice          3.190014\n",
       "Steel        3.051318\n",
       "Fairy        2.357836\n",
       "Flying       0.416089\n",
       "Name: Type, dtype: float64"
      ]
     },
     "execution_count": 44,
     "metadata": {},
     "output_type": "execute_result"
    }
   ],
   "source": [
    "pokemon = pd.read_csv(file_path + \"pokemon.csv\", index_col=\"Pokemon\").squeeze()\n",
    "pokemon.value_counts(ascending=True)\n",
    "pokemon.value_counts(sort=False)\n",
    "pokemon.value_counts(normalize=True, ascending=False) * 100"
   ]
  },
  {
   "cell_type": "markdown",
   "id": "a64ddd0c-3403-42d9-b55f-f57337fb4413",
   "metadata": {},
   "source": [
    "The `apply()` method"
   ]
  },
  {
   "cell_type": "code",
   "execution_count": 47,
   "id": "1be3053c-f4a8-4ca0-922c-d1d09b4d3116",
   "metadata": {},
   "outputs": [
    {
     "data": {
      "text/plain": [
       "Pokemon\n",
       "Bulbasaur     Classic\n",
       "Ivysaur       Classic\n",
       "Venusaur      Classic\n",
       "Charmander    Classic\n",
       "Charmeleon    Classic\n",
       "               ...   \n",
       "Yveltal           TBD\n",
       "Zygarde           TBD\n",
       "Diancie           TBD\n",
       "Hoopa             TBD\n",
       "Volcanion     Classic\n",
       "Name: Type, Length: 721, dtype: object"
      ]
     },
     "execution_count": 47,
     "metadata": {},
     "output_type": "execute_result"
    }
   ],
   "source": [
    "pokemon = pd.read_csv(file_path + \"pokemon.csv\", index_col=\"Pokemon\").squeeze(\"columns\")\n",
    "\n",
    "\n",
    "def rank_pokemon(pokemon_type):\n",
    "    if pokemon_type in [\"Grass\", \"Fire\", \"Water\"]:\n",
    "        return \"Classic\"\n",
    "    elif pokemon_type == \"Normal\":\n",
    "        return \"Boring\"\n",
    "    return \"TBD\"\n",
    "\n",
    "\n",
    "pokemon.apply(rank_pokemon)"
   ]
  },
  {
   "cell_type": "markdown",
   "id": "a7d2a693-9208-4767-b190-650fba7e4812",
   "metadata": {},
   "source": [
    "The `map()` method"
   ]
  },
  {
   "cell_type": "code",
   "execution_count": 48,
   "id": "f86520b4-f69f-492a-883f-d6596d4182d5",
   "metadata": {},
   "outputs": [
    {
     "data": {
      "text/plain": [
       "Pokemon\n",
       "Bulbasaur     Classic\n",
       "Ivysaur       Classic\n",
       "Venusaur      Classic\n",
       "Charmander    Classic\n",
       "Charmeleon    Classic\n",
       "               ...   \n",
       "Yveltal           NaN\n",
       "Zygarde           NaN\n",
       "Diancie           NaN\n",
       "Hoopa             NaN\n",
       "Volcanion     Classic\n",
       "Name: Type, Length: 721, dtype: object"
      ]
     },
     "execution_count": 48,
     "metadata": {},
     "output_type": "execute_result"
    }
   ],
   "source": [
    "# Takes as input an associative mapping\n",
    "\n",
    "pokemon = pd.read_csv(file_path + \"pokemon.csv\", index_col=\"Pokemon\").squeeze(\"columns\")\n",
    "\n",
    "mappings = {\n",
    "    \"Fire\": \"Classic\",\n",
    "    \"Water\": \"Classic\",\n",
    "    \"Grass\": \"Classic\",\n",
    "    \"Normal\": \"Boring\",\n",
    "}\n",
    "\n",
    "# Take in a dictionary\n",
    "pokemon.map(mappings)\n",
    "\n",
    "# Take in a Series object\n",
    "mappings_series = pd.Series(mappings)\n",
    "pokemon.map(mappings_series)"
   ]
  },
  {
   "cell_type": "code",
   "execution_count": null,
   "id": "490a62e6-96d8-4df7-b196-dcc9a56b5013",
   "metadata": {},
   "outputs": [],
   "source": []
  }
 ],
 "metadata": {
  "kernelspec": {
   "display_name": "pandas_playground",
   "language": "python",
   "name": "pandas_playground"
  },
  "language_info": {
   "codemirror_mode": {
    "name": "ipython",
    "version": 3
   },
   "file_extension": ".py",
   "mimetype": "text/x-python",
   "name": "python",
   "nbconvert_exporter": "python",
   "pygments_lexer": "ipython3",
   "version": "3.10.9"
  }
 },
 "nbformat": 4,
 "nbformat_minor": 5
}
