{
 "cells": [
  {
   "cell_type": "markdown",
   "id": "e9ab4056-9d29-4396-8e7a-6e8a3afc9cf9",
   "metadata": {},
   "source": [
    "# Data Extraction"
   ]
  },
  {
   "cell_type": "code",
   "execution_count": 1,
   "id": "ea08f636-f28f-48af-930d-35df9a6de053",
   "metadata": {},
   "outputs": [],
   "source": [
    "%load_ext lab_black\n",
    "import pandas as pd\n",
    "\n",
    "file_path = \"/Users/fredrikjohannessen/Desktop/repositories/pandas-payground/data/\""
   ]
  },
  {
   "cell_type": "markdown",
   "id": "93fa2dac-d655-4942-800b-e78062d13ccb",
   "metadata": {},
   "source": [
    "### The `set_index()` and `get_index()` methods"
   ]
  },
  {
   "cell_type": "code",
   "execution_count": 2,
   "id": "b9fe39e9-c1d2-403f-9b2c-a9f6caade998",
   "metadata": {},
   "outputs": [
    {
     "data": {
      "text/html": [
       "<div>\n",
       "<style scoped>\n",
       "    .dataframe tbody tr th:only-of-type {\n",
       "        vertical-align: middle;\n",
       "    }\n",
       "\n",
       "    .dataframe tbody tr th {\n",
       "        vertical-align: top;\n",
       "    }\n",
       "\n",
       "    .dataframe thead th {\n",
       "        text-align: right;\n",
       "    }\n",
       "</style>\n",
       "<table border=\"1\" class=\"dataframe\">\n",
       "  <thead>\n",
       "    <tr style=\"text-align: right;\">\n",
       "      <th></th>\n",
       "      <th>Film</th>\n",
       "      <th>Actor</th>\n",
       "      <th>Director</th>\n",
       "      <th>Box Office</th>\n",
       "      <th>Budget</th>\n",
       "      <th>Bond Actor Salary</th>\n",
       "    </tr>\n",
       "    <tr>\n",
       "      <th>Year</th>\n",
       "      <th></th>\n",
       "      <th></th>\n",
       "      <th></th>\n",
       "      <th></th>\n",
       "      <th></th>\n",
       "      <th></th>\n",
       "    </tr>\n",
       "  </thead>\n",
       "  <tbody>\n",
       "    <tr>\n",
       "      <th>1962</th>\n",
       "      <td>Dr. No</td>\n",
       "      <td>Sean Connery</td>\n",
       "      <td>Terence Young</td>\n",
       "      <td>448.8</td>\n",
       "      <td>7.0</td>\n",
       "      <td>0.6</td>\n",
       "    </tr>\n",
       "    <tr>\n",
       "      <th>1963</th>\n",
       "      <td>From Russia with Love</td>\n",
       "      <td>Sean Connery</td>\n",
       "      <td>Terence Young</td>\n",
       "      <td>543.8</td>\n",
       "      <td>12.6</td>\n",
       "      <td>1.6</td>\n",
       "    </tr>\n",
       "    <tr>\n",
       "      <th>1964</th>\n",
       "      <td>Goldfinger</td>\n",
       "      <td>Sean Connery</td>\n",
       "      <td>Guy Hamilton</td>\n",
       "      <td>820.4</td>\n",
       "      <td>18.6</td>\n",
       "      <td>3.2</td>\n",
       "    </tr>\n",
       "  </tbody>\n",
       "</table>\n",
       "</div>"
      ],
      "text/plain": [
       "                       Film         Actor       Director  Box Office  Budget  \\\n",
       "Year                                                                           \n",
       "1962                 Dr. No  Sean Connery  Terence Young       448.8     7.0   \n",
       "1963  From Russia with Love  Sean Connery  Terence Young       543.8    12.6   \n",
       "1964             Goldfinger  Sean Connery   Guy Hamilton       820.4    18.6   \n",
       "\n",
       "      Bond Actor Salary  \n",
       "Year                     \n",
       "1962                0.6  \n",
       "1963                1.6  \n",
       "1964                3.2  "
      ]
     },
     "execution_count": 2,
     "metadata": {},
     "output_type": "execute_result"
    }
   ],
   "source": [
    "# Set index as we are reading csv\n",
    "df = pd.read_csv(file_path + \"jamesbond.csv\", index_col=\"Film\")\n",
    "\n",
    "# Set index after reading the csv\n",
    "df = pd.read_csv(file_path + \"jamesbond.csv\")\n",
    "df = df.set_index(keys=[\"Film\"])\n",
    "\n",
    "# Reset Index\n",
    "df = df.reset_index()\n",
    "df.reset_index(drop=True)\n",
    "\n",
    "# Change index from Film to Year\n",
    "df = df.set_index(keys=[\"Film\"])\n",
    "df = df.reset_index()\n",
    "df = df.set_index(keys=[\"Year\"])\n",
    "df.head(3)"
   ]
  },
  {
   "cell_type": "markdown",
   "id": "74326365-f67e-4526-b2c0-e06face07f15",
   "metadata": {},
   "source": [
    "### Retrive rows by their index labels using `.loc[]` Accessor"
   ]
  },
  {
   "cell_type": "code",
   "execution_count": 3,
   "id": "84f59b3a-bd48-4138-a618-f042ebaa78aa",
   "metadata": {},
   "outputs": [
    {
     "data": {
      "text/html": [
       "<div>\n",
       "<style scoped>\n",
       "    .dataframe tbody tr th:only-of-type {\n",
       "        vertical-align: middle;\n",
       "    }\n",
       "\n",
       "    .dataframe tbody tr th {\n",
       "        vertical-align: top;\n",
       "    }\n",
       "\n",
       "    .dataframe thead th {\n",
       "        text-align: right;\n",
       "    }\n",
       "</style>\n",
       "<table border=\"1\" class=\"dataframe\">\n",
       "  <thead>\n",
       "    <tr style=\"text-align: right;\">\n",
       "      <th></th>\n",
       "      <th>Year</th>\n",
       "      <th>Actor</th>\n",
       "      <th>Director</th>\n",
       "      <th>Box Office</th>\n",
       "      <th>Budget</th>\n",
       "      <th>Bond Actor Salary</th>\n",
       "    </tr>\n",
       "    <tr>\n",
       "      <th>Film</th>\n",
       "      <th></th>\n",
       "      <th></th>\n",
       "      <th></th>\n",
       "      <th></th>\n",
       "      <th></th>\n",
       "      <th></th>\n",
       "    </tr>\n",
       "  </thead>\n",
       "  <tbody>\n",
       "    <tr>\n",
       "      <th>A View to a Kill</th>\n",
       "      <td>1985</td>\n",
       "      <td>Roger Moore</td>\n",
       "      <td>John Glen</td>\n",
       "      <td>275.2</td>\n",
       "      <td>54.5</td>\n",
       "      <td>9.1</td>\n",
       "    </tr>\n",
       "    <tr>\n",
       "      <th>Casino Royale</th>\n",
       "      <td>2006</td>\n",
       "      <td>Daniel Craig</td>\n",
       "      <td>Martin Campbell</td>\n",
       "      <td>581.5</td>\n",
       "      <td>145.3</td>\n",
       "      <td>3.3</td>\n",
       "    </tr>\n",
       "    <tr>\n",
       "      <th>Casino Royale</th>\n",
       "      <td>1967</td>\n",
       "      <td>David Niven</td>\n",
       "      <td>Ken Hughes</td>\n",
       "      <td>315.0</td>\n",
       "      <td>85.0</td>\n",
       "      <td>NaN</td>\n",
       "    </tr>\n",
       "  </tbody>\n",
       "</table>\n",
       "</div>"
      ],
      "text/plain": [
       "                  Year         Actor         Director  Box Office  Budget  \\\n",
       "Film                                                                        \n",
       "A View to a Kill  1985   Roger Moore        John Glen       275.2    54.5   \n",
       "Casino Royale     2006  Daniel Craig  Martin Campbell       581.5   145.3   \n",
       "Casino Royale     1967   David Niven       Ken Hughes       315.0    85.0   \n",
       "\n",
       "                  Bond Actor Salary  \n",
       "Film                                 \n",
       "A View to a Kill                9.1  \n",
       "Casino Royale                   3.3  \n",
       "Casino Royale                   NaN  "
      ]
     },
     "execution_count": 3,
     "metadata": {},
     "output_type": "execute_result"
    }
   ],
   "source": [
    "bond = pd.read_csv(file_path + \"jamesbond.csv\", index_col=\"Film\")\n",
    "bond = bond.sort_index()\n",
    "bond.head(3)"
   ]
  },
  {
   "cell_type": "code",
   "execution_count": 4,
   "id": "71559793-b42b-4083-93c5-4ffff6cf8f00",
   "metadata": {},
   "outputs": [
    {
     "data": {
      "text/html": [
       "<div>\n",
       "<style scoped>\n",
       "    .dataframe tbody tr th:only-of-type {\n",
       "        vertical-align: middle;\n",
       "    }\n",
       "\n",
       "    .dataframe tbody tr th {\n",
       "        vertical-align: top;\n",
       "    }\n",
       "\n",
       "    .dataframe thead th {\n",
       "        text-align: right;\n",
       "    }\n",
       "</style>\n",
       "<table border=\"1\" class=\"dataframe\">\n",
       "  <thead>\n",
       "    <tr style=\"text-align: right;\">\n",
       "      <th></th>\n",
       "      <th>Year</th>\n",
       "      <th>Actor</th>\n",
       "      <th>Director</th>\n",
       "      <th>Box Office</th>\n",
       "      <th>Budget</th>\n",
       "      <th>Bond Actor Salary</th>\n",
       "    </tr>\n",
       "    <tr>\n",
       "      <th>Film</th>\n",
       "      <th></th>\n",
       "      <th></th>\n",
       "      <th></th>\n",
       "      <th></th>\n",
       "      <th></th>\n",
       "      <th></th>\n",
       "    </tr>\n",
       "  </thead>\n",
       "  <tbody>\n",
       "    <tr>\n",
       "      <th>GoldenEye</th>\n",
       "      <td>1995</td>\n",
       "      <td>Pierce Brosnan</td>\n",
       "      <td>Martin Campbell</td>\n",
       "      <td>518.5</td>\n",
       "      <td>76.9</td>\n",
       "      <td>5.1</td>\n",
       "    </tr>\n",
       "    <tr>\n",
       "      <th>Casino Royale</th>\n",
       "      <td>2006</td>\n",
       "      <td>Daniel Craig</td>\n",
       "      <td>Martin Campbell</td>\n",
       "      <td>581.5</td>\n",
       "      <td>145.3</td>\n",
       "      <td>3.3</td>\n",
       "    </tr>\n",
       "    <tr>\n",
       "      <th>Casino Royale</th>\n",
       "      <td>1967</td>\n",
       "      <td>David Niven</td>\n",
       "      <td>Ken Hughes</td>\n",
       "      <td>315.0</td>\n",
       "      <td>85.0</td>\n",
       "      <td>NaN</td>\n",
       "    </tr>\n",
       "    <tr>\n",
       "      <th>Casino Royale</th>\n",
       "      <td>2006</td>\n",
       "      <td>Daniel Craig</td>\n",
       "      <td>Martin Campbell</td>\n",
       "      <td>581.5</td>\n",
       "      <td>145.3</td>\n",
       "      <td>3.3</td>\n",
       "    </tr>\n",
       "    <tr>\n",
       "      <th>Casino Royale</th>\n",
       "      <td>1967</td>\n",
       "      <td>David Niven</td>\n",
       "      <td>Ken Hughes</td>\n",
       "      <td>315.0</td>\n",
       "      <td>85.0</td>\n",
       "      <td>NaN</td>\n",
       "    </tr>\n",
       "  </tbody>\n",
       "</table>\n",
       "</div>"
      ],
      "text/plain": [
       "               Year           Actor         Director  Box Office  Budget  \\\n",
       "Film                                                                       \n",
       "GoldenEye      1995  Pierce Brosnan  Martin Campbell       518.5    76.9   \n",
       "Casino Royale  2006    Daniel Craig  Martin Campbell       581.5   145.3   \n",
       "Casino Royale  1967     David Niven       Ken Hughes       315.0    85.0   \n",
       "Casino Royale  2006    Daniel Craig  Martin Campbell       581.5   145.3   \n",
       "Casino Royale  1967     David Niven       Ken Hughes       315.0    85.0   \n",
       "\n",
       "               Bond Actor Salary  \n",
       "Film                              \n",
       "GoldenEye                    5.1  \n",
       "Casino Royale                3.3  \n",
       "Casino Royale                NaN  \n",
       "Casino Royale                3.3  \n",
       "Casino Royale                NaN  "
      ]
     },
     "execution_count": 4,
     "metadata": {},
     "output_type": "execute_result"
    }
   ],
   "source": [
    "bond.loc[[\"Casino Royale\", \"Goldfinger\", \"GoldenEye\"]]\n",
    "bond.loc[[\"GoldenEye\", \"Casino Royale\", \"Casino Royale\"]]"
   ]
  },
  {
   "cell_type": "code",
   "execution_count": 5,
   "id": "1be501c7-7efa-424e-b520-711cb6375f60",
   "metadata": {},
   "outputs": [
    {
     "data": {
      "text/html": [
       "<div>\n",
       "<style scoped>\n",
       "    .dataframe tbody tr th:only-of-type {\n",
       "        vertical-align: middle;\n",
       "    }\n",
       "\n",
       "    .dataframe tbody tr th {\n",
       "        vertical-align: top;\n",
       "    }\n",
       "\n",
       "    .dataframe thead th {\n",
       "        text-align: right;\n",
       "    }\n",
       "</style>\n",
       "<table border=\"1\" class=\"dataframe\">\n",
       "  <thead>\n",
       "    <tr style=\"text-align: right;\">\n",
       "      <th></th>\n",
       "      <th>Year</th>\n",
       "      <th>Actor</th>\n",
       "      <th>Director</th>\n",
       "      <th>Box Office</th>\n",
       "      <th>Budget</th>\n",
       "      <th>Bond Actor Salary</th>\n",
       "    </tr>\n",
       "    <tr>\n",
       "      <th>Film</th>\n",
       "      <th></th>\n",
       "      <th></th>\n",
       "      <th></th>\n",
       "      <th></th>\n",
       "      <th></th>\n",
       "      <th></th>\n",
       "    </tr>\n",
       "  </thead>\n",
       "  <tbody>\n",
       "    <tr>\n",
       "      <th>A View to a Kill</th>\n",
       "      <td>1985</td>\n",
       "      <td>Roger Moore</td>\n",
       "      <td>John Glen</td>\n",
       "      <td>275.2</td>\n",
       "      <td>54.5</td>\n",
       "      <td>9.1</td>\n",
       "    </tr>\n",
       "    <tr>\n",
       "      <th>Casino Royale</th>\n",
       "      <td>2006</td>\n",
       "      <td>Daniel Craig</td>\n",
       "      <td>Martin Campbell</td>\n",
       "      <td>581.5</td>\n",
       "      <td>145.3</td>\n",
       "      <td>3.3</td>\n",
       "    </tr>\n",
       "    <tr>\n",
       "      <th>Casino Royale</th>\n",
       "      <td>1967</td>\n",
       "      <td>David Niven</td>\n",
       "      <td>Ken Hughes</td>\n",
       "      <td>315.0</td>\n",
       "      <td>85.0</td>\n",
       "      <td>NaN</td>\n",
       "    </tr>\n",
       "    <tr>\n",
       "      <th>Diamonds Are Forever</th>\n",
       "      <td>1971</td>\n",
       "      <td>Sean Connery</td>\n",
       "      <td>Guy Hamilton</td>\n",
       "      <td>442.5</td>\n",
       "      <td>34.7</td>\n",
       "      <td>5.8</td>\n",
       "    </tr>\n",
       "  </tbody>\n",
       "</table>\n",
       "</div>"
      ],
      "text/plain": [
       "                      Year         Actor         Director  Box Office  Budget  \\\n",
       "Film                                                                            \n",
       "A View to a Kill      1985   Roger Moore        John Glen       275.2    54.5   \n",
       "Casino Royale         2006  Daniel Craig  Martin Campbell       581.5   145.3   \n",
       "Casino Royale         1967   David Niven       Ken Hughes       315.0    85.0   \n",
       "Diamonds Are Forever  1971  Sean Connery     Guy Hamilton       442.5    34.7   \n",
       "\n",
       "                      Bond Actor Salary  \n",
       "Film                                     \n",
       "A View to a Kill                    9.1  \n",
       "Casino Royale                       3.3  \n",
       "Casino Royale                       NaN  \n",
       "Diamonds Are Forever                5.8  "
      ]
     },
     "execution_count": 5,
     "metadata": {},
     "output_type": "execute_result"
    }
   ],
   "source": [
    "# List Slicing syntax\n",
    "bond.loc[\"Diamonds Are Forever\":\"From Russia with Love\"]  # Endpoint is included\n",
    "bond.loc[\"Diamonds Are Forever\":\"From Russia with Love\":2]\n",
    "bond.loc[\"Diamonds Are Forever\":]\n",
    "bond.loc[:\"Diamonds Are Forever\"]"
   ]
  },
  {
   "cell_type": "code",
   "execution_count": 6,
   "id": "62451ace-7fed-4b01-8711-7da3a5af085d",
   "metadata": {},
   "outputs": [
    {
     "data": {
      "text/plain": [
       "False"
      ]
     },
     "execution_count": 6,
     "metadata": {},
     "output_type": "execute_result"
    }
   ],
   "source": [
    "# Check if labelled index exists in dataframe\n",
    "\"Diamonds Are Forever\" in bond.index\n",
    "\"Rocks Are Forever\" in bond.index"
   ]
  },
  {
   "cell_type": "markdown",
   "id": "43f1392b-0d28-44cf-95b8-aba206ed7eee",
   "metadata": {},
   "source": [
    "### Retrive Rows by Index Position with `iloc` Accessor"
   ]
  },
  {
   "cell_type": "code",
   "execution_count": 7,
   "id": "9b028fd8-0ffb-45f4-b663-9f52d8d0c8f9",
   "metadata": {},
   "outputs": [
    {
     "data": {
      "text/html": [
       "<div>\n",
       "<style scoped>\n",
       "    .dataframe tbody tr th:only-of-type {\n",
       "        vertical-align: middle;\n",
       "    }\n",
       "\n",
       "    .dataframe tbody tr th {\n",
       "        vertical-align: top;\n",
       "    }\n",
       "\n",
       "    .dataframe thead th {\n",
       "        text-align: right;\n",
       "    }\n",
       "</style>\n",
       "<table border=\"1\" class=\"dataframe\">\n",
       "  <thead>\n",
       "    <tr style=\"text-align: right;\">\n",
       "      <th></th>\n",
       "      <th>Year</th>\n",
       "      <th>Actor</th>\n",
       "      <th>Director</th>\n",
       "      <th>Box Office</th>\n",
       "      <th>Budget</th>\n",
       "      <th>Bond Actor Salary</th>\n",
       "    </tr>\n",
       "    <tr>\n",
       "      <th>Film</th>\n",
       "      <th></th>\n",
       "      <th></th>\n",
       "      <th></th>\n",
       "      <th></th>\n",
       "      <th></th>\n",
       "      <th></th>\n",
       "    </tr>\n",
       "  </thead>\n",
       "  <tbody>\n",
       "    <tr>\n",
       "      <th>You Only Live Twice</th>\n",
       "      <td>1967</td>\n",
       "      <td>Sean Connery</td>\n",
       "      <td>Lewis Gilbert</td>\n",
       "      <td>514.2</td>\n",
       "      <td>59.9</td>\n",
       "      <td>4.4</td>\n",
       "    </tr>\n",
       "    <tr>\n",
       "      <th>Thunderball</th>\n",
       "      <td>1965</td>\n",
       "      <td>Sean Connery</td>\n",
       "      <td>Terence Young</td>\n",
       "      <td>848.1</td>\n",
       "      <td>41.9</td>\n",
       "      <td>4.7</td>\n",
       "    </tr>\n",
       "  </tbody>\n",
       "</table>\n",
       "</div>"
      ],
      "text/plain": [
       "                     Year         Actor       Director  Box Office  Budget  \\\n",
       "Film                                                                         \n",
       "You Only Live Twice  1967  Sean Connery  Lewis Gilbert       514.2    59.9   \n",
       "Thunderball          1965  Sean Connery  Terence Young       848.1    41.9   \n",
       "\n",
       "                     Bond Actor Salary  \n",
       "Film                                    \n",
       "You Only Live Twice                4.4  \n",
       "Thunderball                        4.7  "
      ]
     },
     "execution_count": 7,
     "metadata": {},
     "output_type": "execute_result"
    }
   ],
   "source": [
    "bond.iloc[23]\n",
    "bond.iloc[23:]\n",
    "bond.iloc[23:25]  # Endpoint is excluded\n",
    "bond.iloc[[25, 23]]"
   ]
  },
  {
   "cell_type": "markdown",
   "id": "e1c1b4ae-90aa-4b0b-87b5-5af97c7a73c8",
   "metadata": {},
   "source": [
    "### Second arguments to `loc` and `iloc`"
   ]
  },
  {
   "cell_type": "code",
   "execution_count": 8,
   "id": "a614d35c-0235-4e2a-a84f-cf9b37226287",
   "metadata": {},
   "outputs": [
    {
     "data": {
      "text/plain": [
       "Director             John Glen\n",
       "Box Office               373.8\n",
       "Budget                    53.9\n",
       "Bond Actor Salary          7.8\n",
       "Name: Octopussy, dtype: object"
      ]
     },
     "execution_count": 8,
     "metadata": {},
     "output_type": "execute_result"
    }
   ],
   "source": [
    "bond = pd.read_csv(file_path + \"jamesbond.csv\", index_col=\"Film\")\n",
    "bond = bond.sort_index()\n",
    "bond.loc[\"Moonraker\", \"Actor\"]\n",
    "bond.loc[\"Moonraker\", [\"Actor\", \"Year\"]]\n",
    "bond.loc[[\"Moonraker\", \"A View to a Kill\"], [\"Actor\", \"Year\"]]\n",
    "bond.loc[[\"Moonraker\", \"A View to a Kill\"], \"Box Office\":]\n",
    "\n",
    "bond.iloc[14, 1]\n",
    "bond.iloc[14, 2:]"
   ]
  },
  {
   "cell_type": "markdown",
   "id": "f0e0f159-0077-4ee1-bafd-c85e1b4cc1f3",
   "metadata": {},
   "source": [
    "### Set new value for a specific cell"
   ]
  },
  {
   "cell_type": "code",
   "execution_count": 13,
   "id": "17f1d328-bf1d-4f70-b503-f1fb26b6dd49",
   "metadata": {},
   "outputs": [],
   "source": [
    "bond.loc[\"Dr. No\", \"Actor\"] = \"Sir Sean Connery\"\n",
    "bond.loc[\"Dr. No\", [\"Box Office\", \"Budget\", \"Bond Actor Salary\"]] = [1, 2, 3]"
   ]
  },
  {
   "cell_type": "markdown",
   "id": "bd62454c-2a29-4494-8f11-fe3d113126d3",
   "metadata": {},
   "source": [
    "### Set Multiple Values in a DataFrame"
   ]
  },
  {
   "cell_type": "markdown",
   "id": "c3d8c19d-9b18-4b2b-bd41-58f6079e1a19",
   "metadata": {},
   "source": [
    "Note that `df[]` creates a copy, while `df.loc[]` references the existing DataFrame. <br>\n",
    "`df.loc[]` must therefore be used when changing the values in a DataFrame"
   ]
  },
  {
   "cell_type": "code",
   "execution_count": 31,
   "id": "614ea72a-eaab-47c3-b436-e321fb6fef6f",
   "metadata": {},
   "outputs": [],
   "source": [
    "bond = pd.read_csv(file_path + \"jamesbond.csv\", index_col=\"Film\")\n",
    "bond = bond.sort_index()\n",
    "bond.head(3)\n",
    "\n",
    "actor_is_sean_connery = bond[\"Actor\"] == \"Sean Connery\""
   ]
  },
  {
   "cell_type": "code",
   "execution_count": 27,
   "id": "8914cae7-0324-4a04-9eff-b37f95725673",
   "metadata": {},
   "outputs": [
    {
     "name": "stderr",
     "output_type": "stream",
     "text": [
      "/var/folders/kv/wv21y92n0ps5t0__kyvr69xw0000gn/T/ipykernel_964/3999355505.py:2: SettingWithCopyWarning: \n",
      "A value is trying to be set on a copy of a slice from a DataFrame.\n",
      "Try using .loc[row_indexer,col_indexer] = value instead\n",
      "\n",
      "See the caveats in the documentation: https://pandas.pydata.org/pandas-docs/stable/user_guide/indexing.html#returning-a-view-versus-a-copy\n",
      "  bond[actor_is_sean_connery][\"Actor\"] = \"Sir Sean Connery\"\n"
     ]
    }
   ],
   "source": [
    "# Wrong way to do it, because it creates a copy\n",
    "bond[actor_is_sean_connery][\"Actor\"] = \"Sir Sean Connery\""
   ]
  },
  {
   "cell_type": "code",
   "execution_count": 28,
   "id": "10b35503-86ee-43a6-a438-8856cb48a502",
   "metadata": {},
   "outputs": [],
   "source": [
    "# Right way to do it\n",
    "bond.loc[actor_is_sean_connery, \"Actor\"] = \"Sir Sean Connery\""
   ]
  },
  {
   "cell_type": "markdown",
   "id": "1a583e26-d03b-4e77-8335-686bf73101d5",
   "metadata": {},
   "source": [
    "### Rename Index Labels or Columns in a `DataFrame`"
   ]
  },
  {
   "cell_type": "code",
   "execution_count": 69,
   "id": "19cc2413-290e-4bfe-bf8c-64debaade8f3",
   "metadata": {},
   "outputs": [
    {
     "data": {
      "text/html": [
       "<div>\n",
       "<style scoped>\n",
       "    .dataframe tbody tr th:only-of-type {\n",
       "        vertical-align: middle;\n",
       "    }\n",
       "\n",
       "    .dataframe tbody tr th {\n",
       "        vertical-align: top;\n",
       "    }\n",
       "\n",
       "    .dataframe thead th {\n",
       "        text-align: right;\n",
       "    }\n",
       "</style>\n",
       "<table border=\"1\" class=\"dataframe\">\n",
       "  <thead>\n",
       "    <tr style=\"text-align: right;\">\n",
       "      <th></th>\n",
       "      <th>year</th>\n",
       "      <th>actor</th>\n",
       "      <th>director</th>\n",
       "      <th>box office</th>\n",
       "      <th>budget</th>\n",
       "      <th>bond actor salary</th>\n",
       "    </tr>\n",
       "    <tr>\n",
       "      <th>film</th>\n",
       "      <th></th>\n",
       "      <th></th>\n",
       "      <th></th>\n",
       "      <th></th>\n",
       "      <th></th>\n",
       "      <th></th>\n",
       "    </tr>\n",
       "  </thead>\n",
       "  <tbody>\n",
       "    <tr>\n",
       "      <th>A View to a Kill</th>\n",
       "      <td>1985</td>\n",
       "      <td>Roger Moore</td>\n",
       "      <td>John Glen</td>\n",
       "      <td>275.2</td>\n",
       "      <td>54.5</td>\n",
       "      <td>9.1</td>\n",
       "    </tr>\n",
       "    <tr>\n",
       "      <th>Casino Royale</th>\n",
       "      <td>2006</td>\n",
       "      <td>Daniel Craig</td>\n",
       "      <td>Martin Campbell</td>\n",
       "      <td>581.5</td>\n",
       "      <td>145.3</td>\n",
       "      <td>3.3</td>\n",
       "    </tr>\n",
       "    <tr>\n",
       "      <th>Casino Royale</th>\n",
       "      <td>1967</td>\n",
       "      <td>David Niven</td>\n",
       "      <td>Ken Hughes</td>\n",
       "      <td>315.0</td>\n",
       "      <td>85.0</td>\n",
       "      <td>NaN</td>\n",
       "    </tr>\n",
       "  </tbody>\n",
       "</table>\n",
       "</div>"
      ],
      "text/plain": [
       "                  year         actor         director  box office  budget  \\\n",
       "film                                                                        \n",
       "A View to a Kill  1985   Roger Moore        John Glen       275.2    54.5   \n",
       "Casino Royale     2006  Daniel Craig  Martin Campbell       581.5   145.3   \n",
       "Casino Royale     1967   David Niven       Ken Hughes       315.0    85.0   \n",
       "\n",
       "                  bond actor salary  \n",
       "film                                 \n",
       "A View to a Kill                9.1  \n",
       "Casino Royale                   3.3  \n",
       "Casino Royale                   NaN  "
      ]
     },
     "execution_count": 69,
     "metadata": {},
     "output_type": "execute_result"
    }
   ],
   "source": [
    "bond = pd.read_csv(file_path + \"jamesbond.csv\", index_col=\"Film\")\n",
    "bond = bond.sort_index()\n",
    "bond.head(3)\n",
    "\n",
    "# Renaming Index\n",
    "# The following two do the same thing\n",
    "bond.rename(\n",
    "    mapper={\n",
    "        \"GoldenEye\": \"Golden Eye\",\n",
    "        \"The World Is Not Enough\": \"Best Bond Movie Ever\",\n",
    "    },\n",
    "    axis=0,  # Can also use axis=\"rows\",  or axis=\"index\",\n",
    ")\n",
    "\n",
    "bond.rename(\n",
    "    index={\n",
    "        \"GoldenEye\": \"Golden Eye\",\n",
    "        \"The World Is Not Enough\": \"Best Bond Movie Ever\",\n",
    "    },\n",
    ")\n",
    "\n",
    "# Rename Columns\n",
    "# The following do the same thing\n",
    "bond.rename(mapper={\"Year\": \"Release Date\", \"Box Office\": \"Revenue\"}, axis=1)\n",
    "bond.rename(mapper={\"Year\": \"Release Date\", \"Box Office\": \"Revenue\"}, axis=\"columns\")\n",
    "bond.rename(columns={\"Year\": \"Release Date\", \"Box Office\": \"Revenue\"})\n",
    "\n",
    "# Renaming all columns\n",
    "col_names = [\"Year\", \"Actor\", \"Director\", \"Box Office\", \"Budget\", \"Bond Actor Salary\"]\n",
    "col_names = [x.lower() for x in col_names]\n",
    "bond.columns = col_names\n",
    "bond.index.name = \"film\"\n",
    "bond.head(3)"
   ]
  },
  {
   "cell_type": "markdown",
   "id": "0a677512-7652-457e-81d1-bd0b34cf95ec",
   "metadata": {},
   "source": [
    "### Delete Rows or Columns from a DataFrame"
   ]
  },
  {
   "cell_type": "code",
   "execution_count": 78,
   "id": "09e9d55b-0217-4f72-9fe1-c4d254842ec9",
   "metadata": {},
   "outputs": [
    {
     "data": {
      "text/html": [
       "<div>\n",
       "<style scoped>\n",
       "    .dataframe tbody tr th:only-of-type {\n",
       "        vertical-align: middle;\n",
       "    }\n",
       "\n",
       "    .dataframe tbody tr th {\n",
       "        vertical-align: top;\n",
       "    }\n",
       "\n",
       "    .dataframe thead th {\n",
       "        text-align: right;\n",
       "    }\n",
       "</style>\n",
       "<table border=\"1\" class=\"dataframe\">\n",
       "  <thead>\n",
       "    <tr style=\"text-align: right;\">\n",
       "      <th></th>\n",
       "      <th>Year</th>\n",
       "      <th>Box Office</th>\n",
       "      <th>Budget</th>\n",
       "      <th>Bond Actor Salary</th>\n",
       "    </tr>\n",
       "    <tr>\n",
       "      <th>Film</th>\n",
       "      <th></th>\n",
       "      <th></th>\n",
       "      <th></th>\n",
       "      <th></th>\n",
       "    </tr>\n",
       "  </thead>\n",
       "  <tbody>\n",
       "    <tr>\n",
       "      <th>A View to a Kill</th>\n",
       "      <td>1985</td>\n",
       "      <td>275.2</td>\n",
       "      <td>54.5</td>\n",
       "      <td>9.1</td>\n",
       "    </tr>\n",
       "    <tr>\n",
       "      <th>Casino Royale</th>\n",
       "      <td>2006</td>\n",
       "      <td>581.5</td>\n",
       "      <td>145.3</td>\n",
       "      <td>3.3</td>\n",
       "    </tr>\n",
       "    <tr>\n",
       "      <th>Casino Royale</th>\n",
       "      <td>1967</td>\n",
       "      <td>315.0</td>\n",
       "      <td>85.0</td>\n",
       "      <td>NaN</td>\n",
       "    </tr>\n",
       "  </tbody>\n",
       "</table>\n",
       "</div>"
      ],
      "text/plain": [
       "                  Year  Box Office  Budget  Bond Actor Salary\n",
       "Film                                                         \n",
       "A View to a Kill  1985       275.2    54.5                9.1\n",
       "Casino Royale     2006       581.5   145.3                3.3\n",
       "Casino Royale     1967       315.0    85.0                NaN"
      ]
     },
     "execution_count": 78,
     "metadata": {},
     "output_type": "execute_result"
    }
   ],
   "source": [
    "bond = pd.read_csv(file_path + \"jamesbond.csv\", index_col=\"Film\")\n",
    "bond = bond.sort_index()\n",
    "bond.head(3)\n",
    "\n",
    "# Remove rows by index label\n",
    "bond.drop(\"A View to a Kill\")\n",
    "bond.drop([\"A View to a Kill\", \"Die Another Day\", \"Casino Royale\"])\n",
    "\n",
    "# Remove columns\n",
    "bond.drop(\"Box Office\", axis=1)\n",
    "bond.drop([\"Box Office\", \"Budget\"], axis=1)\n",
    "\n",
    "# pop method\n",
    "bond.pop(\"Actor\")  # Removes and returns the \"Actor\" column\n",
    "\n",
    "# The del keyword\n",
    "del bond[\"Director\"]\n",
    "\n",
    "bond.head(3)"
   ]
  },
  {
   "cell_type": "markdown",
   "id": "210f73da-8bb2-43a3-bf52-1d6a11d05516",
   "metadata": {},
   "source": [
    "### Create Random Sample with the `sample` method"
   ]
  },
  {
   "cell_type": "code",
   "execution_count": 83,
   "id": "1149f537-4a57-45b1-8862-90976a1a8ef3",
   "metadata": {},
   "outputs": [
    {
     "data": {
      "text/html": [
       "<div>\n",
       "<style scoped>\n",
       "    .dataframe tbody tr th:only-of-type {\n",
       "        vertical-align: middle;\n",
       "    }\n",
       "\n",
       "    .dataframe tbody tr th {\n",
       "        vertical-align: top;\n",
       "    }\n",
       "\n",
       "    .dataframe thead th {\n",
       "        text-align: right;\n",
       "    }\n",
       "</style>\n",
       "<table border=\"1\" class=\"dataframe\">\n",
       "  <thead>\n",
       "    <tr style=\"text-align: right;\">\n",
       "      <th></th>\n",
       "      <th>Year</th>\n",
       "      <th>Director</th>\n",
       "      <th>Bond Actor Salary</th>\n",
       "    </tr>\n",
       "    <tr>\n",
       "      <th>Film</th>\n",
       "      <th></th>\n",
       "      <th></th>\n",
       "      <th></th>\n",
       "    </tr>\n",
       "  </thead>\n",
       "  <tbody>\n",
       "    <tr>\n",
       "      <th>A View to a Kill</th>\n",
       "      <td>1985</td>\n",
       "      <td>John Glen</td>\n",
       "      <td>9.1</td>\n",
       "    </tr>\n",
       "    <tr>\n",
       "      <th>Casino Royale</th>\n",
       "      <td>2006</td>\n",
       "      <td>Martin Campbell</td>\n",
       "      <td>3.3</td>\n",
       "    </tr>\n",
       "    <tr>\n",
       "      <th>Casino Royale</th>\n",
       "      <td>1967</td>\n",
       "      <td>Ken Hughes</td>\n",
       "      <td>NaN</td>\n",
       "    </tr>\n",
       "  </tbody>\n",
       "</table>\n",
       "</div>"
      ],
      "text/plain": [
       "                  Year         Director  Bond Actor Salary\n",
       "Film                                                      \n",
       "A View to a Kill  1985        John Glen                9.1\n",
       "Casino Royale     2006  Martin Campbell                3.3\n",
       "Casino Royale     1967       Ken Hughes                NaN"
      ]
     },
     "execution_count": 83,
     "metadata": {},
     "output_type": "execute_result"
    }
   ],
   "source": [
    "bond = pd.read_csv(file_path + \"jamesbond.csv\", index_col=\"Film\")\n",
    "bond = bond.sort_index()\n",
    "bond.sample(3)\n",
    "bond.sample(frac=0.25)  # Sample 25% of the rows\n",
    "bond.sample(n=3, axis=1).head(3)"
   ]
  },
  {
   "cell_type": "markdown",
   "id": "28f2ebd6-a57f-42b3-ab99-9b28995a251a",
   "metadata": {},
   "source": [
    "### Use the `nsmallest` / `nlargest` methods"
   ]
  },
  {
   "cell_type": "code",
   "execution_count": 89,
   "id": "881df6c2-6f41-400b-abee-b26544bfe8d5",
   "metadata": {},
   "outputs": [
    {
     "data": {
      "text/plain": [
       "Film\n",
       "Skyfall        943.5\n",
       "Thunderball    848.1\n",
       "Name: Box Office, dtype: float64"
      ]
     },
     "execution_count": 89,
     "metadata": {},
     "output_type": "execute_result"
    }
   ],
   "source": [
    "bond = pd.read_csv(file_path + \"jamesbond.csv\", index_col=\"Film\")\n",
    "bond = bond.sort_values(\"Box Office\", ascending=False)\n",
    "# nlargest/nsmallest are faster than sort_values\n",
    "bond.nlargest(3, columns=\"Box Office\")\n",
    "bond.nsmallest(2, columns=\"Box Office\")\n",
    "\n",
    "bond[\"Box Office\"].nlargest(2)"
   ]
  },
  {
   "cell_type": "markdown",
   "id": "22919a1c-e32c-44f7-8a92-cd8ff8824f0e",
   "metadata": {},
   "source": [
    "### Filter A `DataFrame` with the `where` method"
   ]
  },
  {
   "cell_type": "code",
   "execution_count": 94,
   "id": "ad3aca3d-cfc2-42b5-9fba-93b53076afe2",
   "metadata": {},
   "outputs": [
    {
     "data": {
      "text/html": [
       "<div>\n",
       "<style scoped>\n",
       "    .dataframe tbody tr th:only-of-type {\n",
       "        vertical-align: middle;\n",
       "    }\n",
       "\n",
       "    .dataframe tbody tr th {\n",
       "        vertical-align: top;\n",
       "    }\n",
       "\n",
       "    .dataframe thead th {\n",
       "        text-align: right;\n",
       "    }\n",
       "</style>\n",
       "<table border=\"1\" class=\"dataframe\">\n",
       "  <thead>\n",
       "    <tr style=\"text-align: right;\">\n",
       "      <th></th>\n",
       "      <th>Year</th>\n",
       "      <th>Actor</th>\n",
       "      <th>Director</th>\n",
       "      <th>Box Office</th>\n",
       "      <th>Budget</th>\n",
       "      <th>Bond Actor Salary</th>\n",
       "    </tr>\n",
       "    <tr>\n",
       "      <th>Film</th>\n",
       "      <th></th>\n",
       "      <th></th>\n",
       "      <th></th>\n",
       "      <th></th>\n",
       "      <th></th>\n",
       "      <th></th>\n",
       "    </tr>\n",
       "  </thead>\n",
       "  <tbody>\n",
       "    <tr>\n",
       "      <th>Skyfall</th>\n",
       "      <td>NaN</td>\n",
       "      <td>NaN</td>\n",
       "      <td>NaN</td>\n",
       "      <td>NaN</td>\n",
       "      <td>NaN</td>\n",
       "      <td>NaN</td>\n",
       "    </tr>\n",
       "    <tr>\n",
       "      <th>Thunderball</th>\n",
       "      <td>1965.0</td>\n",
       "      <td>Sean Connery</td>\n",
       "      <td>Terence Young</td>\n",
       "      <td>848.1</td>\n",
       "      <td>41.9</td>\n",
       "      <td>4.7</td>\n",
       "    </tr>\n",
       "    <tr>\n",
       "      <th>Goldfinger</th>\n",
       "      <td>1964.0</td>\n",
       "      <td>Sean Connery</td>\n",
       "      <td>Guy Hamilton</td>\n",
       "      <td>820.4</td>\n",
       "      <td>18.6</td>\n",
       "      <td>3.2</td>\n",
       "    </tr>\n",
       "  </tbody>\n",
       "</table>\n",
       "</div>"
      ],
      "text/plain": [
       "               Year         Actor       Director  Box Office  Budget  \\\n",
       "Film                                                                   \n",
       "Skyfall         NaN           NaN            NaN         NaN     NaN   \n",
       "Thunderball  1965.0  Sean Connery  Terence Young       848.1    41.9   \n",
       "Goldfinger   1964.0  Sean Connery   Guy Hamilton       820.4    18.6   \n",
       "\n",
       "             Bond Actor Salary  \n",
       "Film                            \n",
       "Skyfall                    NaN  \n",
       "Thunderball                4.7  \n",
       "Goldfinger                 3.2  "
      ]
     },
     "execution_count": 94,
     "metadata": {},
     "output_type": "execute_result"
    }
   ],
   "source": [
    "# The way we previously learned to filter\n",
    "mask = bond[\"Actor\"] == \"Sean Connery\"\n",
    "bond[mask]\n",
    "\n",
    "# With the where method, returns the full dataframe but those that do not fit the mask are set to NaN:\n",
    "bond.where(mask).head(3)"
   ]
  },
  {
   "cell_type": "markdown",
   "id": "f777edce-a3bc-4dff-b39f-faf03c3dcd5d",
   "metadata": {},
   "source": [
    "### Filter A DataFrame with the `query` method"
   ]
  },
  {
   "cell_type": "code",
   "execution_count": 108,
   "id": "4a127072-a72f-420b-a01f-dca88ad9839f",
   "metadata": {},
   "outputs": [
    {
     "data": {
      "text/html": [
       "<div>\n",
       "<style scoped>\n",
       "    .dataframe tbody tr th:only-of-type {\n",
       "        vertical-align: middle;\n",
       "    }\n",
       "\n",
       "    .dataframe tbody tr th {\n",
       "        vertical-align: top;\n",
       "    }\n",
       "\n",
       "    .dataframe thead th {\n",
       "        text-align: right;\n",
       "    }\n",
       "</style>\n",
       "<table border=\"1\" class=\"dataframe\">\n",
       "  <thead>\n",
       "    <tr style=\"text-align: right;\">\n",
       "      <th></th>\n",
       "      <th>Year</th>\n",
       "      <th>Actor</th>\n",
       "      <th>Director</th>\n",
       "      <th>Box_Office</th>\n",
       "      <th>Budget</th>\n",
       "      <th>Bond_Actor_Salary</th>\n",
       "    </tr>\n",
       "    <tr>\n",
       "      <th>Film</th>\n",
       "      <th></th>\n",
       "      <th></th>\n",
       "      <th></th>\n",
       "      <th></th>\n",
       "      <th></th>\n",
       "      <th></th>\n",
       "    </tr>\n",
       "  </thead>\n",
       "  <tbody>\n",
       "    <tr>\n",
       "      <th>Diamonds Are Forever</th>\n",
       "      <td>1971</td>\n",
       "      <td>Sean Connery</td>\n",
       "      <td>Guy Hamilton</td>\n",
       "      <td>442.5</td>\n",
       "      <td>34.7</td>\n",
       "      <td>5.8</td>\n",
       "    </tr>\n",
       "    <tr>\n",
       "      <th>Dr. No</th>\n",
       "      <td>1962</td>\n",
       "      <td>Sean Connery</td>\n",
       "      <td>Terence Young</td>\n",
       "      <td>448.8</td>\n",
       "      <td>7.0</td>\n",
       "      <td>0.6</td>\n",
       "    </tr>\n",
       "    <tr>\n",
       "      <th>From Russia with Love</th>\n",
       "      <td>1963</td>\n",
       "      <td>Sean Connery</td>\n",
       "      <td>Terence Young</td>\n",
       "      <td>543.8</td>\n",
       "      <td>12.6</td>\n",
       "      <td>1.6</td>\n",
       "    </tr>\n",
       "  </tbody>\n",
       "</table>\n",
       "</div>"
      ],
      "text/plain": [
       "                       Year         Actor       Director  Box_Office  Budget  \\\n",
       "Film                                                                           \n",
       "Diamonds Are Forever   1971  Sean Connery   Guy Hamilton       442.5    34.7   \n",
       "Dr. No                 1962  Sean Connery  Terence Young       448.8     7.0   \n",
       "From Russia with Love  1963  Sean Connery  Terence Young       543.8    12.6   \n",
       "\n",
       "                       Bond_Actor_Salary  \n",
       "Film                                      \n",
       "Diamonds Are Forever                 5.8  \n",
       "Dr. No                               0.6  \n",
       "From Russia with Love                1.6  "
      ]
     },
     "execution_count": 108,
     "metadata": {},
     "output_type": "execute_result"
    }
   ],
   "source": [
    "bond = pd.read_csv(file_path + \"jamesbond.csv\", index_col=\"Film\")\n",
    "bond = bond.sort_index()\n",
    "# Remove spaces from column names\n",
    "bond.columns = [x.replace(\" \", \"_\") for x in bond.columns]\n",
    "\n",
    "bond.query('Actor == \"Sean Connery\"')\n",
    "bond.query('Actor == \"Roger Moore\" and Director == \"John Glen\"')\n",
    "bond.query('Actor in [\"Timothy Dalton\", \"Sean Connery\"]').head(3)"
   ]
  },
  {
   "cell_type": "markdown",
   "id": "a76bcc42-f548-48f8-a99a-c7e62113bd21",
   "metadata": {},
   "source": [
    "### A Review of the `apply()` Method on Single Columns"
   ]
  },
  {
   "cell_type": "code",
   "execution_count": 115,
   "id": "7f5d3b93-66f3-4e0f-bb95-50f71ca41ae4",
   "metadata": {},
   "outputs": [
    {
     "data": {
      "text/html": [
       "<div>\n",
       "<style scoped>\n",
       "    .dataframe tbody tr th:only-of-type {\n",
       "        vertical-align: middle;\n",
       "    }\n",
       "\n",
       "    .dataframe tbody tr th {\n",
       "        vertical-align: top;\n",
       "    }\n",
       "\n",
       "    .dataframe thead th {\n",
       "        text-align: right;\n",
       "    }\n",
       "</style>\n",
       "<table border=\"1\" class=\"dataframe\">\n",
       "  <thead>\n",
       "    <tr style=\"text-align: right;\">\n",
       "      <th></th>\n",
       "      <th>Year</th>\n",
       "      <th>Actor</th>\n",
       "      <th>Director</th>\n",
       "      <th>Box Office</th>\n",
       "      <th>Budget</th>\n",
       "      <th>Bond Actor Salary</th>\n",
       "    </tr>\n",
       "    <tr>\n",
       "      <th>Film</th>\n",
       "      <th></th>\n",
       "      <th></th>\n",
       "      <th></th>\n",
       "      <th></th>\n",
       "      <th></th>\n",
       "      <th></th>\n",
       "    </tr>\n",
       "  </thead>\n",
       "  <tbody>\n",
       "    <tr>\n",
       "      <th>A View to a Kill</th>\n",
       "      <td>1985</td>\n",
       "      <td>Roger Moore</td>\n",
       "      <td>John Glen</td>\n",
       "      <td>275.2 MILLIONS!</td>\n",
       "      <td>54.5 MILLIONS!</td>\n",
       "      <td>9.1 MILLIONS!</td>\n",
       "    </tr>\n",
       "    <tr>\n",
       "      <th>Casino Royale</th>\n",
       "      <td>2006</td>\n",
       "      <td>Daniel Craig</td>\n",
       "      <td>Martin Campbell</td>\n",
       "      <td>581.5 MILLIONS!</td>\n",
       "      <td>145.3 MILLIONS!</td>\n",
       "      <td>3.3 MILLIONS!</td>\n",
       "    </tr>\n",
       "    <tr>\n",
       "      <th>Casino Royale</th>\n",
       "      <td>1967</td>\n",
       "      <td>David Niven</td>\n",
       "      <td>Ken Hughes</td>\n",
       "      <td>315.0 MILLIONS!</td>\n",
       "      <td>85.0 MILLIONS!</td>\n",
       "      <td>nan MILLIONS!</td>\n",
       "    </tr>\n",
       "  </tbody>\n",
       "</table>\n",
       "</div>"
      ],
      "text/plain": [
       "                  Year         Actor         Director       Box Office  \\\n",
       "Film                                                                     \n",
       "A View to a Kill  1985   Roger Moore        John Glen  275.2 MILLIONS!   \n",
       "Casino Royale     2006  Daniel Craig  Martin Campbell  581.5 MILLIONS!   \n",
       "Casino Royale     1967   David Niven       Ken Hughes  315.0 MILLIONS!   \n",
       "\n",
       "                           Budget Bond Actor Salary  \n",
       "Film                                                 \n",
       "A View to a Kill   54.5 MILLIONS!     9.1 MILLIONS!  \n",
       "Casino Royale     145.3 MILLIONS!     3.3 MILLIONS!  \n",
       "Casino Royale      85.0 MILLIONS!     nan MILLIONS!  "
      ]
     },
     "execution_count": 115,
     "metadata": {},
     "output_type": "execute_result"
    }
   ],
   "source": [
    "bond = pd.read_csv(file_path + \"jamesbond.csv\", index_col=\"Film\")\n",
    "bond = bond.sort_index()\n",
    "\n",
    "\n",
    "def convert_to_string_and_add_millions(number):\n",
    "    return str(number) + \" MILLIONS!\"\n",
    "\n",
    "\n",
    "bond[\"Box Office\"].apply(convert_to_string_and_add_millions).head(3)\n",
    "\n",
    "\n",
    "columns = [\"Box Office\", \"Budget\", \"Bond Actor Salary\"]\n",
    "\n",
    "for col in columns:\n",
    "    bond[col] = bond[col].apply(convert_to_string_and_add_millions)\n",
    "\n",
    "bond.head(3)"
   ]
  },
  {
   "cell_type": "markdown",
   "id": "e974ed72-0bc3-4e58-898b-efaf1f92f9a3",
   "metadata": {},
   "source": [
    "### Apply a Function to every DataFrame Row with the apply function"
   ]
  },
  {
   "cell_type": "code",
   "execution_count": 131,
   "id": "8b7084f8-0d5f-4d7d-a625-9e0a2d3d903f",
   "metadata": {},
   "outputs": [
    {
     "data": {
      "text/plain": [
       "Film\n",
       "A View to a Kill       Okay\n",
       "Casino Royale       No clue\n",
       "Casino Royale       No clue\n",
       "dtype: object"
      ]
     },
     "execution_count": 131,
     "metadata": {},
     "output_type": "execute_result"
    }
   ],
   "source": [
    "bond = pd.read_csv(file_path + \"jamesbond.csv\", index_col=\"Film\")\n",
    "bond = bond.sort_index()\n",
    "\n",
    "\n",
    "def good_movie(row):\n",
    "    actor = row[\"Actor\"]\n",
    "    budget = row[\"Budget\"]\n",
    "    if actor == \"Pierce Brosnan\":\n",
    "        return \"The Best\"\n",
    "    elif actor == \"Roger Moore\" and budget > 40:\n",
    "        return \"Okay\"\n",
    "    else:\n",
    "        return \"No clue\"\n",
    "\n",
    "\n",
    "bond.apply(good_movie, axis=1).head(3)"
   ]
  },
  {
   "cell_type": "markdown",
   "id": "ffa57ff0-f498-4aa9-92b4-fa3df8fcc87d",
   "metadata": {},
   "source": [
    "### The `.copy()` method"
   ]
  },
  {
   "cell_type": "code",
   "execution_count": 138,
   "id": "e8c1a80b-3dc4-4d8f-af7e-22b298e0b6b5",
   "metadata": {},
   "outputs": [
    {
     "name": "stderr",
     "output_type": "stream",
     "text": [
      "/var/folders/kv/wv21y92n0ps5t0__kyvr69xw0000gn/T/ipykernel_964/504653021.py:6: SettingWithCopyWarning: \n",
      "A value is trying to be set on a copy of a slice from a DataFrame\n",
      "\n",
      "See the caveats in the documentation: https://pandas.pydata.org/pandas-docs/stable/user_guide/indexing.html#returning-a-view-versus-a-copy\n",
      "  directors[0] = \"Fredrik\"\n"
     ]
    }
   ],
   "source": [
    "bond = pd.read_csv(file_path + \"jamesbond.csv\", index_col=\"Film\")\n",
    "bond = bond.sort_index()\n",
    "\n",
    "# This will give a warning, as we make change to a slice of a DataFrame. The Original DataFrame will also be changed\n",
    "directors = bond[\"Director\"]\n",
    "directors[0] = \"Fredrik\"\n",
    "\n",
    "# Use copy to not affect the original DataFrame\n",
    "directors = bond[\"Director\"].copy()\n",
    "directors[1] = \"Fredrik\""
   ]
  }
 ],
 "metadata": {
  "kernelspec": {
   "display_name": "python311",
   "language": "python",
   "name": "python311"
  },
  "language_info": {
   "codemirror_mode": {
    "name": "ipython",
    "version": 3
   },
   "file_extension": ".py",
   "mimetype": "text/x-python",
   "name": "python",
   "nbconvert_exporter": "python",
   "pygments_lexer": "ipython3",
   "version": "3.11.0"
  }
 },
 "nbformat": 4,
 "nbformat_minor": 5
}
