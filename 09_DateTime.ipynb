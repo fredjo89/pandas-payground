{
 "cells": [
  {
   "cell_type": "code",
   "execution_count": 1,
   "id": "ba830768-ebb9-497c-a22f-a546ae1703be",
   "metadata": {},
   "outputs": [],
   "source": [
    "%load_ext lab_black\n",
    "import pandas as pd\n",
    "import datetime as dt\n",
    "\n",
    "file_path = \"/Users/fredrikjohannessen/Desktop/repositories/pandas-payground/data/\""
   ]
  },
  {
   "cell_type": "markdown",
   "id": "7141f092-fa9b-4684-8103-548106acf36a",
   "metadata": {},
   "source": [
    "`datetime` is a standard python library. "
   ]
  },
  {
   "cell_type": "markdown",
   "id": "28878235-00e3-4b60-b350-42008370da17",
   "metadata": {},
   "source": [
    "### Review of Python's `datetime` module"
   ]
  },
  {
   "cell_type": "markdown",
   "id": "552bdabb-5e7c-4a28-b039-a4662576f40f",
   "metadata": {},
   "source": [
    "The `datetime` module contains a class called `datetime`"
   ]
  },
  {
   "cell_type": "code",
   "execution_count": 2,
   "id": "82992d15-cf39-4fb3-8f23-8275bbfb0589",
   "metadata": {},
   "outputs": [
    {
     "data": {
      "text/plain": [
       "12"
      ]
     },
     "execution_count": 2,
     "metadata": {},
     "output_type": "execute_result"
    }
   ],
   "source": [
    "someday = dt.date(1989, 12, 5)\n",
    "\n",
    "someday.year\n",
    "someday.month\n",
    "someday.day\n",
    "\n",
    "dt.datetime(1989, 12, 5)\n",
    "dt.datetime(1989, 12, 5, 11, 1)\n",
    "str(dt.datetime(1989, 12, 5, 11, 1, 12))\n",
    "sometime = dt.datetime(1989, 12, 5, 11, 1, 12)\n",
    "sometime.second"
   ]
  },
  {
   "cell_type": "markdown",
   "id": "cd5c9f71-5968-482c-8391-17686bb422ff",
   "metadata": {},
   "source": [
    "### The pandas `Timestamp` object"
   ]
  },
  {
   "cell_type": "markdown",
   "id": "a47569be-833a-4c98-8e7e-938b2e0c3dfb",
   "metadata": {},
   "source": [
    "Note! There is a lot more we can do with a pandas `timestamp` object than a python `datetime` object. <br>\n",
    "Tries to be smart when converting string to timestamp:"
   ]
  },
  {
   "cell_type": "code",
   "execution_count": 3,
   "id": "f12642da-131a-4f21-8743-65a6c3a49484",
   "metadata": {},
   "outputs": [
    {
     "data": {
      "text/plain": [
       "Timestamp('2020-02-01 08:30:00')"
      ]
     },
     "execution_count": 3,
     "metadata": {},
     "output_type": "execute_result"
    }
   ],
   "source": [
    "pd.Timestamp(\"2020-02-01\")\n",
    "pd.Timestamp(\"2020/02/01\")\n",
    "pd.Timestamp(\"01/02/2020\")\n",
    "pd.Timestamp(\"2020-02-01 08:30:00\")\n",
    "pd.Timestamp(dt.date(2020, 2, 1))\n",
    "pd.Timestamp(dt.datetime(2020, 2, 1, 8, 30, 0))"
   ]
  },
  {
   "cell_type": "markdown",
   "id": "8cc7cbd8-c91e-452b-b119-c391a941c456",
   "metadata": {},
   "source": [
    "### The pandas `DatetimeIndex` object"
   ]
  },
  {
   "cell_type": "code",
   "execution_count": 4,
   "id": "f3510fd2-b462-4d50-bbb4-0899fa6affaf",
   "metadata": {},
   "outputs": [
    {
     "data": {
      "text/html": [
       "<div>\n",
       "<style scoped>\n",
       "    .dataframe tbody tr th:only-of-type {\n",
       "        vertical-align: middle;\n",
       "    }\n",
       "\n",
       "    .dataframe tbody tr th {\n",
       "        vertical-align: top;\n",
       "    }\n",
       "\n",
       "    .dataframe thead th {\n",
       "        text-align: right;\n",
       "    }\n",
       "</style>\n",
       "<table border=\"1\" class=\"dataframe\">\n",
       "  <thead>\n",
       "    <tr style=\"text-align: right;\">\n",
       "      <th></th>\n",
       "      <th>dummy</th>\n",
       "    </tr>\n",
       "  </thead>\n",
       "  <tbody>\n",
       "    <tr>\n",
       "      <th>2021-03-12</th>\n",
       "      <td>1</td>\n",
       "    </tr>\n",
       "    <tr>\n",
       "      <th>2023-01-15</th>\n",
       "      <td>2</td>\n",
       "    </tr>\n",
       "    <tr>\n",
       "      <th>2010-12-06</th>\n",
       "      <td>3</td>\n",
       "    </tr>\n",
       "  </tbody>\n",
       "</table>\n",
       "</div>"
      ],
      "text/plain": [
       "            dummy\n",
       "2021-03-12      1\n",
       "2023-01-15      2\n",
       "2010-12-06      3"
      ]
     },
     "execution_count": 4,
     "metadata": {},
     "output_type": "execute_result"
    }
   ],
   "source": [
    "dates = [\"2021-03-12\", \"2023-01-15\", \"2010-12-06\"]\n",
    "pd.DatetimeIndex(dates)\n",
    "dates = [dt.date(2021, 3, 12), dt.date(2023, 1, 15), dt.date(2010, 12, 6)]\n",
    "pd.DatetimeIndex(dates)\n",
    "\n",
    "values = [1, 2, 3]\n",
    "\n",
    "pd.DataFrame(data=values, index=pd.DatetimeIndex(dates), columns=[\"dummy\"])"
   ]
  },
  {
   "cell_type": "markdown",
   "id": "0689d2bf-91e6-4d4e-84dc-46c6ef0ce883",
   "metadata": {},
   "source": [
    "### The `pd.to_datetime()` Method"
   ]
  },
  {
   "cell_type": "code",
   "execution_count": 5,
   "id": "f3e1bff3-318c-4ec5-b0fe-6a78e0b2941c",
   "metadata": {},
   "outputs": [
    {
     "data": {
      "text/plain": [
       "Timestamp('2009-01-19 09:30:25')"
      ]
     },
     "execution_count": 5,
     "metadata": {},
     "output_type": "execute_result"
    }
   ],
   "source": [
    "pd.to_datetime(\"2020-02-03\")\n",
    "pd.to_datetime(dt.datetime(2015, 3, 10, 8, 30, 30))\n",
    "pd.to_datetime(\n",
    "    [\n",
    "        dt.datetime(2015, 3, 10, 8, 30, 30),\n",
    "        \"2013-03-12\",\n",
    "        \"2002\",\n",
    "        \"July 4th 1996\",\n",
    "        \"12/11/1994\",\n",
    "    ]\n",
    ")\n",
    "\n",
    "times = pd.Series([\"2020-02-03\", \"2021-12-16\", \"2011-11-09\", \"2020-07-03\"])\n",
    "pd.to_datetime(times)\n",
    "\n",
    "\n",
    "times = pd.Series([\"2020-02-03\", \"2021-12-16\", \"2011-11-09\", \"HELLO!!!\"])\n",
    "pd.to_datetime(times, errors=\"coerce\")\n",
    "\n",
    "pd.to_datetime(1232357425, unit=\"s\")  # Seconds since 1970"
   ]
  },
  {
   "cell_type": "markdown",
   "id": "64b80be2-f696-4c08-958b-e86636803735",
   "metadata": {},
   "source": [
    "### Create range of dates with the `pd.date_range()` Method"
   ]
  },
  {
   "cell_type": "code",
   "execution_count": 6,
   "id": "f4847b33-1bde-4c92-9982-97d6f56cd0d1",
   "metadata": {},
   "outputs": [
    {
     "data": {
      "text/plain": [
       "DatetimeIndex(['2019-01-06', '2019-01-13', '2019-01-20', '2019-01-27',\n",
       "               '2019-02-03'],\n",
       "              dtype='datetime64[ns]', freq='W-SUN')"
      ]
     },
     "execution_count": 6,
     "metadata": {},
     "output_type": "execute_result"
    }
   ],
   "source": [
    "pd.date_range(start=\"2019-01-01\", end=\"2019-01-05\")\n",
    "pd.date_range(start=\"2019-01-01\", end=\"2019-04-01\", freq=\"M\")\n",
    "pd.date_range(start=\"2019-01-01\", end=\"2022-01-01\", freq=\"Y\")\n",
    "\n",
    "pd.DataFrame(\n",
    "    index=pd.date_range(start=\"2019-01-01\", end=\"2019-01-05\"),\n",
    "    data=[1, 2, 3, 4, 5],\n",
    ")\n",
    "\n",
    "pd.date_range(start=\"2019-01-01\", end=\"2019-01-25\", freq=\"W-FRI\")\n",
    "pd.date_range(start=\"2019-01-01\", end=\"2019-01-01 04:00:00\", freq=\"H\")\n",
    "\n",
    "pd.date_range(start=\"2019-01-01\", end=\"2019-02-05\", periods=5)\n",
    "pd.date_range(start=\"2019-01-01\", freq=\"W\", periods=5)"
   ]
  },
  {
   "cell_type": "markdown",
   "id": "bfe2fba1-251d-4e49-b1c5-4a5345609b1c",
   "metadata": {},
   "source": [
    "### The .dt accessor"
   ]
  },
  {
   "cell_type": "code",
   "execution_count": 31,
   "id": "5c9fc985-b2fe-4d36-9378-22f486d15cdd",
   "metadata": {},
   "outputs": [
    {
     "data": {
      "text/plain": [
       "0     2000-01-01\n",
       "19    2001-04-01\n",
       "38    2002-07-01\n",
       "137   2009-01-01\n",
       "dtype: datetime64[ns]"
      ]
     },
     "execution_count": 31,
     "metadata": {},
     "output_type": "execute_result"
    }
   ],
   "source": [
    "bunch_of_dates = pd.date_range(start=\"2000-01-01\", end=\"2010-12-31\", freq=\"24D\")\n",
    "s = pd.Series(bunch_of_dates)\n",
    "s.dt.isocalendar().week\n",
    "\n",
    "mask = s.dt.is_quarter_start\n",
    "s[mask]"
   ]
  },
  {
   "cell_type": "markdown",
   "id": "e426fe54-df9f-4819-acd1-c69a01d77b38",
   "metadata": {},
   "source": [
    "### Import Financial Data Set with `pandas_datareader` library"
   ]
  },
  {
   "cell_type": "code",
   "execution_count": 37,
   "id": "75ee45a3-35ef-43be-83db-b31618a8f75a",
   "metadata": {},
   "outputs": [],
   "source": [
    "from pandas_datareader import data\n",
    "import matplotlib.pyplot as plt"
   ]
  },
  {
   "cell_type": "code",
   "execution_count": 55,
   "id": "4e6df702-147d-4b37-8a6e-28cb83386115",
   "metadata": {},
   "outputs": [
    {
     "data": {
      "text/html": [
       "<div>\n",
       "<style scoped>\n",
       "    .dataframe tbody tr th:only-of-type {\n",
       "        vertical-align: middle;\n",
       "    }\n",
       "\n",
       "    .dataframe tbody tr th {\n",
       "        vertical-align: top;\n",
       "    }\n",
       "\n",
       "    .dataframe thead th {\n",
       "        text-align: right;\n",
       "    }\n",
       "</style>\n",
       "<table border=\"1\" class=\"dataframe\">\n",
       "  <thead>\n",
       "    <tr style=\"text-align: right;\">\n",
       "      <th></th>\n",
       "      <th>Open</th>\n",
       "      <th>High</th>\n",
       "      <th>Low</th>\n",
       "      <th>Close</th>\n",
       "      <th>Volume</th>\n",
       "    </tr>\n",
       "    <tr>\n",
       "      <th>Date</th>\n",
       "      <th></th>\n",
       "      <th></th>\n",
       "      <th></th>\n",
       "      <th></th>\n",
       "      <th></th>\n",
       "    </tr>\n",
       "  </thead>\n",
       "  <tbody>\n",
       "    <tr>\n",
       "      <th>2023-03-08</th>\n",
       "      <td>152.810</td>\n",
       "      <td>153.4700</td>\n",
       "      <td>151.83</td>\n",
       "      <td>152.87</td>\n",
       "      <td>47204791.0</td>\n",
       "    </tr>\n",
       "    <tr>\n",
       "      <th>2023-03-07</th>\n",
       "      <td>153.700</td>\n",
       "      <td>154.0299</td>\n",
       "      <td>151.13</td>\n",
       "      <td>151.60</td>\n",
       "      <td>56182028.0</td>\n",
       "    </tr>\n",
       "    <tr>\n",
       "      <th>2023-03-06</th>\n",
       "      <td>153.785</td>\n",
       "      <td>156.3000</td>\n",
       "      <td>153.46</td>\n",
       "      <td>153.83</td>\n",
       "      <td>87558028.0</td>\n",
       "    </tr>\n",
       "  </tbody>\n",
       "</table>\n",
       "</div>"
      ],
      "text/plain": [
       "               Open      High     Low   Close      Volume\n",
       "Date                                                     \n",
       "2023-03-08  152.810  153.4700  151.83  152.87  47204791.0\n",
       "2023-03-07  153.700  154.0299  151.13  151.60  56182028.0\n",
       "2023-03-06  153.785  156.3000  153.46  153.83  87558028.0"
      ]
     },
     "metadata": {},
     "output_type": "display_data"
    },
    {
     "data": {
      "image/png": "[encoded data removed]",
      "text/plain": [
       "<Figure size 640x480 with 1 Axes>"
      ]
     },
     "metadata": {},
     "output_type": "display_data"
    }
   ],
   "source": [
    "stocks = data.DataReader(\n",
    "    name=\"AAPL\", data_source=\"stooq\", start=\"2010-01-01\", end=\"2023-03-09\"\n",
    ")\n",
    "\n",
    "display(stocks.head(3))\n",
    "\n",
    "x = stocks.index\n",
    "y = stocks.Close\n",
    "plt.plot(x, y)\n",
    "plt.show()"
   ]
  },
  {
   "cell_type": "code",
   "execution_count": 57,
   "id": "75f87ea8-2e4e-4962-b87c-abd5c6820528",
   "metadata": {},
   "outputs": [
    {
     "data": {
      "text/plain": [
       "[DatetimeIndex(['2023-03-08', '2023-03-07', '2023-03-06', '2023-03-03',\n",
       "                '2023-03-02', '2023-03-01', '2023-02-28', '2023-02-27',\n",
       "                '2023-02-24', '2023-02-23',\n",
       "                ...\n",
       "                '2010-01-15', '2010-01-14', '2010-01-13', '2010-01-12',\n",
       "                '2010-01-11', '2010-01-08', '2010-01-07', '2010-01-06',\n",
       "                '2010-01-05', '2010-01-04'],\n",
       "               dtype='datetime64[ns]', name='Date', length=3317, freq=None),\n",
       " Index(['Open', 'High', 'Low', 'Close', 'Volume'], dtype='object')]"
      ]
     },
     "execution_count": 57,
     "metadata": {},
     "output_type": "execute_result"
    }
   ],
   "source": [
    "stocks.index\n",
    "stocks.axes"
   ]
  },
  {
   "cell_type": "markdown",
   "id": "92da5fab-a880-499e-a509-a7a05f2e87c8",
   "metadata": {},
   "source": [
    "### Selecting rows from a `DataFrame` with `DatetimeIndex`"
   ]
  },
  {
   "cell_type": "code",
   "execution_count": 76,
   "id": "b4d166e9-95ac-4910-8ccd-4ec822f115c4",
   "metadata": {},
   "outputs": [
    {
     "data": {
      "text/html": [
       "<div>\n",
       "<style scoped>\n",
       "    .dataframe tbody tr th:only-of-type {\n",
       "        vertical-align: middle;\n",
       "    }\n",
       "\n",
       "    .dataframe tbody tr th {\n",
       "        vertical-align: top;\n",
       "    }\n",
       "\n",
       "    .dataframe thead th {\n",
       "        text-align: right;\n",
       "    }\n",
       "</style>\n",
       "<table border=\"1\" class=\"dataframe\">\n",
       "  <thead>\n",
       "    <tr style=\"text-align: right;\">\n",
       "      <th></th>\n",
       "      <th>Open</th>\n",
       "      <th>High</th>\n",
       "      <th>Low</th>\n",
       "      <th>Close</th>\n",
       "      <th>Volume</th>\n",
       "    </tr>\n",
       "    <tr>\n",
       "      <th>Date</th>\n",
       "      <th></th>\n",
       "      <th></th>\n",
       "      <th></th>\n",
       "      <th></th>\n",
       "      <th></th>\n",
       "    </tr>\n",
       "  </thead>\n",
       "  <tbody>\n",
       "    <tr>\n",
       "      <th>2018-03-22</th>\n",
       "      <td>40.5762</td>\n",
       "      <td>41.2173</td>\n",
       "      <td>40.2442</td>\n",
       "      <td>40.3060</td>\n",
       "      <td>1.738240e+08</td>\n",
       "    </tr>\n",
       "    <tr>\n",
       "      <th>2018-03-21</th>\n",
       "      <td>41.7836</td>\n",
       "      <td>41.7955</td>\n",
       "      <td>40.8763</td>\n",
       "      <td>40.8783</td>\n",
       "      <td>1.552402e+08</td>\n",
       "    </tr>\n",
       "    <tr>\n",
       "      <th>2018-03-20</th>\n",
       "      <td>41.8324</td>\n",
       "      <td>42.1973</td>\n",
       "      <td>41.7576</td>\n",
       "      <td>41.8324</td>\n",
       "      <td>8.232019e+07</td>\n",
       "    </tr>\n",
       "    <tr>\n",
       "      <th>2018-03-19</th>\n",
       "      <td>42.3229</td>\n",
       "      <td>42.3598</td>\n",
       "      <td>41.4515</td>\n",
       "      <td>41.8444</td>\n",
       "      <td>1.401240e+08</td>\n",
       "    </tr>\n",
       "  </tbody>\n",
       "</table>\n",
       "</div>"
      ],
      "text/plain": [
       "               Open     High      Low    Close        Volume\n",
       "Date                                                        \n",
       "2018-03-22  40.5762  41.2173  40.2442  40.3060  1.738240e+08\n",
       "2018-03-21  41.7836  41.7955  40.8763  40.8783  1.552402e+08\n",
       "2018-03-20  41.8324  42.1973  41.7576  41.8324  8.232019e+07\n",
       "2018-03-19  42.3229  42.3598  41.4515  41.8444  1.401240e+08"
      ]
     },
     "execution_count": 76,
     "metadata": {},
     "output_type": "execute_result"
    }
   ],
   "source": [
    "stocks.loc[\"2018-03-19\"]\n",
    "stocks.loc[pd.Timestamp(\"2018-03-19\")]\n",
    "stocks.iloc[0]\n",
    "\n",
    "stocks.loc[[\"2018-03-19\", \"2018-03-20\"]]\n",
    "stocks.loc[[pd.Timestamp(\"2018-03-19\"), pd.Timestamp(\"2018-03-20\")]]\n",
    "\n",
    "\n",
    "stocks.loc[\"2018-03-19\":\"2018-03-22\"]"
   ]
  },
  {
   "cell_type": "code",
   "execution_count": 82,
   "id": "2d9ee1e8-4abc-4ca0-917a-9ae9278ac8fe",
   "metadata": {},
   "outputs": [
    {
     "data": {
      "text/html": [
       "<div>\n",
       "<style scoped>\n",
       "    .dataframe tbody tr th:only-of-type {\n",
       "        vertical-align: middle;\n",
       "    }\n",
       "\n",
       "    .dataframe tbody tr th {\n",
       "        vertical-align: top;\n",
       "    }\n",
       "\n",
       "    .dataframe thead th {\n",
       "        text-align: right;\n",
       "    }\n",
       "</style>\n",
       "<table border=\"1\" class=\"dataframe\">\n",
       "  <thead>\n",
       "    <tr style=\"text-align: right;\">\n",
       "      <th></th>\n",
       "      <th>Open</th>\n",
       "      <th>High</th>\n",
       "      <th>Low</th>\n",
       "      <th>Close</th>\n",
       "      <th>Volume</th>\n",
       "    </tr>\n",
       "    <tr>\n",
       "      <th>Date</th>\n",
       "      <th></th>\n",
       "      <th></th>\n",
       "      <th></th>\n",
       "      <th></th>\n",
       "      <th></th>\n",
       "    </tr>\n",
       "  </thead>\n",
       "  <tbody>\n",
       "    <tr>\n",
       "      <th>2022-12-05</th>\n",
       "      <td>147.7700</td>\n",
       "      <td>150.9199</td>\n",
       "      <td>145.7700</td>\n",
       "      <td>146.6300</td>\n",
       "      <td>6.882644e+07</td>\n",
       "    </tr>\n",
       "    <tr>\n",
       "      <th>2019-12-05</th>\n",
       "      <td>64.6079</td>\n",
       "      <td>65.1194</td>\n",
       "      <td>64.3488</td>\n",
       "      <td>65.0446</td>\n",
       "      <td>7.619382e+07</td>\n",
       "    </tr>\n",
       "    <tr>\n",
       "      <th>2017-12-05</th>\n",
       "      <td>40.1874</td>\n",
       "      <td>40.7737</td>\n",
       "      <td>40.0379</td>\n",
       "      <td>40.3310</td>\n",
       "      <td>1.149085e+08</td>\n",
       "    </tr>\n",
       "    <tr>\n",
       "      <th>2016-12-05</th>\n",
       "      <td>25.7335</td>\n",
       "      <td>25.7405</td>\n",
       "      <td>25.3288</td>\n",
       "      <td>25.5252</td>\n",
       "      <td>1.380482e+08</td>\n",
       "    </tr>\n",
       "    <tr>\n",
       "      <th>2014-12-05</th>\n",
       "      <td>26.1004</td>\n",
       "      <td>26.1224</td>\n",
       "      <td>25.7953</td>\n",
       "      <td>25.8831</td>\n",
       "      <td>1.702354e+08</td>\n",
       "    </tr>\n",
       "    <tr>\n",
       "      <th>2013-12-05</th>\n",
       "      <td>18.0310</td>\n",
       "      <td>18.1088</td>\n",
       "      <td>17.8326</td>\n",
       "      <td>17.8804</td>\n",
       "      <td>5.071025e+08</td>\n",
       "    </tr>\n",
       "    <tr>\n",
       "      <th>2012-12-05</th>\n",
       "      <td>17.4737</td>\n",
       "      <td>17.4837</td>\n",
       "      <td>16.5495</td>\n",
       "      <td>16.5495</td>\n",
       "      <td>1.213760e+09</td>\n",
       "    </tr>\n",
       "    <tr>\n",
       "      <th>2011-12-05</th>\n",
       "      <td>11.9774</td>\n",
       "      <td>12.0672</td>\n",
       "      <td>11.8848</td>\n",
       "      <td>11.9636</td>\n",
       "      <td>4.189027e+08</td>\n",
       "    </tr>\n",
       "  </tbody>\n",
       "</table>\n",
       "</div>"
      ],
      "text/plain": [
       "                Open      High       Low     Close        Volume\n",
       "Date                                                            \n",
       "2022-12-05  147.7700  150.9199  145.7700  146.6300  6.882644e+07\n",
       "2019-12-05   64.6079   65.1194   64.3488   65.0446  7.619382e+07\n",
       "2017-12-05   40.1874   40.7737   40.0379   40.3310  1.149085e+08\n",
       "2016-12-05   25.7335   25.7405   25.3288   25.5252  1.380482e+08\n",
       "2014-12-05   26.1004   26.1224   25.7953   25.8831  1.702354e+08\n",
       "2013-12-05   18.0310   18.1088   17.8326   17.8804  5.071025e+08\n",
       "2012-12-05   17.4737   17.4837   16.5495   16.5495  1.213760e+09\n",
       "2011-12-05   11.9774   12.0672   11.8848   11.9636  4.189027e+08"
      ]
     },
     "execution_count": 82,
     "metadata": {},
     "output_type": "execute_result"
    }
   ],
   "source": [
    "birthdays = pd.date_range(\n",
    "    start=\"1989-12-05\", end=\"2023-03-09\", freq=pd.DateOffset(years=1)\n",
    ")\n",
    "mask = stocks.index.isin(birthdays)\n",
    "stocks[mask]\n",
    "stocks.loc[mask]"
   ]
  },
  {
   "cell_type": "markdown",
   "id": "1cac3c54-e9da-462c-9091-a9dd6547779c",
   "metadata": {},
   "source": [
    "### `Timestamp` Object Attributes and Methods"
   ]
  },
  {
   "cell_type": "code",
   "execution_count": 94,
   "id": "7b871aa9-21e4-46b2-851e-3d8fda696179",
   "metadata": {},
   "outputs": [
    {
     "data": {
      "text/plain": [
       "False"
      ]
     },
     "execution_count": 94,
     "metadata": {},
     "output_type": "execute_result"
    }
   ],
   "source": [
    "someday = stocks.index[500]\n",
    "someday.month\n",
    "someday.year\n",
    "someday.week\n",
    "someday.second\n",
    "someday.is_quarter_start"
   ]
  },
  {
   "cell_type": "code",
   "execution_count": 102,
   "id": "f7e048d3-f5a7-4801-b3e4-d1057da05a5f",
   "metadata": {},
   "outputs": [
    {
     "data": {
      "text/plain": [
       "Index(['Wednesday', 'Tuesday', 'Monday', 'Friday', 'Thursday', 'Wednesday',\n",
       "       'Tuesday', 'Monday', 'Friday', 'Thursday',\n",
       "       ...\n",
       "       'Friday', 'Thursday', 'Wednesday', 'Tuesday', 'Monday', 'Friday',\n",
       "       'Thursday', 'Wednesday', 'Tuesday', 'Monday'],\n",
       "      dtype='object', name='Date', length=3317)"
      ]
     },
     "execution_count": 102,
     "metadata": {},
     "output_type": "execute_result"
    }
   ],
   "source": [
    "someday.weekday()\n",
    "someday.month_name()\n",
    "someday.day_name()\n",
    "\n",
    "stocks.index.day_name()"
   ]
  },
  {
   "cell_type": "code",
   "execution_count": 109,
   "id": "05c5b251-7437-4145-a3b8-70eb7f07e7ee",
   "metadata": {
    "collapsed": true,
    "jupyter": {
     "outputs_hidden": true
    },
    "tags": []
   },
   "outputs": [
    {
     "ename": "ValueError",
     "evalue": "cannot insert Day of week, already exists",
     "output_type": "error",
     "traceback": [
      "\u001b[0;31m---------------------------------------------------------------------------\u001b[0m",
      "\u001b[0;31mValueError\u001b[0m                                Traceback (most recent call last)",
      "Cell \u001b[0;32mIn[109], line 1\u001b[0m\n\u001b[0;32m----> 1\u001b[0m \u001b[43mstocks\u001b[49m\u001b[38;5;241;43m.\u001b[39;49m\u001b[43minsert\u001b[49m\u001b[43m(\u001b[49m\u001b[38;5;241;43m0\u001b[39;49m\u001b[43m,\u001b[49m\u001b[43m \u001b[49m\u001b[43mcolumn\u001b[49m\u001b[38;5;241;43m=\u001b[39;49m\u001b[38;5;124;43m\"\u001b[39;49m\u001b[38;5;124;43mDay of week\u001b[39;49m\u001b[38;5;124;43m\"\u001b[39;49m\u001b[43m,\u001b[49m\u001b[43m \u001b[49m\u001b[43mvalue\u001b[49m\u001b[38;5;241;43m=\u001b[39;49m\u001b[43mstocks\u001b[49m\u001b[38;5;241;43m.\u001b[39;49m\u001b[43mindex\u001b[49m\u001b[38;5;241;43m.\u001b[39;49m\u001b[43mday_name\u001b[49m\u001b[43m(\u001b[49m\u001b[43m)\u001b[49m\u001b[43m)\u001b[49m\n\u001b[1;32m      2\u001b[0m stocks\u001b[38;5;241m.\u001b[39minsert(\u001b[38;5;241m1\u001b[39m, column\u001b[38;5;241m=\u001b[39m\u001b[38;5;124m\"\u001b[39m\u001b[38;5;124mIs start of Month\u001b[39m\u001b[38;5;124m\"\u001b[39m, value\u001b[38;5;241m=\u001b[39mstocks\u001b[38;5;241m.\u001b[39mindex\u001b[38;5;241m.\u001b[39mis_month_start)\n\u001b[1;32m      3\u001b[0m stocks[stocks[\u001b[38;5;124m\"\u001b[39m\u001b[38;5;124mIs start of Month\u001b[39m\u001b[38;5;124m\"\u001b[39m]]\u001b[38;5;241m.\u001b[39mhead(\u001b[38;5;241m3\u001b[39m)\n",
      "File \u001b[0;32m~/opt/anaconda3/envs/pandas_playground/lib/python3.10/site-packages/pandas/core/frame.py:4814\u001b[0m, in \u001b[0;36mDataFrame.insert\u001b[0;34m(self, loc, column, value, allow_duplicates)\u001b[0m\n\u001b[1;32m   4808\u001b[0m     \u001b[38;5;28;01mraise\u001b[39;00m \u001b[38;5;167;01mValueError\u001b[39;00m(\n\u001b[1;32m   4809\u001b[0m         \u001b[38;5;124m\"\u001b[39m\u001b[38;5;124mCannot specify \u001b[39m\u001b[38;5;124m'\u001b[39m\u001b[38;5;124mallow_duplicates=True\u001b[39m\u001b[38;5;124m'\u001b[39m\u001b[38;5;124m when \u001b[39m\u001b[38;5;124m\"\u001b[39m\n\u001b[1;32m   4810\u001b[0m         \u001b[38;5;124m\"\u001b[39m\u001b[38;5;124m'\u001b[39m\u001b[38;5;124mself.flags.allows_duplicate_labels\u001b[39m\u001b[38;5;124m'\u001b[39m\u001b[38;5;124m is False.\u001b[39m\u001b[38;5;124m\"\u001b[39m\n\u001b[1;32m   4811\u001b[0m     )\n\u001b[1;32m   4812\u001b[0m \u001b[38;5;28;01mif\u001b[39;00m \u001b[38;5;129;01mnot\u001b[39;00m allow_duplicates \u001b[38;5;129;01mand\u001b[39;00m column \u001b[38;5;129;01min\u001b[39;00m \u001b[38;5;28mself\u001b[39m\u001b[38;5;241m.\u001b[39mcolumns:\n\u001b[1;32m   4813\u001b[0m     \u001b[38;5;66;03m# Should this be a different kind of error??\u001b[39;00m\n\u001b[0;32m-> 4814\u001b[0m     \u001b[38;5;28;01mraise\u001b[39;00m \u001b[38;5;167;01mValueError\u001b[39;00m(\u001b[38;5;124mf\u001b[39m\u001b[38;5;124m\"\u001b[39m\u001b[38;5;124mcannot insert \u001b[39m\u001b[38;5;132;01m{\u001b[39;00mcolumn\u001b[38;5;132;01m}\u001b[39;00m\u001b[38;5;124m, already exists\u001b[39m\u001b[38;5;124m\"\u001b[39m)\n\u001b[1;32m   4815\u001b[0m \u001b[38;5;28;01mif\u001b[39;00m \u001b[38;5;129;01mnot\u001b[39;00m \u001b[38;5;28misinstance\u001b[39m(loc, \u001b[38;5;28mint\u001b[39m):\n\u001b[1;32m   4816\u001b[0m     \u001b[38;5;28;01mraise\u001b[39;00m \u001b[38;5;167;01mTypeError\u001b[39;00m(\u001b[38;5;124m\"\u001b[39m\u001b[38;5;124mloc must be int\u001b[39m\u001b[38;5;124m\"\u001b[39m)\n",
      "\u001b[0;31mValueError\u001b[0m: cannot insert Day of week, already exists"
     ]
    }
   ],
   "source": [
    "stocks.insert(0, column=\"Day of week\", value=stocks.index.day_name())\n",
    "stocks.insert(1, column=\"Is start of Month\", value=stocks.index.is_month_start)\n",
    "stocks[stocks[\"Is start of Month\"]].head(3)"
   ]
  },
  {
   "cell_type": "markdown",
   "id": "86371bb2-7229-4486-a87e-8dbb4c584b77",
   "metadata": {},
   "source": [
    "### The `pd.DateOffset` object"
   ]
  },
  {
   "cell_type": "code",
   "execution_count": 112,
   "id": "20df4ca0-8071-4cef-be93-d6c33726e569",
   "metadata": {},
   "outputs": [
    {
     "data": {
      "text/plain": [
       "DatetimeIndex(['2024-03-08', '2024-03-07', '2024-03-06', '2024-03-03',\n",
       "               '2024-03-02', '2024-03-01', '2024-02-28', '2024-02-27',\n",
       "               '2024-02-24', '2024-02-23',\n",
       "               ...\n",
       "               '2011-01-15', '2011-01-14', '2011-01-13', '2011-01-12',\n",
       "               '2011-01-11', '2011-01-08', '2011-01-07', '2011-01-06',\n",
       "               '2011-01-05', '2011-01-04'],\n",
       "              dtype='datetime64[ns]', name='Date', length=3317, freq=None)"
      ]
     },
     "execution_count": 112,
     "metadata": {},
     "output_type": "execute_result"
    }
   ],
   "source": [
    "stocks.index + pd.DateOffset(years=1)"
   ]
  },
  {
   "cell_type": "markdown",
   "id": "5f7c8598-644e-4d78-a9a4-83a2745294cd",
   "metadata": {},
   "source": [
    "### The Timeseries Offsets"
   ]
  },
  {
   "cell_type": "code",
   "execution_count": 121,
   "id": "1cec4bed-cfb4-4b46-90dd-18e385fc366f",
   "metadata": {},
   "outputs": [
    {
     "data": {
      "text/plain": [
       "DatetimeIndex(['2023-03-09', '2023-03-08', '2023-03-07', '2023-03-06',\n",
       "               '2023-03-03', '2023-03-02', '2023-03-01', '2023-02-28',\n",
       "               '2023-02-27', '2023-02-24',\n",
       "               ...\n",
       "               '2010-01-18', '2010-01-15', '2010-01-14', '2010-01-13',\n",
       "               '2010-01-12', '2010-01-11', '2010-01-08', '2010-01-07',\n",
       "               '2010-01-06', '2010-01-05'],\n",
       "              dtype='datetime64[ns]', name='Date', length=3317, freq=None)"
      ]
     },
     "execution_count": 121,
     "metadata": {},
     "output_type": "execute_result"
    }
   ],
   "source": [
    "stocks.index + pd.tseries.offsets.MonthEnd()\n",
    "stocks.index + pd.tseries.offsets.YearBegin()\n",
    "stocks.index + pd.tseries.offsets.BusinessDay()"
   ]
  },
  {
   "cell_type": "markdown",
   "id": "8bc32156-86a0-48e1-b940-4d7142942938",
   "metadata": {},
   "source": [
    "### The `Timedelta` Object"
   ]
  },
  {
   "cell_type": "markdown",
   "id": "ac02b2ee-83ec-44f2-90ab-b51f39f12791",
   "metadata": {},
   "source": [
    "A duration of time"
   ]
  },
  {
   "cell_type": "code",
   "execution_count": 127,
   "id": "ca3c2c35-a503-495e-b516-508bbc3b2b0a",
   "metadata": {},
   "outputs": [
    {
     "data": {
      "text/plain": [
       "Timedelta('-3 days +19:15:33')"
      ]
     },
     "execution_count": 127,
     "metadata": {},
     "output_type": "execute_result"
    }
   ],
   "source": [
    "time_a = pd.Timestamp(\"2020-03-01 19:15:33\")\n",
    "time_b = pd.Timestamp(\"2020-03-04\")\n",
    "time_b - time_a\n",
    "time_a - time_b"
   ]
  },
  {
   "cell_type": "code",
   "execution_count": 134,
   "id": "fcc9b798-355e-4c0a-9dbd-54afc3bbd63a",
   "metadata": {},
   "outputs": [
    {
     "data": {
      "text/plain": [
       "Timestamp('2020-03-18 19:24:33')"
      ]
     },
     "execution_count": 134,
     "metadata": {},
     "output_type": "execute_result"
    }
   ],
   "source": [
    "time_a + pd.Timedelta(\"3 days, 3 minutes\")\n",
    "time_a + pd.Timedelta(weeks=2, days=3, minutes=9)"
   ]
  },
  {
   "cell_type": "code",
   "execution_count": 150,
   "id": "d0ac121c-adcd-4f4b-b32a-314de8560efe",
   "metadata": {},
   "outputs": [
    {
     "data": {
      "text/html": [
       "<div>\n",
       "<style scoped>\n",
       "    .dataframe tbody tr th:only-of-type {\n",
       "        vertical-align: middle;\n",
       "    }\n",
       "\n",
       "    .dataframe tbody tr th {\n",
       "        vertical-align: top;\n",
       "    }\n",
       "\n",
       "    .dataframe thead th {\n",
       "        text-align: right;\n",
       "    }\n",
       "</style>\n",
       "<table border=\"1\" class=\"dataframe\">\n",
       "  <thead>\n",
       "    <tr style=\"text-align: right;\">\n",
       "      <th></th>\n",
       "      <th>order_date</th>\n",
       "      <th>delivery_date</th>\n",
       "      <th>Time to deliver</th>\n",
       "    </tr>\n",
       "    <tr>\n",
       "      <th>ID</th>\n",
       "      <th></th>\n",
       "      <th></th>\n",
       "      <th></th>\n",
       "    </tr>\n",
       "  </thead>\n",
       "  <tbody>\n",
       "    <tr>\n",
       "      <th>457</th>\n",
       "      <td>1991-06-17</td>\n",
       "      <td>1992-06-18</td>\n",
       "      <td>367 days</td>\n",
       "    </tr>\n",
       "    <tr>\n",
       "      <th>11</th>\n",
       "      <td>1996-07-12</td>\n",
       "      <td>1997-07-14</td>\n",
       "      <td>367 days</td>\n",
       "    </tr>\n",
       "    <tr>\n",
       "      <th>76</th>\n",
       "      <td>1997-05-26</td>\n",
       "      <td>1998-06-05</td>\n",
       "      <td>375 days</td>\n",
       "    </tr>\n",
       "    <tr>\n",
       "      <th>445</th>\n",
       "      <td>1993-02-11</td>\n",
       "      <td>1994-02-24</td>\n",
       "      <td>378 days</td>\n",
       "    </tr>\n",
       "    <tr>\n",
       "      <th>326</th>\n",
       "      <td>1998-05-12</td>\n",
       "      <td>1999-05-29</td>\n",
       "      <td>382 days</td>\n",
       "    </tr>\n",
       "  </tbody>\n",
       "</table>\n",
       "</div>"
      ],
      "text/plain": [
       "    order_date delivery_date Time to deliver\n",
       "ID                                          \n",
       "457 1991-06-17    1992-06-18        367 days\n",
       "11  1996-07-12    1997-07-14        367 days\n",
       "76  1997-05-26    1998-06-05        375 days\n",
       "445 1993-02-11    1994-02-24        378 days\n",
       "326 1998-05-12    1999-05-29        382 days"
      ]
     },
     "execution_count": 150,
     "metadata": {},
     "output_type": "execute_result"
    }
   ],
   "source": [
    "df = pd.read_csv(\n",
    "    file_path + \"ecommerce.csv\",\n",
    "    index_col=\"ID\",\n",
    "    parse_dates=[\"order_date\", \"delivery_date\"],\n",
    ")\n",
    "\n",
    "df[\"Time to deliver\"] = df.delivery_date - df.order_date\n",
    "df = df.sort_values(by=\"Time to deliver\")\n",
    "df[df[\"Time to deliver\"] > \"365 days\"].head()"
   ]
  }
 ],
 "metadata": {
  "kernelspec": {
   "display_name": "pandas_playground",
   "language": "python",
   "name": "pandas_playground"
  },
  "language_info": {
   "codemirror_mode": {
    "name": "ipython",
    "version": 3
   },
   "file_extension": ".py",
   "mimetype": "text/x-python",
   "name": "python",
   "nbconvert_exporter": "python",
   "pygments_lexer": "ipython3",
   "version": "3.10.9"
  }
 },
 "nbformat": 4,
 "nbformat_minor": 5
}
